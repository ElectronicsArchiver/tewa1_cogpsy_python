{
 "cells": [
  {
   "cell_type": "markdown",
   "metadata": {
    "id": "hA8cn7q7HYhK"
   },
   "source": [
    "# TEWA 1 tutorial - neural networks\n",
    "\n",
    "\n",
    "*   compare supervised machine learning methods:\n",
    "logistic regression vs multilayer perceptron using scikit - learn\n",
    "*   keras libarary:\n",
    "\"regular\" neural network vs convolutional neural network\n",
    "\n",
    "\n",
    "### import standard libraries"
   ]
  },
  {
   "cell_type": "code",
   "execution_count": 1,
   "metadata": {
    "id": "PO4zPA7VS3WX"
   },
   "outputs": [],
   "source": [
    "import matplotlib.pyplot as plt\n",
    "import numpy as np"
   ]
  },
  {
   "cell_type": "markdown",
   "metadata": {
    "id": "Mx16npwLHUk6"
   },
   "source": [
    "### Import datasets, classifiers and performance metrics\n"
   ]
  },
  {
   "cell_type": "code",
   "execution_count": 2,
   "metadata": {
    "id": "40zm9FkFHT2m"
   },
   "outputs": [],
   "source": [
    "from sklearn import datasets,  metrics\n",
    "from sklearn.model_selection import train_test_split"
   ]
  },
  {
   "cell_type": "markdown",
   "metadata": {
    "id": "UlLXYsTnHcdh"
   },
   "source": [
    "### load digist dataset from scikit-learn"
   ]
  },
  {
   "cell_type": "code",
   "execution_count": 3,
   "metadata": {
    "id": "WwiE105JS5ix"
   },
   "outputs": [],
   "source": [
    "digits = datasets.load_digits()"
   ]
  },
  {
   "cell_type": "code",
   "execution_count": 4,
   "metadata": {
    "colab": {
     "base_uri": "https://localhost:8080/"
    },
    "id": "qoMGvYUyTHnS",
    "outputId": "336e10b9-902b-4f9a-c392-4e97a80c2c7d"
   },
   "outputs": [
    {
     "data": {
      "text/plain": [
       "(1797, 8, 8)"
      ]
     },
     "execution_count": 4,
     "metadata": {},
     "output_type": "execute_result"
    }
   ],
   "source": [
    "np.shape(digits[ 'images'])"
   ]
  },
  {
   "cell_type": "code",
   "execution_count": 43,
   "metadata": {
    "colab": {
     "base_uri": "https://localhost:8080/",
     "height": 282
    },
    "id": "kywVTyZLoYn6",
    "outputId": "10828735-5ba6-42ba-a480-12ea0846c761"
   },
   "outputs": [
    {
     "data": {
      "text/plain": [
       "<matplotlib.image.AxesImage at 0x7f76781a68e0>"
      ]
     },
     "execution_count": 43,
     "metadata": {},
     "output_type": "execute_result"
    },
    {
     "data": {
      "image/png": "[encoded data removed]",
      "text/plain": [
       "<Figure size 432x288 with 1 Axes>"
      ]
     },
     "metadata": {
      "needs_background": "light"
     },
     "output_type": "display_data"
    }
   ],
   "source": [
    "plt.imshow(digits[ 'images'][1],cmap='Greys')"
   ]
  },
  {
   "cell_type": "code",
   "execution_count": null,
   "metadata": {},
   "outputs": [
    {
     "data": {
      "text/plain": [
       "311"
      ]
     },
     "execution_count": 31,
     "metadata": {},
     "output_type": "execute_result"
    }
   ],
   "source": [
    "random_image"
   ]
  },
  {
   "cell_type": "code",
   "execution_count": 10,
   "metadata": {
    "id": "Jr27c_ReTspM"
   },
   "outputs": [],
   "source": [
    "n_samples = len(digits.images)\n",
    "data = digits.images.reshape((n_samples, -1))"
   ]
  },
  {
   "cell_type": "markdown",
   "metadata": {
    "id": "PoNkOuGAHm4k"
   },
   "source": [
    "### training-test split"
   ]
  },
  {
   "cell_type": "code",
   "execution_count": 11,
   "metadata": {
    "id": "XM2Yh-W3Hnak"
   },
   "outputs": [],
   "source": [
    "# Split data into 50% train and 50% test subsets\n",
    "x_train, x_test, y_train, y_test = train_test_split(\n",
    "    data, digits.target, test_size=0.2, shuffle=False\n",
    ")"
   ]
  },
  {
   "cell_type": "markdown",
   "metadata": {
    "id": "MhTleGRAIQp4"
   },
   "source": [
    "## fit logisitic regression"
   ]
  },
  {
   "cell_type": "code",
   "execution_count": 55,
   "metadata": {},
   "outputs": [
    {
     "name": "stdout",
     "output_type": "stream",
     "text": [
      "R² on train set: 1.000\n",
      "R² on test set: 0.908\n"
     ]
    },
    {
     "name": "stderr",
     "output_type": "stream",
     "text": [
      "/home/user/miniconda3/envs/ml/lib/python3.9/site-packages/sklearn/linear_model/_sag.py:352: ConvergenceWarning: The max_iter was reached which means the coef_ did not converge\n",
      "  warnings.warn(\n"
     ]
    }
   ],
   "source": [
    "from sklearn.linear_model import LogisticRegression\n",
    "\n",
    "logreg = LogisticRegression(solver='saga', max_iter=100)\n",
    "logreg.fit(x_train, y_train)\n",
    "y_pred = logreg.predict(x_test)\n",
    "\n",
    "print(f\"R² on train set: {logreg.score(x_train, y_train):.3f}\")\n",
    "print(f\"R² on test set: {logreg.score(x_test,y_test):.3f}\")"
   ]
  },
  {
   "cell_type": "code",
   "execution_count": 74,
   "metadata": {},
   "outputs": [
    {
     "data": {
      "text/plain": [
       "Text(0.5, 1.0, 'Prediction: 6')"
      ]
     },
     "execution_count": 74,
     "metadata": {},
     "output_type": "execute_result"
    },
    {
     "data": {
      "image/png": "[encoded data removed]",
      "text/plain": [
       "<Figure size 432x288 with 1 Axes>"
      ]
     },
     "metadata": {
      "needs_background": "light"
     },
     "output_type": "display_data"
    }
   ],
   "source": [
    "random_image = np.random.choice(len(x_test))\n",
    "\n",
    "plt.imshow(x_test[random_image].reshape((8, 8)), cmap = \"Greys\")\n",
    "plt.title(f\"Prediction: {y_pred[random_image]}\")"
   ]
  },
  {
   "cell_type": "markdown",
   "metadata": {
    "id": "Jj6oahpxIefQ"
   },
   "source": [
    "### fit multilayer perceptior"
   ]
  },
  {
   "cell_type": "code",
   "execution_count": 177,
   "metadata": {
    "colab": {
     "base_uri": "https://localhost:8080/"
    },
    "id": "YgXcQJyvVL0n",
    "outputId": "4f593967-6b60-4013-fd2d-1e06c9eb2cec"
   },
   "outputs": [
    {
     "name": "stdout",
     "output_type": "stream",
     "text": [
      "R² on train set: 1.000\n",
      "R² on test set: 0.914\n"
     ]
    },
    {
     "name": "stderr",
     "output_type": "stream",
     "text": [
      "/home/user/miniconda3/envs/ml/lib/python3.9/site-packages/sklearn/neural_network/_multilayer_perceptron.py:692: ConvergenceWarning: Stochastic Optimizer: Maximum iterations (100) reached and the optimization hasn't converged yet.\n",
      "  warnings.warn(\n"
     ]
    }
   ],
   "source": [
    "from sklearn.neural_network import MLPClassifier\n",
    "\n",
    "MLP = MLPClassifier(max_iter=100)\n",
    "MLP.fit(x_train,y_train)\n",
    "y_pred_MLP = MLP.predict(x_test)\n",
    "\n",
    "print(f\"R² on train set: {MLP.score(x_train, y_train):.3f}\")\n",
    "print(f\"R² on test set: {MLP.score(x_test,y_test):.3f}\")"
   ]
  },
  {
   "cell_type": "code",
   "execution_count": 178,
   "metadata": {},
   "outputs": [
    {
     "data": {
      "text/plain": [
       "Text(0.5, 1.0, 'Prediction: 6')"
      ]
     },
     "execution_count": 178,
     "metadata": {},
     "output_type": "execute_result"
    },
    {
     "data": {
      "image/png": "[encoded data removed]",
      "text/plain": [
       "<Figure size 432x288 with 1 Axes>"
      ]
     },
     "metadata": {
      "needs_background": "light"
     },
     "output_type": "display_data"
    }
   ],
   "source": [
    "plt.imshow(x_test[random_image].reshape((8, 8)), cmap = \"Greys\")\n",
    "plt.title(f\"Prediction: {y_pred_MLP[random_image]}\")"
   ]
  },
  {
   "cell_type": "markdown",
   "metadata": {
    "id": "eetGg_F5I3YB"
   },
   "source": [
    "### import a more interesting dataset\n",
    "from the keras libarary we can import cifar10\n",
    "\n",
    "\n",
    "https://www.cs.toronto.edu/~kriz/cifar.html\n"
   ]
  },
  {
   "cell_type": "code",
   "execution_count": 179,
   "metadata": {},
   "outputs": [
    {
     "data": {
      "text/plain": [
       "<matplotlib.image.AxesImage at 0x7f7631faed60>"
      ]
     },
     "execution_count": 179,
     "metadata": {},
     "output_type": "execute_result"
    },
    {
     "data": {
      "image/png": "[encoded data removed]",
      "text/plain": [
       "<Figure size 432x288 with 1 Axes>"
      ]
     },
     "metadata": {
      "needs_background": "light"
     },
     "output_type": "display_data"
    }
   ],
   "source": [
    "from tensorflow import keras\n",
    "\n",
    "(X_train, Y_train), (X_test, Y_test) = keras.datasets.cifar10.load_data()\n",
    "\n",
    "plt.imshow(X_train[4])"
   ]
  },
  {
   "cell_type": "code",
   "execution_count": 180,
   "metadata": {
    "colab": {
     "base_uri": "https://localhost:8080/"
    },
    "id": "bEFYo2WnV6qX",
    "outputId": "bc4e603b-16f0-4f62-eafd-84d65d1695e5"
   },
   "outputs": [
    {
     "data": {
      "text/plain": [
       "(50000, 32, 32, 3)"
      ]
     },
     "execution_count": 180,
     "metadata": {},
     "output_type": "execute_result"
    }
   ],
   "source": [
    "### preprocessing\n",
    "\n",
    "X_train = X_train / 255.0     \n",
    "X_train_arr = X_train.reshape(X_train.shape[0], -1) \n",
    "\n",
    "X_test = X_test / 255.0\n",
    "X_test_arr = X_test.reshape(X_test.shape[0], -1)\n",
    "\n",
    "np.shape(X_train)"
   ]
  },
  {
   "cell_type": "code",
   "execution_count": 181,
   "metadata": {
    "id": "nNBiRB7QrsjE"
   },
   "outputs": [],
   "source": [
    "labels = {0: 'plane',\n",
    "          1: 'car',\n",
    "          2: 'bird',\n",
    "          3: 'cat',\n",
    "          4: 'deer',\n",
    "          5: 'dog',\n",
    "          6: 'frog',\n",
    "          7: 'horse',\n",
    "          8: 'ship',\n",
    "          9: 'truck'\n",
    "          }"
   ]
  },
  {
   "cell_type": "markdown",
   "metadata": {
    "id": "M8PCX9MtK8A0"
   },
   "source": [
    "### visualize 5 examples of 5 categories"
   ]
  },
  {
   "cell_type": "code",
   "execution_count": 240,
   "metadata": {},
   "outputs": [
    {
     "data": {
      "text/plain": [
       "1.0"
      ]
     },
     "execution_count": 240,
     "metadata": {},
     "output_type": "execute_result"
    }
   ],
   "source": []
  },
  {
   "cell_type": "code",
   "execution_count": 241,
   "metadata": {},
   "outputs": [
    {
     "data": {
      "text/plain": [
       "0.0"
      ]
     },
     "execution_count": 241,
     "metadata": {},
     "output_type": "execute_result"
    }
   ],
   "source": []
  },
  {
   "cell_type": "code",
   "execution_count": 248,
   "metadata": {},
   "outputs": [
    {
     "data": {
      "text/plain": [
       "3"
      ]
     },
     "execution_count": 248,
     "metadata": {},
     "output_type": "execute_result"
    }
   ],
   "source": [
    "row"
   ]
  },
  {
   "cell_type": "code",
   "execution_count": 264,
   "metadata": {},
   "outputs": [
    {
     "data": {
      "image/png": "[encoded data removed]",
      "text/plain": [
       "<Figure size 432x432 with 9 Axes>"
      ]
     },
     "metadata": {
      "needs_background": "light"
     },
     "output_type": "display_data"
    }
   ],
   "source": [
    "cols = 3\n",
    "rows = 3\n",
    "\n",
    "np.random.seed(0)\n",
    "\n",
    "fig, axs = plt.subplots(cols, rows, figsize = (6, 6), sharex=True, sharey=True,)\n",
    "\n",
    "for cat in set(Y_train.ravel()):\n",
    "    row = int(np.floor(cat / rows))\n",
    "    col = int(np.ceil(cat % cols))\n",
    "    if row == rows:\n",
    "        break\n",
    "    i = np.random.choice(np.where(Y_train.ravel() == cat)[0])\n",
    "    axs[col, row].imshow(X_train[i], )\n",
    "    axs[col, row].set_title(f\"{labels[cat]}\")\n",
    "    \n",
    "fig.tight_layout()"
   ]
  },
  {
   "cell_type": "markdown",
   "metadata": {
    "id": "23KWnZKNLFbD"
   },
   "source": [
    "## fit multilayer perceptron to the data and evaluate the fit\n",
    "\n",
    "optional here: confusion matrix"
   ]
  },
  {
   "cell_type": "code",
   "execution_count": 259,
   "metadata": {
    "id": "Lg6fDcxrLE__"
   },
   "outputs": [
    {
     "name": "stderr",
     "output_type": "stream",
     "text": [
      "/home/user/miniconda3/envs/ml/lib/python3.9/site-packages/sklearn/neural_network/_multilayer_perceptron.py:1109: DataConversionWarning: A column-vector y was passed when a 1d array was expected. Please change the shape of y to (n_samples, ), for example using ravel().\n",
      "  y = column_or_1d(y, warn=True)\n",
      "/home/user/miniconda3/envs/ml/lib/python3.9/site-packages/sklearn/neural_network/_multilayer_perceptron.py:692: ConvergenceWarning: Stochastic Optimizer: Maximum iterations (20) reached and the optimization hasn't converged yet.\n",
      "  warnings.warn(\n"
     ]
    },
    {
     "data": {
      "text/plain": [
       "MLPClassifier(max_iter=20)"
      ]
     },
     "execution_count": 259,
     "metadata": {},
     "output_type": "execute_result"
    }
   ],
   "source": [
    "MLP = MLPClassifier(max_iter = 20)\n",
    "MLP.fit(X_train_arr, Y_train)"
   ]
  },
  {
   "cell_type": "code",
   "execution_count": 261,
   "metadata": {
    "id": "Lg6fDcxrLE__"
   },
   "outputs": [
    {
     "name": "stdout",
     "output_type": "stream",
     "text": [
      "R² on train set: 0.416\n",
      "R² on test set: 0.405\n"
     ]
    }
   ],
   "source": [
    "print(f\"R² on train set: {MLP.score(X_train_arr, Y_train):.3f}\")\n",
    "print(f\"R² on test set: {MLP.score(X_test_arr, Y_test):.3f}\")"
   ]
  },
  {
   "cell_type": "code",
   "execution_count": 267,
   "metadata": {},
   "outputs": [
    {
     "data": {
      "image/png": "[encoded data removed]",
      "text/plain": [
       "<Figure size 432x432 with 9 Axes>"
      ]
     },
     "metadata": {
      "needs_background": "light"
     },
     "output_type": "display_data"
    }
   ],
   "source": [
    "y_test_pred = MLP.predict(X_test_arr)\n",
    "\n",
    "fig, axs = plt.subplots(cols, rows, figsize = (6, 6), sharex=True, sharey=True,)\n",
    "\n",
    "for cat in set(y_test_pred.ravel()):\n",
    "    row = int(np.floor(cat / rows))\n",
    "    col = int(np.ceil(cat % cols))\n",
    "    if row == rows:\n",
    "        break\n",
    "    i = np.random.choice(np.where(y_test_pred.ravel() == cat)[0])\n",
    "    axs[col, row].imshow(X_test[i], )\n",
    "    axs[col, row].set_title(f\"{labels[cat]}\")\n",
    "    \n",
    "fig.tight_layout()"
   ]
  },
  {
   "cell_type": "markdown",
   "metadata": {
    "id": "W1Ke7G-FLNZ_"
   },
   "source": [
    "## fit neural network with keras"
   ]
  },
  {
   "cell_type": "code",
   "execution_count": null,
   "metadata": {
    "id": "2YUyHmX2LtSp"
   },
   "outputs": [],
   "source": [
    "from tensorflow.keras.models import Sequential\n",
    "from tensorflow.keras.layers import Dense"
   ]
  },
  {
   "cell_type": "markdown",
   "metadata": {
    "id": "GY9IBZkFL8Rj"
   },
   "source": [
    "### set up network"
   ]
  },
  {
   "cell_type": "code",
   "execution_count": null,
   "metadata": {
    "id": "jb-q-J8JLXtn"
   },
   "outputs": [],
   "source": [
    "NN_model = Sequential()\n",
    "NN_model.add(Dense(30 , input_dim=#your dimensions, activation='relu'))\n",
    "NN_model.add(Dense(10, activation='softmax'))"
   ]
  },
  {
   "cell_type": "markdown",
   "metadata": {
    "id": "V6JyK9ZzL-xR"
   },
   "source": [
    "### compile"
   ]
  },
  {
   "cell_type": "code",
   "execution_count": null,
   "metadata": {
    "id": "l7eD2pVLLhwA"
   },
   "outputs": [],
   "source": [
    "NN_model.compile(loss='categorical_crossentropy', optimizer='adam', metrics=['accuracy'])"
   ]
  },
  {
   "cell_type": "code",
   "execution_count": null,
   "metadata": {
    "id": "eh-kKHqYLjIh"
   },
   "outputs": [],
   "source": [
    "NN_model.fit(#yourX,yourY, epochs=10, validation_split=0.1)"
   ]
  },
  {
   "cell_type": "code",
   "execution_count": null,
   "metadata": {
    "id": "Bc-ILbMkLozQ"
   },
   "outputs": [],
   "source": [
    "_, accuracy = NN_model.evaluate(#your code)\n"
   ]
  },
  {
   "cell_type": "code",
   "execution_count": null,
   "metadata": {
    "id": "LVaImKjYLqIC"
   },
   "outputs": [],
   "source": [
    "NN_model.summary()"
   ]
  },
  {
   "cell_type": "markdown",
   "metadata": {
    "id": "1gJPuR_MLT3u"
   },
   "source": [
    "### fit Convolutional neural network with keras"
   ]
  },
  {
   "cell_type": "code",
   "execution_count": null,
   "metadata": {
    "id": "saHbDV_ALupo"
   },
   "outputs": [],
   "source": [
    "from keras.layers import Conv2D, MaxPooling2D, Flatten"
   ]
  },
  {
   "cell_type": "code",
   "execution_count": null,
   "metadata": {
    "id": "gSvwVP_6MKSW"
   },
   "outputs": [],
   "source": [
    "\n",
    "model_CNN = Sequential()\n",
    "\n",
    "model_CNN.add(Conv2D(filters=64, kernel_size=2, padding='same', activation='relu', input_shape=# your dimensions)) \n",
    "model_CNN.add(MaxPooling2D(pool_size=2))\n",
    "model_CNN.add(Flatten())\n",
    "model_CNN.add(Dense(10, activation='softmax'))"
   ]
  },
  {
   "cell_type": "markdown",
   "metadata": {
    "id": "ETvQbpiIMXGo"
   },
   "source": [
    "### compile model"
   ]
  },
  {
   "cell_type": "code",
   "execution_count": null,
   "metadata": {
    "id": "SZtt-f-yMU_Q"
   },
   "outputs": [],
   "source": [
    "model_CNN.compile(loss='categorical_crossentropy', optimizer='adam', metrics=['accuracy'])"
   ]
  },
  {
   "cell_type": "markdown",
   "metadata": {
    "id": "v9Lp-ZDhMZU_"
   },
   "source": [
    "### fit model"
   ]
  },
  {
   "cell_type": "code",
   "execution_count": null,
   "metadata": {
    "id": "kMti5Vu1MbMT"
   },
   "outputs": [],
   "source": [
    "model_CNN.fit(#your code, your code, epochs=5, validation_split=0.1)"
   ]
  },
  {
   "cell_type": "code",
   "execution_count": null,
   "metadata": {
    "id": "WVpP_RC9MiFX"
   },
   "outputs": [],
   "source": [
    "_, accuracy = model_CNN.evaluate(# your test data)\n",
    "print(accuracy)"
   ]
  },
  {
   "cell_type": "code",
   "execution_count": null,
   "metadata": {
    "id": "L6Fqs2S9Mlct"
   },
   "outputs": [],
   "source": [
    "Preds=model_CNN.predict(# your data)\n"
   ]
  },
  {
   "cell_type": "markdown",
   "metadata": {
    "id": "UZ5PtlKkMsEr"
   },
   "source": [
    "### confusion matrix on test set\n",
    "include stimulus names"
   ]
  },
  {
   "cell_type": "code",
   "execution_count": null,
   "metadata": {
    "id": "H0GYYctVMqg7"
   },
   "outputs": [],
   "source": []
  },
  {
   "cell_type": "markdown",
   "metadata": {
    "id": "q3Bq97hHT-Ab"
   },
   "source": [
    "explore CNN parameters, and how changing them might improve classification on test set"
   ]
  },
  {
   "cell_type": "code",
   "execution_count": null,
   "metadata": {
    "id": "kFM0L9N7UC4_"
   },
   "outputs": [],
   "source": []
  }
 ],
 "metadata": {
  "colab": {
   "name": "TEWA-NeuralNetworks.ipynb",
   "provenance": []
  },
  "kernelspec": {
   "display_name": "Python 3 (ipykernel)",
   "language": "python",
   "name": "python3"
  },
  "language_info": {
   "codemirror_mode": {
    "name": "ipython",
    "version": 3
   },
   "file_extension": ".py",
   "mimetype": "text/x-python",
   "name": "python",
   "nbconvert_exporter": "python",
   "pygments_lexer": "ipython3",
   "version": "3.9.7"
  }
 },
 "nbformat": 4,
 "nbformat_minor": 4
}
