{
 "cells": [
  {
   "cell_type": "markdown",
   "metadata": {
    "id": "ii-ZmPsADlaF"
   },
   "source": [
    "## Data analysis tutorial\n",
    "TEWA 1 - 25-04-2022\n",
    "\n",
    " - pandas library for analyzing spreadsheet format data  - DataFrames\n",
    "\n",
    " - visualizing data from pandas\n",
    "\n",
    " - combining pnadas and numpy\n",
    "\n",
    "\n",
    "\n",
    "official resource:\n",
    "\n",
    "https://pandas.pydata.org/docs/getting_started/intro_tutorials/index.html\n",
    "\n",
    "\n",
    "\n",
    "extra resources:\n",
    "https://www.dataquest.io/blog/pandas-cheat-sheet/\n",
    "\n",
    "https://www.datasciencecentral.com/data-science-in-python-pandas-cheat-sheet/\n",
    "\n",
    "\n",
    "\n",
    "\n"
   ]
  },
  {
   "cell_type": "code",
   "execution_count": 2,
   "metadata": {
    "id": "pCvIKupuDdWJ"
   },
   "outputs": [],
   "source": [
    "import numpy as np\n",
    "import pandas as pd\n",
    "import matplotlib.pyplot as plt"
   ]
  },
  {
   "cell_type": "code",
   "execution_count": 3,
   "metadata": {
    "id": "7CYDIA-YEk0P"
   },
   "outputs": [],
   "source": [
    "df = pd.read_csv('data/worldcities.csv')"
   ]
  },
  {
   "cell_type": "code",
   "execution_count": 4,
   "metadata": {
    "colab": {
     "base_uri": "https://localhost:8080/",
     "height": 424
    },
    "id": "42dyWDRNG8CW",
    "outputId": "2393816b-078a-4693-adf8-eccbf381a83e"
   },
   "outputs": [
    {
     "data": {
      "text/html": [
       "<div>\n",
       "<style scoped>\n",
       "    .dataframe tbody tr th:only-of-type {\n",
       "        vertical-align: middle;\n",
       "    }\n",
       "\n",
       "    .dataframe tbody tr th {\n",
       "        vertical-align: top;\n",
       "    }\n",
       "\n",
       "    .dataframe thead th {\n",
       "        text-align: right;\n",
       "    }\n",
       "</style>\n",
       "<table border=\"1\" class=\"dataframe\">\n",
       "  <thead>\n",
       "    <tr style=\"text-align: right;\">\n",
       "      <th></th>\n",
       "      <th>city</th>\n",
       "      <th>city_ascii</th>\n",
       "      <th>lat</th>\n",
       "      <th>lng</th>\n",
       "      <th>country</th>\n",
       "      <th>iso2</th>\n",
       "      <th>iso3</th>\n",
       "      <th>admin_name</th>\n",
       "      <th>capital</th>\n",
       "      <th>population</th>\n",
       "      <th>id</th>\n",
       "    </tr>\n",
       "  </thead>\n",
       "  <tbody>\n",
       "    <tr>\n",
       "      <th>0</th>\n",
       "      <td>Tokyo</td>\n",
       "      <td>Tokyo</td>\n",
       "      <td>35.6839</td>\n",
       "      <td>139.7744</td>\n",
       "      <td>Japan</td>\n",
       "      <td>JP</td>\n",
       "      <td>JPN</td>\n",
       "      <td>Tōkyō</td>\n",
       "      <td>primary</td>\n",
       "      <td>39105000.0</td>\n",
       "      <td>1392685764</td>\n",
       "    </tr>\n",
       "    <tr>\n",
       "      <th>1</th>\n",
       "      <td>Jakarta</td>\n",
       "      <td>Jakarta</td>\n",
       "      <td>-6.2146</td>\n",
       "      <td>106.8451</td>\n",
       "      <td>Indonesia</td>\n",
       "      <td>ID</td>\n",
       "      <td>IDN</td>\n",
       "      <td>Jakarta</td>\n",
       "      <td>primary</td>\n",
       "      <td>35362000.0</td>\n",
       "      <td>1360771077</td>\n",
       "    </tr>\n",
       "    <tr>\n",
       "      <th>2</th>\n",
       "      <td>Delhi</td>\n",
       "      <td>Delhi</td>\n",
       "      <td>28.6667</td>\n",
       "      <td>77.2167</td>\n",
       "      <td>India</td>\n",
       "      <td>IN</td>\n",
       "      <td>IND</td>\n",
       "      <td>Delhi</td>\n",
       "      <td>admin</td>\n",
       "      <td>31870000.0</td>\n",
       "      <td>1356872604</td>\n",
       "    </tr>\n",
       "    <tr>\n",
       "      <th>3</th>\n",
       "      <td>Manila</td>\n",
       "      <td>Manila</td>\n",
       "      <td>14.6000</td>\n",
       "      <td>120.9833</td>\n",
       "      <td>Philippines</td>\n",
       "      <td>PH</td>\n",
       "      <td>PHL</td>\n",
       "      <td>Manila</td>\n",
       "      <td>primary</td>\n",
       "      <td>23971000.0</td>\n",
       "      <td>1608618140</td>\n",
       "    </tr>\n",
       "    <tr>\n",
       "      <th>4</th>\n",
       "      <td>São Paulo</td>\n",
       "      <td>Sao Paulo</td>\n",
       "      <td>-23.5504</td>\n",
       "      <td>-46.6339</td>\n",
       "      <td>Brazil</td>\n",
       "      <td>BR</td>\n",
       "      <td>BRA</td>\n",
       "      <td>São Paulo</td>\n",
       "      <td>admin</td>\n",
       "      <td>22495000.0</td>\n",
       "      <td>1076532519</td>\n",
       "    </tr>\n",
       "    <tr>\n",
       "      <th>...</th>\n",
       "      <td>...</td>\n",
       "      <td>...</td>\n",
       "      <td>...</td>\n",
       "      <td>...</td>\n",
       "      <td>...</td>\n",
       "      <td>...</td>\n",
       "      <td>...</td>\n",
       "      <td>...</td>\n",
       "      <td>...</td>\n",
       "      <td>...</td>\n",
       "      <td>...</td>\n",
       "    </tr>\n",
       "    <tr>\n",
       "      <th>42900</th>\n",
       "      <td>Tukchi</td>\n",
       "      <td>Tukchi</td>\n",
       "      <td>57.3670</td>\n",
       "      <td>139.5000</td>\n",
       "      <td>Russia</td>\n",
       "      <td>RU</td>\n",
       "      <td>RUS</td>\n",
       "      <td>Khabarovskiy Kray</td>\n",
       "      <td>NaN</td>\n",
       "      <td>10.0</td>\n",
       "      <td>1643472801</td>\n",
       "    </tr>\n",
       "    <tr>\n",
       "      <th>42901</th>\n",
       "      <td>Numto</td>\n",
       "      <td>Numto</td>\n",
       "      <td>63.6667</td>\n",
       "      <td>71.3333</td>\n",
       "      <td>Russia</td>\n",
       "      <td>RU</td>\n",
       "      <td>RUS</td>\n",
       "      <td>Khanty-Mansiyskiy Avtonomnyy Okrug-Yugra</td>\n",
       "      <td>NaN</td>\n",
       "      <td>10.0</td>\n",
       "      <td>1643985006</td>\n",
       "    </tr>\n",
       "    <tr>\n",
       "      <th>42902</th>\n",
       "      <td>Nord</td>\n",
       "      <td>Nord</td>\n",
       "      <td>81.7166</td>\n",
       "      <td>-17.8000</td>\n",
       "      <td>Greenland</td>\n",
       "      <td>GL</td>\n",
       "      <td>GRL</td>\n",
       "      <td>Sermersooq</td>\n",
       "      <td>NaN</td>\n",
       "      <td>10.0</td>\n",
       "      <td>1304217709</td>\n",
       "    </tr>\n",
       "    <tr>\n",
       "      <th>42903</th>\n",
       "      <td>Timmiarmiut</td>\n",
       "      <td>Timmiarmiut</td>\n",
       "      <td>62.5333</td>\n",
       "      <td>-42.2167</td>\n",
       "      <td>Greenland</td>\n",
       "      <td>GL</td>\n",
       "      <td>GRL</td>\n",
       "      <td>Kujalleq</td>\n",
       "      <td>NaN</td>\n",
       "      <td>10.0</td>\n",
       "      <td>1304206491</td>\n",
       "    </tr>\n",
       "    <tr>\n",
       "      <th>42904</th>\n",
       "      <td>Nordvik</td>\n",
       "      <td>Nordvik</td>\n",
       "      <td>74.0165</td>\n",
       "      <td>111.5100</td>\n",
       "      <td>Russia</td>\n",
       "      <td>RU</td>\n",
       "      <td>RUS</td>\n",
       "      <td>Krasnoyarskiy Kray</td>\n",
       "      <td>NaN</td>\n",
       "      <td>0.0</td>\n",
       "      <td>1643587468</td>\n",
       "    </tr>\n",
       "  </tbody>\n",
       "</table>\n",
       "<p>42905 rows × 11 columns</p>\n",
       "</div>"
      ],
      "text/plain": [
       "              city   city_ascii      lat       lng      country iso2 iso3  \\\n",
       "0            Tokyo        Tokyo  35.6839  139.7744        Japan   JP  JPN   \n",
       "1          Jakarta      Jakarta  -6.2146  106.8451    Indonesia   ID  IDN   \n",
       "2            Delhi        Delhi  28.6667   77.2167        India   IN  IND   \n",
       "3           Manila       Manila  14.6000  120.9833  Philippines   PH  PHL   \n",
       "4        São Paulo    Sao Paulo -23.5504  -46.6339       Brazil   BR  BRA   \n",
       "...            ...          ...      ...       ...          ...  ...  ...   \n",
       "42900       Tukchi       Tukchi  57.3670  139.5000       Russia   RU  RUS   \n",
       "42901        Numto        Numto  63.6667   71.3333       Russia   RU  RUS   \n",
       "42902         Nord         Nord  81.7166  -17.8000    Greenland   GL  GRL   \n",
       "42903  Timmiarmiut  Timmiarmiut  62.5333  -42.2167    Greenland   GL  GRL   \n",
       "42904      Nordvik      Nordvik  74.0165  111.5100       Russia   RU  RUS   \n",
       "\n",
       "                                     admin_name  capital  population  \\\n",
       "0                                         Tōkyō  primary  39105000.0   \n",
       "1                                       Jakarta  primary  35362000.0   \n",
       "2                                         Delhi    admin  31870000.0   \n",
       "3                                        Manila  primary  23971000.0   \n",
       "4                                     São Paulo    admin  22495000.0   \n",
       "...                                         ...      ...         ...   \n",
       "42900                         Khabarovskiy Kray      NaN        10.0   \n",
       "42901  Khanty-Mansiyskiy Avtonomnyy Okrug-Yugra      NaN        10.0   \n",
       "42902                                Sermersooq      NaN        10.0   \n",
       "42903                                  Kujalleq      NaN        10.0   \n",
       "42904                        Krasnoyarskiy Kray      NaN         0.0   \n",
       "\n",
       "               id  \n",
       "0      1392685764  \n",
       "1      1360771077  \n",
       "2      1356872604  \n",
       "3      1608618140  \n",
       "4      1076532519  \n",
       "...           ...  \n",
       "42900  1643472801  \n",
       "42901  1643985006  \n",
       "42902  1304217709  \n",
       "42903  1304206491  \n",
       "42904  1643587468  \n",
       "\n",
       "[42905 rows x 11 columns]"
      ]
     },
     "execution_count": 4,
     "metadata": {},
     "output_type": "execute_result"
    }
   ],
   "source": [
    "df"
   ]
  },
  {
   "cell_type": "markdown",
   "metadata": {
    "id": "lfpUSdgRL3l2"
   },
   "source": [
    "## explore dataset\n",
    "Dataset column names"
   ]
  },
  {
   "cell_type": "code",
   "execution_count": 5,
   "metadata": {
    "colab": {
     "base_uri": "https://localhost:8080/"
    },
    "id": "JMA05aTpL0v-",
    "outputId": "39a7cc51-ead7-41e4-e572-d8a9c1696568"
   },
   "outputs": [
    {
     "data": {
      "text/plain": [
       "['city',\n",
       " 'city_ascii',\n",
       " 'lat',\n",
       " 'lng',\n",
       " 'country',\n",
       " 'iso2',\n",
       " 'iso3',\n",
       " 'admin_name',\n",
       " 'capital',\n",
       " 'population',\n",
       " 'id']"
      ]
     },
     "execution_count": 5,
     "metadata": {},
     "output_type": "execute_result"
    }
   ],
   "source": [
    "list(df)"
   ]
  },
  {
   "cell_type": "markdown",
   "metadata": {
    "id": "TF8dtqW6MKR8"
   },
   "source": [
    "unique values in a column"
   ]
  },
  {
   "cell_type": "code",
   "execution_count": 6,
   "metadata": {
    "colab": {
     "base_uri": "https://localhost:8080/"
    },
    "id": "JWk_vb-pMH1P",
    "outputId": "cdba8c41-6b6c-425f-c3d3-1789c5f0d8ad"
   },
   "outputs": [
    {
     "data": {
      "text/plain": [
       "array(['primary', 'admin', nan, 'minor'], dtype=object)"
      ]
     },
     "execution_count": 6,
     "metadata": {},
     "output_type": "execute_result"
    }
   ],
   "source": [
    "df['capital'].unique()"
   ]
  },
  {
   "cell_type": "markdown",
   "metadata": {
    "id": "M-Uj1sXfWbIY"
   },
   "source": [
    "how many countries are included in the dataset?"
   ]
  },
  {
   "cell_type": "code",
   "execution_count": 7,
   "metadata": {
    "colab": {
     "base_uri": "https://localhost:8080/"
    },
    "id": "01cJxLl-MYZE",
    "outputId": "12bc4126-4681-41f3-ff37-2d9cf01a3cff"
   },
   "outputs": [
    {
     "data": {
      "text/plain": [
       "239"
      ]
     },
     "execution_count": 7,
     "metadata": {},
     "output_type": "execute_result"
    }
   ],
   "source": [
    "len(df['country'].unique())"
   ]
  },
  {
   "cell_type": "markdown",
   "metadata": {
    "id": "GDDn9wdFH9Ol"
   },
   "source": [
    "\n",
    "## overall descriptive statistics\n",
    "explore the data-set proprerties with pandas summary features\n",
    "\n"
   ]
  },
  {
   "cell_type": "code",
   "execution_count": 8,
   "metadata": {
    "colab": {
     "base_uri": "https://localhost:8080/",
     "height": 300
    },
    "id": "GA7J2XUpG9zz",
    "outputId": "fac00b23-a1b0-4238-ffa1-2eab974b0dca"
   },
   "outputs": [
    {
     "data": {
      "text/html": [
       "<div>\n",
       "<style scoped>\n",
       "    .dataframe tbody tr th:only-of-type {\n",
       "        vertical-align: middle;\n",
       "    }\n",
       "\n",
       "    .dataframe tbody tr th {\n",
       "        vertical-align: top;\n",
       "    }\n",
       "\n",
       "    .dataframe thead th {\n",
       "        text-align: right;\n",
       "    }\n",
       "</style>\n",
       "<table border=\"1\" class=\"dataframe\">\n",
       "  <thead>\n",
       "    <tr style=\"text-align: right;\">\n",
       "      <th></th>\n",
       "      <th>lat</th>\n",
       "      <th>lng</th>\n",
       "      <th>population</th>\n",
       "      <th>id</th>\n",
       "    </tr>\n",
       "  </thead>\n",
       "  <tbody>\n",
       "    <tr>\n",
       "      <th>count</th>\n",
       "      <td>42905.000000</td>\n",
       "      <td>42905.000000</td>\n",
       "      <td>4.218000e+04</td>\n",
       "      <td>4.290500e+04</td>\n",
       "    </tr>\n",
       "    <tr>\n",
       "      <th>mean</th>\n",
       "      <td>30.022893</td>\n",
       "      <td>0.457852</td>\n",
       "      <td>1.070539e+05</td>\n",
       "      <td>1.471166e+09</td>\n",
       "    </tr>\n",
       "    <tr>\n",
       "      <th>std</th>\n",
       "      <td>23.206570</td>\n",
       "      <td>71.040460</td>\n",
       "      <td>7.154036e+05</td>\n",
       "      <td>2.798714e+08</td>\n",
       "    </tr>\n",
       "    <tr>\n",
       "      <th>min</th>\n",
       "      <td>-54.934100</td>\n",
       "      <td>-179.590000</td>\n",
       "      <td>0.000000e+00</td>\n",
       "      <td>1.004003e+09</td>\n",
       "    </tr>\n",
       "    <tr>\n",
       "      <th>25%</th>\n",
       "      <td>17.769400</td>\n",
       "      <td>-70.568500</td>\n",
       "      <td>8.212000e+03</td>\n",
       "      <td>1.250211e+09</td>\n",
       "    </tr>\n",
       "    <tr>\n",
       "      <th>50%</th>\n",
       "      <td>38.704900</td>\n",
       "      <td>6.084200</td>\n",
       "      <td>1.577850e+04</td>\n",
       "      <td>1.398354e+09</td>\n",
       "    </tr>\n",
       "    <tr>\n",
       "      <th>75%</th>\n",
       "      <td>46.170600</td>\n",
       "      <td>34.932800</td>\n",
       "      <td>3.961325e+04</td>\n",
       "      <td>1.764392e+09</td>\n",
       "    </tr>\n",
       "    <tr>\n",
       "      <th>max</th>\n",
       "      <td>81.716600</td>\n",
       "      <td>179.366700</td>\n",
       "      <td>3.910500e+07</td>\n",
       "      <td>1.934000e+09</td>\n",
       "    </tr>\n",
       "  </tbody>\n",
       "</table>\n",
       "</div>"
      ],
      "text/plain": [
       "                lat           lng    population            id\n",
       "count  42905.000000  42905.000000  4.218000e+04  4.290500e+04\n",
       "mean      30.022893      0.457852  1.070539e+05  1.471166e+09\n",
       "std       23.206570     71.040460  7.154036e+05  2.798714e+08\n",
       "min      -54.934100   -179.590000  0.000000e+00  1.004003e+09\n",
       "25%       17.769400    -70.568500  8.212000e+03  1.250211e+09\n",
       "50%       38.704900      6.084200  1.577850e+04  1.398354e+09\n",
       "75%       46.170600     34.932800  3.961325e+04  1.764392e+09\n",
       "max       81.716600    179.366700  3.910500e+07  1.934000e+09"
      ]
     },
     "execution_count": 8,
     "metadata": {},
     "output_type": "execute_result"
    }
   ],
   "source": [
    "df.describe()"
   ]
  },
  {
   "cell_type": "code",
   "execution_count": 9,
   "metadata": {
    "colab": {
     "base_uri": "https://localhost:8080/"
    },
    "id": "TS2-e1BkgOdp",
    "outputId": "8211190d-0ce8-4236-d7d1-451d512b1e29"
   },
   "outputs": [
    {
     "data": {
      "text/plain": [
       "(42905, 11)"
      ]
     },
     "execution_count": 9,
     "metadata": {},
     "output_type": "execute_result"
    }
   ],
   "source": [
    "df.shape"
   ]
  },
  {
   "cell_type": "code",
   "execution_count": 10,
   "metadata": {
    "colab": {
     "base_uri": "https://localhost:8080/",
     "height": 175
    },
    "id": "JcGMV3fQgeHg",
    "outputId": "7195fde5-268d-464a-b455-bda719a52c24"
   },
   "outputs": [
    {
     "data": {
      "text/html": [
       "<div>\n",
       "<style scoped>\n",
       "    .dataframe tbody tr th:only-of-type {\n",
       "        vertical-align: middle;\n",
       "    }\n",
       "\n",
       "    .dataframe tbody tr th {\n",
       "        vertical-align: top;\n",
       "    }\n",
       "\n",
       "    .dataframe thead th {\n",
       "        text-align: right;\n",
       "    }\n",
       "</style>\n",
       "<table border=\"1\" class=\"dataframe\">\n",
       "  <thead>\n",
       "    <tr style=\"text-align: right;\">\n",
       "      <th></th>\n",
       "      <th>lat</th>\n",
       "      <th>lng</th>\n",
       "      <th>population</th>\n",
       "      <th>id</th>\n",
       "    </tr>\n",
       "  </thead>\n",
       "  <tbody>\n",
       "    <tr>\n",
       "      <th>lat</th>\n",
       "      <td>1.000000</td>\n",
       "      <td>0.028194</td>\n",
       "      <td>-0.026882</td>\n",
       "      <td>0.355672</td>\n",
       "    </tr>\n",
       "    <tr>\n",
       "      <th>lng</th>\n",
       "      <td>0.028194</td>\n",
       "      <td>1.000000</td>\n",
       "      <td>0.102283</td>\n",
       "      <td>-0.243204</td>\n",
       "    </tr>\n",
       "    <tr>\n",
       "      <th>population</th>\n",
       "      <td>-0.026882</td>\n",
       "      <td>0.102283</td>\n",
       "      <td>1.000000</td>\n",
       "      <td>-0.051595</td>\n",
       "    </tr>\n",
       "    <tr>\n",
       "      <th>id</th>\n",
       "      <td>0.355672</td>\n",
       "      <td>-0.243204</td>\n",
       "      <td>-0.051595</td>\n",
       "      <td>1.000000</td>\n",
       "    </tr>\n",
       "  </tbody>\n",
       "</table>\n",
       "</div>"
      ],
      "text/plain": [
       "                 lat       lng  population        id\n",
       "lat         1.000000  0.028194   -0.026882  0.355672\n",
       "lng         0.028194  1.000000    0.102283 -0.243204\n",
       "population -0.026882  0.102283    1.000000 -0.051595\n",
       "id          0.355672 -0.243204   -0.051595  1.000000"
      ]
     },
     "execution_count": 10,
     "metadata": {},
     "output_type": "execute_result"
    }
   ],
   "source": [
    "df.corr()"
   ]
  },
  {
   "cell_type": "code",
   "execution_count": 11,
   "metadata": {
    "colab": {
     "base_uri": "https://localhost:8080/"
    },
    "id": "oZLwyxcHgvvZ",
    "outputId": "1fad880c-695b-4c00-a98f-95c2c133b21e"
   },
   "outputs": [
    {
     "data": {
      "text/plain": [
       "city          42905\n",
       "city_ascii    42905\n",
       "lat           42905\n",
       "lng           42905\n",
       "country       42905\n",
       "iso2          42873\n",
       "iso3          42905\n",
       "admin_name    42810\n",
       "capital        9812\n",
       "population    42180\n",
       "id            42905\n",
       "dtype: int64"
      ]
     },
     "execution_count": 11,
     "metadata": {},
     "output_type": "execute_result"
    }
   ],
   "source": [
    "df.count()"
   ]
  },
  {
   "cell_type": "markdown",
   "metadata": {
    "id": "nLkRf5c3LMFP"
   },
   "source": [
    "## visulize all cities by latitude and longitude with a scatter plot!"
   ]
  },
  {
   "cell_type": "code",
   "execution_count": 13,
   "metadata": {
    "colab": {
     "base_uri": "https://localhost:8080/",
     "height": 282
    },
    "id": "F7LOPe5QLR1T",
    "outputId": "88696c40-c2e3-4f0c-880d-14d84df990ae"
   },
   "outputs": [
    {
     "data": {
      "text/plain": [
       "<matplotlib.collections.PathCollection at 0x7f82b54a7820>"
      ]
     },
     "execution_count": 13,
     "metadata": {},
     "output_type": "execute_result"
    },
    {
     "data": {
      "image/png": "[encoded data removed]",
      "text/plain": [
       "<Figure size 432x288 with 1 Axes>"
      ]
     },
     "metadata": {
      "needs_background": "light"
     },
     "output_type": "display_data"
    }
   ],
   "source": [
    "plt.scatter(df['lng'],df['lat'],alpha=.1)"
   ]
  },
  {
   "cell_type": "code",
   "execution_count": 15,
   "metadata": {
    "colab": {
     "base_uri": "https://localhost:8080/",
     "height": 282
    },
    "id": "qE4YY-ONiGqZ",
    "outputId": "f93ff150-4c08-4518-fad8-b967b9ca7e64"
   },
   "outputs": [
    {
     "data": {
      "text/plain": [
       "<matplotlib.collections.PathCollection at 0x7f82b41c0550>"
      ]
     },
     "execution_count": 15,
     "metadata": {},
     "output_type": "execute_result"
    },
    {
     "data": {
      "image/png": "[encoded data removed]",
      "text/plain": [
       "<Figure size 432x288 with 1 Axes>"
      ]
     },
     "metadata": {
      "needs_background": "light"
     },
     "output_type": "display_data"
    }
   ],
   "source": [
    "plt.scatter(df['lng'],df['lat'],alpha=.05, c=df['population'])"
   ]
  },
  {
   "cell_type": "markdown",
   "metadata": {
    "id": "1rDHi0cYIMpn"
   },
   "source": [
    "## sorting the values to see which are the southermost and  northernmost cities\n",
    "\n",
    ".sort_values()\n",
    "\n"
   ]
  },
  {
   "cell_type": "code",
   "execution_count": 16,
   "metadata": {
    "colab": {
     "base_uri": "https://localhost:8080/",
     "height": 554
    },
    "id": "kDFZh7wpIrCC",
    "outputId": "5857d2fb-236c-45e1-95eb-ef32146d4cd7"
   },
   "outputs": [
    {
     "data": {
      "text/html": [
       "<div>\n",
       "<style scoped>\n",
       "    .dataframe tbody tr th:only-of-type {\n",
       "        vertical-align: middle;\n",
       "    }\n",
       "\n",
       "    .dataframe tbody tr th {\n",
       "        vertical-align: top;\n",
       "    }\n",
       "\n",
       "    .dataframe thead th {\n",
       "        text-align: right;\n",
       "    }\n",
       "</style>\n",
       "<table border=\"1\" class=\"dataframe\">\n",
       "  <thead>\n",
       "    <tr style=\"text-align: right;\">\n",
       "      <th></th>\n",
       "      <th>city</th>\n",
       "      <th>city_ascii</th>\n",
       "      <th>lat</th>\n",
       "      <th>lng</th>\n",
       "      <th>country</th>\n",
       "      <th>iso2</th>\n",
       "      <th>iso3</th>\n",
       "      <th>admin_name</th>\n",
       "      <th>capital</th>\n",
       "      <th>population</th>\n",
       "      <th>id</th>\n",
       "    </tr>\n",
       "  </thead>\n",
       "  <tbody>\n",
       "    <tr>\n",
       "      <th>42162</th>\n",
       "      <td>Puerto Williams</td>\n",
       "      <td>Puerto Williams</td>\n",
       "      <td>-54.9341</td>\n",
       "      <td>-67.6109</td>\n",
       "      <td>Chile</td>\n",
       "      <td>CL</td>\n",
       "      <td>CHL</td>\n",
       "      <td>Magallanes y de la Antártica Chilena</td>\n",
       "      <td>minor</td>\n",
       "      <td>1646.0</td>\n",
       "      <td>1152455279</td>\n",
       "    </tr>\n",
       "    <tr>\n",
       "      <th>5890</th>\n",
       "      <td>Ushuaia</td>\n",
       "      <td>Ushuaia</td>\n",
       "      <td>-54.8072</td>\n",
       "      <td>-68.3044</td>\n",
       "      <td>Argentina</td>\n",
       "      <td>AR</td>\n",
       "      <td>ARG</td>\n",
       "      <td>Tierra del Fuego, Antártida e Islas del Atlánt...</td>\n",
       "      <td>admin</td>\n",
       "      <td>56956.0</td>\n",
       "      <td>1032847885</td>\n",
       "    </tr>\n",
       "    <tr>\n",
       "      <th>852</th>\n",
       "      <td>King Edward Point</td>\n",
       "      <td>King Edward Point</td>\n",
       "      <td>-54.2833</td>\n",
       "      <td>-36.5000</td>\n",
       "      <td>South Georgia And South Sandwich Islands</td>\n",
       "      <td>GS</td>\n",
       "      <td>SGS</td>\n",
       "      <td>NaN</td>\n",
       "      <td>primary</td>\n",
       "      <td>NaN</td>\n",
       "      <td>1239048838</td>\n",
       "    </tr>\n",
       "    <tr>\n",
       "      <th>42862</th>\n",
       "      <td>Grytviken</td>\n",
       "      <td>Grytviken</td>\n",
       "      <td>-54.2806</td>\n",
       "      <td>-36.5080</td>\n",
       "      <td>South Georgia And South Sandwich Islands</td>\n",
       "      <td>GS</td>\n",
       "      <td>SGS</td>\n",
       "      <td>NaN</td>\n",
       "      <td>NaN</td>\n",
       "      <td>99.0</td>\n",
       "      <td>1239048837</td>\n",
       "    </tr>\n",
       "    <tr>\n",
       "      <th>16313</th>\n",
       "      <td>Río Grande</td>\n",
       "      <td>Rio Grande</td>\n",
       "      <td>-53.7914</td>\n",
       "      <td>-67.6990</td>\n",
       "      <td>Argentina</td>\n",
       "      <td>AR</td>\n",
       "      <td>ARG</td>\n",
       "      <td>Tierra del Fuego, Antártida e Islas del Atlánt...</td>\n",
       "      <td>minor</td>\n",
       "      <td>31095.0</td>\n",
       "      <td>1032824067</td>\n",
       "    </tr>\n",
       "    <tr>\n",
       "      <th>...</th>\n",
       "      <td>...</td>\n",
       "      <td>...</td>\n",
       "      <td>...</td>\n",
       "      <td>...</td>\n",
       "      <td>...</td>\n",
       "      <td>...</td>\n",
       "      <td>...</td>\n",
       "      <td>...</td>\n",
       "      <td>...</td>\n",
       "      <td>...</td>\n",
       "      <td>...</td>\n",
       "    </tr>\n",
       "    <tr>\n",
       "      <th>42897</th>\n",
       "      <td>Zemlya Bunge</td>\n",
       "      <td>Zemlya Bunge</td>\n",
       "      <td>74.8983</td>\n",
       "      <td>142.1050</td>\n",
       "      <td>Russia</td>\n",
       "      <td>RU</td>\n",
       "      <td>RUS</td>\n",
       "      <td>Sakha (Yakutiya)</td>\n",
       "      <td>NaN</td>\n",
       "      <td>10.0</td>\n",
       "      <td>1643720805</td>\n",
       "    </tr>\n",
       "    <tr>\n",
       "      <th>42849</th>\n",
       "      <td>Savissivik</td>\n",
       "      <td>Savissivik</td>\n",
       "      <td>76.0195</td>\n",
       "      <td>-65.1125</td>\n",
       "      <td>Greenland</td>\n",
       "      <td>GL</td>\n",
       "      <td>GRL</td>\n",
       "      <td>Qaasuitsup</td>\n",
       "      <td>NaN</td>\n",
       "      <td>66.0</td>\n",
       "      <td>1304246272</td>\n",
       "    </tr>\n",
       "    <tr>\n",
       "      <th>42230</th>\n",
       "      <td>Qaanaaq</td>\n",
       "      <td>Qaanaaq</td>\n",
       "      <td>77.4670</td>\n",
       "      <td>-69.2330</td>\n",
       "      <td>Greenland</td>\n",
       "      <td>GL</td>\n",
       "      <td>GRL</td>\n",
       "      <td>Qaasuitsup</td>\n",
       "      <td>NaN</td>\n",
       "      <td>646.0</td>\n",
       "      <td>1304094556</td>\n",
       "    </tr>\n",
       "    <tr>\n",
       "      <th>848</th>\n",
       "      <td>Longyearbyen</td>\n",
       "      <td>Longyearbyen</td>\n",
       "      <td>78.2167</td>\n",
       "      <td>15.6333</td>\n",
       "      <td>Svalbard</td>\n",
       "      <td>XR</td>\n",
       "      <td>XSV</td>\n",
       "      <td>NaN</td>\n",
       "      <td>primary</td>\n",
       "      <td>NaN</td>\n",
       "      <td>1930654114</td>\n",
       "    </tr>\n",
       "    <tr>\n",
       "      <th>42902</th>\n",
       "      <td>Nord</td>\n",
       "      <td>Nord</td>\n",
       "      <td>81.7166</td>\n",
       "      <td>-17.8000</td>\n",
       "      <td>Greenland</td>\n",
       "      <td>GL</td>\n",
       "      <td>GRL</td>\n",
       "      <td>Sermersooq</td>\n",
       "      <td>NaN</td>\n",
       "      <td>10.0</td>\n",
       "      <td>1304217709</td>\n",
       "    </tr>\n",
       "  </tbody>\n",
       "</table>\n",
       "<p>42905 rows × 11 columns</p>\n",
       "</div>"
      ],
      "text/plain": [
       "                    city         city_ascii      lat       lng  \\\n",
       "42162    Puerto Williams    Puerto Williams -54.9341  -67.6109   \n",
       "5890             Ushuaia            Ushuaia -54.8072  -68.3044   \n",
       "852    King Edward Point  King Edward Point -54.2833  -36.5000   \n",
       "42862          Grytviken          Grytviken -54.2806  -36.5080   \n",
       "16313         Río Grande         Rio Grande -53.7914  -67.6990   \n",
       "...                  ...                ...      ...       ...   \n",
       "42897       Zemlya Bunge       Zemlya Bunge  74.8983  142.1050   \n",
       "42849         Savissivik         Savissivik  76.0195  -65.1125   \n",
       "42230            Qaanaaq            Qaanaaq  77.4670  -69.2330   \n",
       "848         Longyearbyen       Longyearbyen  78.2167   15.6333   \n",
       "42902               Nord               Nord  81.7166  -17.8000   \n",
       "\n",
       "                                        country iso2 iso3  \\\n",
       "42162                                     Chile   CL  CHL   \n",
       "5890                                  Argentina   AR  ARG   \n",
       "852    South Georgia And South Sandwich Islands   GS  SGS   \n",
       "42862  South Georgia And South Sandwich Islands   GS  SGS   \n",
       "16313                                 Argentina   AR  ARG   \n",
       "...                                         ...  ...  ...   \n",
       "42897                                    Russia   RU  RUS   \n",
       "42849                                 Greenland   GL  GRL   \n",
       "42230                                 Greenland   GL  GRL   \n",
       "848                                    Svalbard   XR  XSV   \n",
       "42902                                 Greenland   GL  GRL   \n",
       "\n",
       "                                              admin_name  capital  population  \\\n",
       "42162               Magallanes y de la Antártica Chilena    minor      1646.0   \n",
       "5890   Tierra del Fuego, Antártida e Islas del Atlánt...    admin     56956.0   \n",
       "852                                                  NaN  primary         NaN   \n",
       "42862                                                NaN      NaN        99.0   \n",
       "16313  Tierra del Fuego, Antártida e Islas del Atlánt...    minor     31095.0   \n",
       "...                                                  ...      ...         ...   \n",
       "42897                                   Sakha (Yakutiya)      NaN        10.0   \n",
       "42849                                         Qaasuitsup      NaN        66.0   \n",
       "42230                                         Qaasuitsup      NaN       646.0   \n",
       "848                                                  NaN  primary         NaN   \n",
       "42902                                         Sermersooq      NaN        10.0   \n",
       "\n",
       "               id  \n",
       "42162  1152455279  \n",
       "5890   1032847885  \n",
       "852    1239048838  \n",
       "42862  1239048837  \n",
       "16313  1032824067  \n",
       "...           ...  \n",
       "42897  1643720805  \n",
       "42849  1304246272  \n",
       "42230  1304094556  \n",
       "848    1930654114  \n",
       "42902  1304217709  \n",
       "\n",
       "[42905 rows x 11 columns]"
      ]
     },
     "execution_count": 16,
     "metadata": {},
     "output_type": "execute_result"
    }
   ],
   "source": [
    "df.sort_values('lat')"
   ]
  },
  {
   "cell_type": "markdown",
   "metadata": {
    "id": "3j7RWaNzJDhf"
   },
   "source": [
    "! changing original table vs new table\n",
    "\n",
    "inplace argument"
   ]
  },
  {
   "cell_type": "code",
   "execution_count": 17,
   "metadata": {
    "colab": {
     "base_uri": "https://localhost:8080/",
     "height": 554
    },
    "id": "CxEAF4TfI8JQ",
    "outputId": "23cfb1b7-5364-47c0-a4f3-80c7b5de3063"
   },
   "outputs": [
    {
     "data": {
      "text/html": [
       "<div>\n",
       "<style scoped>\n",
       "    .dataframe tbody tr th:only-of-type {\n",
       "        vertical-align: middle;\n",
       "    }\n",
       "\n",
       "    .dataframe tbody tr th {\n",
       "        vertical-align: top;\n",
       "    }\n",
       "\n",
       "    .dataframe thead th {\n",
       "        text-align: right;\n",
       "    }\n",
       "</style>\n",
       "<table border=\"1\" class=\"dataframe\">\n",
       "  <thead>\n",
       "    <tr style=\"text-align: right;\">\n",
       "      <th></th>\n",
       "      <th>city</th>\n",
       "      <th>city_ascii</th>\n",
       "      <th>lat</th>\n",
       "      <th>lng</th>\n",
       "      <th>country</th>\n",
       "      <th>iso2</th>\n",
       "      <th>iso3</th>\n",
       "      <th>admin_name</th>\n",
       "      <th>capital</th>\n",
       "      <th>population</th>\n",
       "      <th>id</th>\n",
       "    </tr>\n",
       "  </thead>\n",
       "  <tbody>\n",
       "    <tr>\n",
       "      <th>42162</th>\n",
       "      <td>Puerto Williams</td>\n",
       "      <td>Puerto Williams</td>\n",
       "      <td>-54.9341</td>\n",
       "      <td>-67.6109</td>\n",
       "      <td>Chile</td>\n",
       "      <td>CL</td>\n",
       "      <td>CHL</td>\n",
       "      <td>Magallanes y de la Antártica Chilena</td>\n",
       "      <td>minor</td>\n",
       "      <td>1646.0</td>\n",
       "      <td>1152455279</td>\n",
       "    </tr>\n",
       "    <tr>\n",
       "      <th>5890</th>\n",
       "      <td>Ushuaia</td>\n",
       "      <td>Ushuaia</td>\n",
       "      <td>-54.8072</td>\n",
       "      <td>-68.3044</td>\n",
       "      <td>Argentina</td>\n",
       "      <td>AR</td>\n",
       "      <td>ARG</td>\n",
       "      <td>Tierra del Fuego, Antártida e Islas del Atlánt...</td>\n",
       "      <td>admin</td>\n",
       "      <td>56956.0</td>\n",
       "      <td>1032847885</td>\n",
       "    </tr>\n",
       "    <tr>\n",
       "      <th>852</th>\n",
       "      <td>King Edward Point</td>\n",
       "      <td>King Edward Point</td>\n",
       "      <td>-54.2833</td>\n",
       "      <td>-36.5000</td>\n",
       "      <td>South Georgia And South Sandwich Islands</td>\n",
       "      <td>GS</td>\n",
       "      <td>SGS</td>\n",
       "      <td>NaN</td>\n",
       "      <td>primary</td>\n",
       "      <td>NaN</td>\n",
       "      <td>1239048838</td>\n",
       "    </tr>\n",
       "    <tr>\n",
       "      <th>42862</th>\n",
       "      <td>Grytviken</td>\n",
       "      <td>Grytviken</td>\n",
       "      <td>-54.2806</td>\n",
       "      <td>-36.5080</td>\n",
       "      <td>South Georgia And South Sandwich Islands</td>\n",
       "      <td>GS</td>\n",
       "      <td>SGS</td>\n",
       "      <td>NaN</td>\n",
       "      <td>NaN</td>\n",
       "      <td>99.0</td>\n",
       "      <td>1239048837</td>\n",
       "    </tr>\n",
       "    <tr>\n",
       "      <th>16313</th>\n",
       "      <td>Río Grande</td>\n",
       "      <td>Rio Grande</td>\n",
       "      <td>-53.7914</td>\n",
       "      <td>-67.6990</td>\n",
       "      <td>Argentina</td>\n",
       "      <td>AR</td>\n",
       "      <td>ARG</td>\n",
       "      <td>Tierra del Fuego, Antártida e Islas del Atlánt...</td>\n",
       "      <td>minor</td>\n",
       "      <td>31095.0</td>\n",
       "      <td>1032824067</td>\n",
       "    </tr>\n",
       "    <tr>\n",
       "      <th>...</th>\n",
       "      <td>...</td>\n",
       "      <td>...</td>\n",
       "      <td>...</td>\n",
       "      <td>...</td>\n",
       "      <td>...</td>\n",
       "      <td>...</td>\n",
       "      <td>...</td>\n",
       "      <td>...</td>\n",
       "      <td>...</td>\n",
       "      <td>...</td>\n",
       "      <td>...</td>\n",
       "    </tr>\n",
       "    <tr>\n",
       "      <th>42897</th>\n",
       "      <td>Zemlya Bunge</td>\n",
       "      <td>Zemlya Bunge</td>\n",
       "      <td>74.8983</td>\n",
       "      <td>142.1050</td>\n",
       "      <td>Russia</td>\n",
       "      <td>RU</td>\n",
       "      <td>RUS</td>\n",
       "      <td>Sakha (Yakutiya)</td>\n",
       "      <td>NaN</td>\n",
       "      <td>10.0</td>\n",
       "      <td>1643720805</td>\n",
       "    </tr>\n",
       "    <tr>\n",
       "      <th>42849</th>\n",
       "      <td>Savissivik</td>\n",
       "      <td>Savissivik</td>\n",
       "      <td>76.0195</td>\n",
       "      <td>-65.1125</td>\n",
       "      <td>Greenland</td>\n",
       "      <td>GL</td>\n",
       "      <td>GRL</td>\n",
       "      <td>Qaasuitsup</td>\n",
       "      <td>NaN</td>\n",
       "      <td>66.0</td>\n",
       "      <td>1304246272</td>\n",
       "    </tr>\n",
       "    <tr>\n",
       "      <th>42230</th>\n",
       "      <td>Qaanaaq</td>\n",
       "      <td>Qaanaaq</td>\n",
       "      <td>77.4670</td>\n",
       "      <td>-69.2330</td>\n",
       "      <td>Greenland</td>\n",
       "      <td>GL</td>\n",
       "      <td>GRL</td>\n",
       "      <td>Qaasuitsup</td>\n",
       "      <td>NaN</td>\n",
       "      <td>646.0</td>\n",
       "      <td>1304094556</td>\n",
       "    </tr>\n",
       "    <tr>\n",
       "      <th>848</th>\n",
       "      <td>Longyearbyen</td>\n",
       "      <td>Longyearbyen</td>\n",
       "      <td>78.2167</td>\n",
       "      <td>15.6333</td>\n",
       "      <td>Svalbard</td>\n",
       "      <td>XR</td>\n",
       "      <td>XSV</td>\n",
       "      <td>NaN</td>\n",
       "      <td>primary</td>\n",
       "      <td>NaN</td>\n",
       "      <td>1930654114</td>\n",
       "    </tr>\n",
       "    <tr>\n",
       "      <th>42902</th>\n",
       "      <td>Nord</td>\n",
       "      <td>Nord</td>\n",
       "      <td>81.7166</td>\n",
       "      <td>-17.8000</td>\n",
       "      <td>Greenland</td>\n",
       "      <td>GL</td>\n",
       "      <td>GRL</td>\n",
       "      <td>Sermersooq</td>\n",
       "      <td>NaN</td>\n",
       "      <td>10.0</td>\n",
       "      <td>1304217709</td>\n",
       "    </tr>\n",
       "  </tbody>\n",
       "</table>\n",
       "<p>42905 rows × 11 columns</p>\n",
       "</div>"
      ],
      "text/plain": [
       "                    city         city_ascii      lat       lng  \\\n",
       "42162    Puerto Williams    Puerto Williams -54.9341  -67.6109   \n",
       "5890             Ushuaia            Ushuaia -54.8072  -68.3044   \n",
       "852    King Edward Point  King Edward Point -54.2833  -36.5000   \n",
       "42862          Grytviken          Grytviken -54.2806  -36.5080   \n",
       "16313         Río Grande         Rio Grande -53.7914  -67.6990   \n",
       "...                  ...                ...      ...       ...   \n",
       "42897       Zemlya Bunge       Zemlya Bunge  74.8983  142.1050   \n",
       "42849         Savissivik         Savissivik  76.0195  -65.1125   \n",
       "42230            Qaanaaq            Qaanaaq  77.4670  -69.2330   \n",
       "848         Longyearbyen       Longyearbyen  78.2167   15.6333   \n",
       "42902               Nord               Nord  81.7166  -17.8000   \n",
       "\n",
       "                                        country iso2 iso3  \\\n",
       "42162                                     Chile   CL  CHL   \n",
       "5890                                  Argentina   AR  ARG   \n",
       "852    South Georgia And South Sandwich Islands   GS  SGS   \n",
       "42862  South Georgia And South Sandwich Islands   GS  SGS   \n",
       "16313                                 Argentina   AR  ARG   \n",
       "...                                         ...  ...  ...   \n",
       "42897                                    Russia   RU  RUS   \n",
       "42849                                 Greenland   GL  GRL   \n",
       "42230                                 Greenland   GL  GRL   \n",
       "848                                    Svalbard   XR  XSV   \n",
       "42902                                 Greenland   GL  GRL   \n",
       "\n",
       "                                              admin_name  capital  population  \\\n",
       "42162               Magallanes y de la Antártica Chilena    minor      1646.0   \n",
       "5890   Tierra del Fuego, Antártida e Islas del Atlánt...    admin     56956.0   \n",
       "852                                                  NaN  primary         NaN   \n",
       "42862                                                NaN      NaN        99.0   \n",
       "16313  Tierra del Fuego, Antártida e Islas del Atlánt...    minor     31095.0   \n",
       "...                                                  ...      ...         ...   \n",
       "42897                                   Sakha (Yakutiya)      NaN        10.0   \n",
       "42849                                         Qaasuitsup      NaN        66.0   \n",
       "42230                                         Qaasuitsup      NaN       646.0   \n",
       "848                                                  NaN  primary         NaN   \n",
       "42902                                         Sermersooq      NaN        10.0   \n",
       "\n",
       "               id  \n",
       "42162  1152455279  \n",
       "5890   1032847885  \n",
       "852    1239048838  \n",
       "42862  1239048837  \n",
       "16313  1032824067  \n",
       "...           ...  \n",
       "42897  1643720805  \n",
       "42849  1304246272  \n",
       "42230  1304094556  \n",
       "848    1930654114  \n",
       "42902  1304217709  \n",
       "\n",
       "[42905 rows x 11 columns]"
      ]
     },
     "execution_count": 17,
     "metadata": {},
     "output_type": "execute_result"
    }
   ],
   "source": [
    "SortedLat=df.sort_values('lat')\n",
    "SortedLat"
   ]
  },
  {
   "cell_type": "code",
   "execution_count": 18,
   "metadata": {
    "id": "D4ZO48e4iykI"
   },
   "outputs": [],
   "source": [
    "df.sort_values('lat',inplace=True)"
   ]
  },
  {
   "cell_type": "code",
   "execution_count": 19,
   "metadata": {
    "id": "p1KcPROUi6pq"
   },
   "outputs": [],
   "source": [
    "df.sort_values('population',inplace=True,ascending=False)"
   ]
  },
  {
   "cell_type": "code",
   "execution_count": 20,
   "metadata": {
    "colab": {
     "base_uri": "https://localhost:8080/",
     "height": 424
    },
    "id": "T7RluxbQjEJB",
    "outputId": "95226189-235f-41b8-d9ac-927bda3a097a"
   },
   "outputs": [
    {
     "data": {
      "text/html": [
       "<div>\n",
       "<style scoped>\n",
       "    .dataframe tbody tr th:only-of-type {\n",
       "        vertical-align: middle;\n",
       "    }\n",
       "\n",
       "    .dataframe tbody tr th {\n",
       "        vertical-align: top;\n",
       "    }\n",
       "\n",
       "    .dataframe thead th {\n",
       "        text-align: right;\n",
       "    }\n",
       "</style>\n",
       "<table border=\"1\" class=\"dataframe\">\n",
       "  <thead>\n",
       "    <tr style=\"text-align: right;\">\n",
       "      <th></th>\n",
       "      <th>city</th>\n",
       "      <th>city_ascii</th>\n",
       "      <th>lat</th>\n",
       "      <th>lng</th>\n",
       "      <th>country</th>\n",
       "      <th>iso2</th>\n",
       "      <th>iso3</th>\n",
       "      <th>admin_name</th>\n",
       "      <th>capital</th>\n",
       "      <th>population</th>\n",
       "      <th>id</th>\n",
       "    </tr>\n",
       "  </thead>\n",
       "  <tbody>\n",
       "    <tr>\n",
       "      <th>0</th>\n",
       "      <td>Tokyo</td>\n",
       "      <td>Tokyo</td>\n",
       "      <td>35.6839</td>\n",
       "      <td>139.7744</td>\n",
       "      <td>Japan</td>\n",
       "      <td>JP</td>\n",
       "      <td>JPN</td>\n",
       "      <td>Tōkyō</td>\n",
       "      <td>primary</td>\n",
       "      <td>39105000.0</td>\n",
       "      <td>1392685764</td>\n",
       "    </tr>\n",
       "    <tr>\n",
       "      <th>1</th>\n",
       "      <td>Jakarta</td>\n",
       "      <td>Jakarta</td>\n",
       "      <td>-6.2146</td>\n",
       "      <td>106.8451</td>\n",
       "      <td>Indonesia</td>\n",
       "      <td>ID</td>\n",
       "      <td>IDN</td>\n",
       "      <td>Jakarta</td>\n",
       "      <td>primary</td>\n",
       "      <td>35362000.0</td>\n",
       "      <td>1360771077</td>\n",
       "    </tr>\n",
       "    <tr>\n",
       "      <th>2</th>\n",
       "      <td>Delhi</td>\n",
       "      <td>Delhi</td>\n",
       "      <td>28.6667</td>\n",
       "      <td>77.2167</td>\n",
       "      <td>India</td>\n",
       "      <td>IN</td>\n",
       "      <td>IND</td>\n",
       "      <td>Delhi</td>\n",
       "      <td>admin</td>\n",
       "      <td>31870000.0</td>\n",
       "      <td>1356872604</td>\n",
       "    </tr>\n",
       "    <tr>\n",
       "      <th>3</th>\n",
       "      <td>Manila</td>\n",
       "      <td>Manila</td>\n",
       "      <td>14.6000</td>\n",
       "      <td>120.9833</td>\n",
       "      <td>Philippines</td>\n",
       "      <td>PH</td>\n",
       "      <td>PHL</td>\n",
       "      <td>Manila</td>\n",
       "      <td>primary</td>\n",
       "      <td>23971000.0</td>\n",
       "      <td>1608618140</td>\n",
       "    </tr>\n",
       "    <tr>\n",
       "      <th>4</th>\n",
       "      <td>São Paulo</td>\n",
       "      <td>Sao Paulo</td>\n",
       "      <td>-23.5504</td>\n",
       "      <td>-46.6339</td>\n",
       "      <td>Brazil</td>\n",
       "      <td>BR</td>\n",
       "      <td>BRA</td>\n",
       "      <td>São Paulo</td>\n",
       "      <td>admin</td>\n",
       "      <td>22495000.0</td>\n",
       "      <td>1076532519</td>\n",
       "    </tr>\n",
       "    <tr>\n",
       "      <th>...</th>\n",
       "      <td>...</td>\n",
       "      <td>...</td>\n",
       "      <td>...</td>\n",
       "      <td>...</td>\n",
       "      <td>...</td>\n",
       "      <td>...</td>\n",
       "      <td>...</td>\n",
       "      <td>...</td>\n",
       "      <td>...</td>\n",
       "      <td>...</td>\n",
       "      <td>...</td>\n",
       "    </tr>\n",
       "    <tr>\n",
       "      <th>10088</th>\n",
       "      <td>Kunoy</td>\n",
       "      <td>Kunoy</td>\n",
       "      <td>62.2917</td>\n",
       "      <td>-6.6702</td>\n",
       "      <td>Faroe Islands</td>\n",
       "      <td>FO</td>\n",
       "      <td>FRO</td>\n",
       "      <td>NaN</td>\n",
       "      <td>admin</td>\n",
       "      <td>NaN</td>\n",
       "      <td>1234932703</td>\n",
       "    </tr>\n",
       "    <tr>\n",
       "      <th>10038</th>\n",
       "      <td>Eiði</td>\n",
       "      <td>Eidhi</td>\n",
       "      <td>62.2995</td>\n",
       "      <td>-7.0924</td>\n",
       "      <td>Faroe Islands</td>\n",
       "      <td>FO</td>\n",
       "      <td>FRO</td>\n",
       "      <td>NaN</td>\n",
       "      <td>admin</td>\n",
       "      <td>NaN</td>\n",
       "      <td>1234150922</td>\n",
       "    </tr>\n",
       "    <tr>\n",
       "      <th>10092</th>\n",
       "      <td>Kirkja</td>\n",
       "      <td>Kirkja</td>\n",
       "      <td>62.3263</td>\n",
       "      <td>-6.3238</td>\n",
       "      <td>Faroe Islands</td>\n",
       "      <td>FO</td>\n",
       "      <td>FRO</td>\n",
       "      <td>NaN</td>\n",
       "      <td>admin</td>\n",
       "      <td>NaN</td>\n",
       "      <td>1234508245</td>\n",
       "    </tr>\n",
       "    <tr>\n",
       "      <th>10063</th>\n",
       "      <td>Viðareiði</td>\n",
       "      <td>Vidhareidhi</td>\n",
       "      <td>62.3600</td>\n",
       "      <td>-6.5313</td>\n",
       "      <td>Faroe Islands</td>\n",
       "      <td>FO</td>\n",
       "      <td>FRO</td>\n",
       "      <td>NaN</td>\n",
       "      <td>admin</td>\n",
       "      <td>NaN</td>\n",
       "      <td>1234512915</td>\n",
       "    </tr>\n",
       "    <tr>\n",
       "      <th>848</th>\n",
       "      <td>Longyearbyen</td>\n",
       "      <td>Longyearbyen</td>\n",
       "      <td>78.2167</td>\n",
       "      <td>15.6333</td>\n",
       "      <td>Svalbard</td>\n",
       "      <td>XR</td>\n",
       "      <td>XSV</td>\n",
       "      <td>NaN</td>\n",
       "      <td>primary</td>\n",
       "      <td>NaN</td>\n",
       "      <td>1930654114</td>\n",
       "    </tr>\n",
       "  </tbody>\n",
       "</table>\n",
       "<p>42905 rows × 11 columns</p>\n",
       "</div>"
      ],
      "text/plain": [
       "               city    city_ascii      lat       lng        country iso2 iso3  \\\n",
       "0             Tokyo         Tokyo  35.6839  139.7744          Japan   JP  JPN   \n",
       "1           Jakarta       Jakarta  -6.2146  106.8451      Indonesia   ID  IDN   \n",
       "2             Delhi         Delhi  28.6667   77.2167          India   IN  IND   \n",
       "3            Manila        Manila  14.6000  120.9833    Philippines   PH  PHL   \n",
       "4         São Paulo     Sao Paulo -23.5504  -46.6339         Brazil   BR  BRA   \n",
       "...             ...           ...      ...       ...            ...  ...  ...   \n",
       "10088         Kunoy         Kunoy  62.2917   -6.6702  Faroe Islands   FO  FRO   \n",
       "10038          Eiði         Eidhi  62.2995   -7.0924  Faroe Islands   FO  FRO   \n",
       "10092        Kirkja        Kirkja  62.3263   -6.3238  Faroe Islands   FO  FRO   \n",
       "10063     Viðareiði   Vidhareidhi  62.3600   -6.5313  Faroe Islands   FO  FRO   \n",
       "848    Longyearbyen  Longyearbyen  78.2167   15.6333       Svalbard   XR  XSV   \n",
       "\n",
       "      admin_name  capital  population          id  \n",
       "0          Tōkyō  primary  39105000.0  1392685764  \n",
       "1        Jakarta  primary  35362000.0  1360771077  \n",
       "2          Delhi    admin  31870000.0  1356872604  \n",
       "3         Manila  primary  23971000.0  1608618140  \n",
       "4      São Paulo    admin  22495000.0  1076532519  \n",
       "...          ...      ...         ...         ...  \n",
       "10088        NaN    admin         NaN  1234932703  \n",
       "10038        NaN    admin         NaN  1234150922  \n",
       "10092        NaN    admin         NaN  1234508245  \n",
       "10063        NaN    admin         NaN  1234512915  \n",
       "848          NaN  primary         NaN  1930654114  \n",
       "\n",
       "[42905 rows x 11 columns]"
      ]
     },
     "execution_count": 20,
     "metadata": {},
     "output_type": "execute_result"
    }
   ],
   "source": [
    "df"
   ]
  },
  {
   "cell_type": "markdown",
   "metadata": {
    "id": "-yfVtYPxJ0q9"
   },
   "source": [
    "## searching and indexing the dataset\n",
    "\n",
    "how many towns/cities are in Austria in this dataset?\n",
    "\n",
    "What is the average population of cities in Austria?\n",
    "\n",
    "Num of cities in southern vs northern hemisphere?\n"
   ]
  },
  {
   "cell_type": "code",
   "execution_count": 21,
   "metadata": {
    "colab": {
     "base_uri": "https://localhost:8080/"
    },
    "id": "VGhSWMamJ_hK",
    "outputId": "b4fd1374-1baf-4d48-d79c-ebf3e2f7240f"
   },
   "outputs": [
    {
     "data": {
      "text/plain": [
       "237"
      ]
     },
     "execution_count": 21,
     "metadata": {},
     "output_type": "execute_result"
    }
   ],
   "source": [
    "np.sum(df['country']=='Austria')"
   ]
  },
  {
   "cell_type": "code",
   "execution_count": 22,
   "metadata": {
    "id": "KEyQmZJCkNtb"
   },
   "outputs": [],
   "source": [
    "AustrianCities=df['city'][df['country']=='Austria']"
   ]
  },
  {
   "cell_type": "code",
   "execution_count": 23,
   "metadata": {
    "colab": {
     "base_uri": "https://localhost:8080/"
    },
    "id": "6Qr0G8sjkfQk",
    "outputId": "86358865-e8b7-4162-da4d-ccf8da5d859c"
   },
   "outputs": [
    {
     "data": {
      "text/plain": [
       "392            Vienna\n",
       "2127             Graz\n",
       "2772             Linz\n",
       "3459         Salzburg\n",
       "3961        Innsbruck\n",
       "             ...     \n",
       "40895        Bad Hall\n",
       "40318         Lenzing\n",
       "40620        Sollenau\n",
       "41974          Admont\n",
       "40869    Grieskirchen\n",
       "Name: city, Length: 237, dtype: object"
      ]
     },
     "execution_count": 23,
     "metadata": {},
     "output_type": "execute_result"
    }
   ],
   "source": [
    "AustrianCities"
   ]
  },
  {
   "cell_type": "code",
   "execution_count": 24,
   "metadata": {
    "colab": {
     "base_uri": "https://localhost:8080/"
    },
    "id": "egEQG__-lt3C",
    "outputId": "d8321433-aa99-4381-f719-5f248baa732e"
   },
   "outputs": [
    {
     "data": {
      "text/plain": [
       "21939.58227848101"
      ]
     },
     "execution_count": 24,
     "metadata": {},
     "output_type": "execute_result"
    }
   ],
   "source": [
    "df['population'][df['country']=='Austria'].mean()"
   ]
  },
  {
   "cell_type": "code",
   "execution_count": 25,
   "metadata": {
    "colab": {
     "base_uri": "https://localhost:8080/"
    },
    "id": "WpDcZvRZl3Eh",
    "outputId": "0a6ad6cc-be15-41dc-873f-36a3310d37a9"
   },
   "outputs": [
    {
     "data": {
      "text/plain": [
       "21939.58227848101"
      ]
     },
     "execution_count": 25,
     "metadata": {},
     "output_type": "execute_result"
    }
   ],
   "source": [
    "np.mean(df['population'][df['country']=='Austria'])"
   ]
  },
  {
   "cell_type": "code",
   "execution_count": 26,
   "metadata": {
    "colab": {
     "base_uri": "https://localhost:8080/"
    },
    "id": "UBb6sopAl8k4",
    "outputId": "55c5e120-5edf-4831-fd3b-7693a4f403d9"
   },
   "outputs": [
    {
     "data": {
      "text/plain": [
       "7717.0"
      ]
     },
     "execution_count": 26,
     "metadata": {},
     "output_type": "execute_result"
    }
   ],
   "source": [
    "np.median(df['population'][df['country']=='Austria'])"
   ]
  },
  {
   "cell_type": "code",
   "execution_count": 27,
   "metadata": {
    "colab": {
     "base_uri": "https://localhost:8080/"
    },
    "id": "gDxX8nWymZAL",
    "outputId": "55174fea-4eae-43db-dbad-d651cec12fd0"
   },
   "outputs": [
    {
     "data": {
      "text/plain": [
       "37117"
      ]
     },
     "execution_count": 27,
     "metadata": {},
     "output_type": "execute_result"
    }
   ],
   "source": [
    "np.sum(df['lat']>0)"
   ]
  },
  {
   "cell_type": "code",
   "execution_count": 28,
   "metadata": {
    "colab": {
     "base_uri": "https://localhost:8080/"
    },
    "id": "3uSXNwtumjSK",
    "outputId": "4b09de52-f89e-4c67-bee9-939308c11c04"
   },
   "outputs": [
    {
     "data": {
      "text/plain": [
       "5788"
      ]
     },
     "execution_count": 28,
     "metadata": {},
     "output_type": "execute_result"
    }
   ],
   "source": [
    "np.sum(df['lat']<0)"
   ]
  },
  {
   "cell_type": "code",
   "execution_count": 29,
   "metadata": {
    "colab": {
     "base_uri": "https://localhost:8080/"
    },
    "id": "-mSdfVbFmo2K",
    "outputId": "fa6267a2-0589-4b53-cc7d-9e1926f15c62"
   },
   "outputs": [
    {
     "data": {
      "text/plain": [
       "18689"
      ]
     },
     "execution_count": 29,
     "metadata": {},
     "output_type": "execute_result"
    }
   ],
   "source": [
    "np.sum(df['lng']<0)"
   ]
  },
  {
   "cell_type": "code",
   "execution_count": 30,
   "metadata": {
    "colab": {
     "base_uri": "https://localhost:8080/"
    },
    "id": "6uoZA6TgmrHi",
    "outputId": "439c0b64-931e-406f-e0fb-f5821b1e0637"
   },
   "outputs": [
    {
     "data": {
      "text/plain": [
       "24216"
      ]
     },
     "execution_count": 30,
     "metadata": {},
     "output_type": "execute_result"
    }
   ],
   "source": [
    "np.sum(df['lng']>0)"
   ]
  },
  {
   "cell_type": "code",
   "execution_count": 31,
   "metadata": {
    "colab": {
     "base_uri": "https://localhost:8080/",
     "height": 238
    },
    "id": "XbjqzEdSm8GL",
    "outputId": "5b36f5b5-7d82-492b-cb3d-80f8b5a70390"
   },
   "outputs": [
    {
     "data": {
      "text/html": [
       "<div>\n",
       "<style scoped>\n",
       "    .dataframe tbody tr th:only-of-type {\n",
       "        vertical-align: middle;\n",
       "    }\n",
       "\n",
       "    .dataframe tbody tr th {\n",
       "        vertical-align: top;\n",
       "    }\n",
       "\n",
       "    .dataframe thead th {\n",
       "        text-align: right;\n",
       "    }\n",
       "</style>\n",
       "<table border=\"1\" class=\"dataframe\">\n",
       "  <thead>\n",
       "    <tr style=\"text-align: right;\">\n",
       "      <th></th>\n",
       "      <th>city</th>\n",
       "      <th>city_ascii</th>\n",
       "      <th>lat</th>\n",
       "      <th>lng</th>\n",
       "      <th>country</th>\n",
       "      <th>iso2</th>\n",
       "      <th>iso3</th>\n",
       "      <th>admin_name</th>\n",
       "      <th>capital</th>\n",
       "      <th>population</th>\n",
       "      <th>id</th>\n",
       "    </tr>\n",
       "  </thead>\n",
       "  <tbody>\n",
       "    <tr>\n",
       "      <th>392</th>\n",
       "      <td>Vienna</td>\n",
       "      <td>Vienna</td>\n",
       "      <td>48.2083</td>\n",
       "      <td>16.3725</td>\n",
       "      <td>Austria</td>\n",
       "      <td>AT</td>\n",
       "      <td>AUT</td>\n",
       "      <td>Wien</td>\n",
       "      <td>primary</td>\n",
       "      <td>1911191.0</td>\n",
       "      <td>1040261752</td>\n",
       "    </tr>\n",
       "    <tr>\n",
       "      <th>2127</th>\n",
       "      <td>Graz</td>\n",
       "      <td>Graz</td>\n",
       "      <td>47.0708</td>\n",
       "      <td>15.4386</td>\n",
       "      <td>Austria</td>\n",
       "      <td>AT</td>\n",
       "      <td>AUT</td>\n",
       "      <td>Steiermark</td>\n",
       "      <td>admin</td>\n",
       "      <td>289440.0</td>\n",
       "      <td>1040184559</td>\n",
       "    </tr>\n",
       "    <tr>\n",
       "      <th>2772</th>\n",
       "      <td>Linz</td>\n",
       "      <td>Linz</td>\n",
       "      <td>48.3000</td>\n",
       "      <td>14.2833</td>\n",
       "      <td>Austria</td>\n",
       "      <td>AT</td>\n",
       "      <td>AUT</td>\n",
       "      <td>Oberösterreich</td>\n",
       "      <td>admin</td>\n",
       "      <td>204846.0</td>\n",
       "      <td>1040261171</td>\n",
       "    </tr>\n",
       "    <tr>\n",
       "      <th>3459</th>\n",
       "      <td>Salzburg</td>\n",
       "      <td>Salzburg</td>\n",
       "      <td>47.7972</td>\n",
       "      <td>13.0477</td>\n",
       "      <td>Austria</td>\n",
       "      <td>AT</td>\n",
       "      <td>AUT</td>\n",
       "      <td>Salzburg</td>\n",
       "      <td>admin</td>\n",
       "      <td>155021.0</td>\n",
       "      <td>1040312147</td>\n",
       "    </tr>\n",
       "    <tr>\n",
       "      <th>3961</th>\n",
       "      <td>Innsbruck</td>\n",
       "      <td>Innsbruck</td>\n",
       "      <td>47.2683</td>\n",
       "      <td>11.3933</td>\n",
       "      <td>Austria</td>\n",
       "      <td>AT</td>\n",
       "      <td>AUT</td>\n",
       "      <td>Tirol</td>\n",
       "      <td>admin</td>\n",
       "      <td>132493.0</td>\n",
       "      <td>1040038924</td>\n",
       "    </tr>\n",
       "    <tr>\n",
       "      <th>4966</th>\n",
       "      <td>Klagenfurt</td>\n",
       "      <td>Klagenfurt</td>\n",
       "      <td>46.6167</td>\n",
       "      <td>14.3000</td>\n",
       "      <td>Austria</td>\n",
       "      <td>AT</td>\n",
       "      <td>AUT</td>\n",
       "      <td>Kärnten</td>\n",
       "      <td>admin</td>\n",
       "      <td>101403.0</td>\n",
       "      <td>1040149651</td>\n",
       "    </tr>\n",
       "  </tbody>\n",
       "</table>\n",
       "</div>"
      ],
      "text/plain": [
       "            city  city_ascii      lat      lng  country iso2 iso3  \\\n",
       "392       Vienna      Vienna  48.2083  16.3725  Austria   AT  AUT   \n",
       "2127        Graz        Graz  47.0708  15.4386  Austria   AT  AUT   \n",
       "2772        Linz        Linz  48.3000  14.2833  Austria   AT  AUT   \n",
       "3459    Salzburg    Salzburg  47.7972  13.0477  Austria   AT  AUT   \n",
       "3961   Innsbruck   Innsbruck  47.2683  11.3933  Austria   AT  AUT   \n",
       "4966  Klagenfurt  Klagenfurt  46.6167  14.3000  Austria   AT  AUT   \n",
       "\n",
       "          admin_name  capital  population          id  \n",
       "392             Wien  primary   1911191.0  1040261752  \n",
       "2127      Steiermark    admin    289440.0  1040184559  \n",
       "2772  Oberösterreich    admin    204846.0  1040261171  \n",
       "3459        Salzburg    admin    155021.0  1040312147  \n",
       "3961           Tirol    admin    132493.0  1040038924  \n",
       "4966         Kärnten    admin    101403.0  1040149651  "
      ]
     },
     "execution_count": 31,
     "metadata": {},
     "output_type": "execute_result"
    }
   ],
   "source": [
    "df[(df['country']=='Austria') & (df['population']>100000)]"
   ]
  },
  {
   "cell_type": "code",
   "execution_count": 32,
   "metadata": {
    "colab": {
     "base_uri": "https://localhost:8080/"
    },
    "id": "8P72XcSJnxNd",
    "outputId": "aba19bda-99da-4b24-c8d1-83a7e2cbf969"
   },
   "outputs": [
    {
     "data": {
      "text/plain": [
       "392         Vienna\n",
       "2127          Graz\n",
       "2772          Linz\n",
       "3459      Salzburg\n",
       "3961     Innsbruck\n",
       "4966    Klagenfurt\n",
       "Name: city, dtype: object"
      ]
     },
     "execution_count": 32,
     "metadata": {},
     "output_type": "execute_result"
    }
   ],
   "source": [
    "df['city'][(df['country']=='Austria') & (df['population']>100000)]"
   ]
  },
  {
   "cell_type": "code",
   "execution_count": 33,
   "metadata": {
    "colab": {
     "base_uri": "https://localhost:8080/",
     "height": 424
    },
    "id": "KX5pFICpj583",
    "outputId": "0df88657-23cc-490b-9f7b-d2be9f684d24"
   },
   "outputs": [
    {
     "data": {
      "text/html": [
       "<div>\n",
       "<style scoped>\n",
       "    .dataframe tbody tr th:only-of-type {\n",
       "        vertical-align: middle;\n",
       "    }\n",
       "\n",
       "    .dataframe tbody tr th {\n",
       "        vertical-align: top;\n",
       "    }\n",
       "\n",
       "    .dataframe thead th {\n",
       "        text-align: right;\n",
       "    }\n",
       "</style>\n",
       "<table border=\"1\" class=\"dataframe\">\n",
       "  <thead>\n",
       "    <tr style=\"text-align: right;\">\n",
       "      <th></th>\n",
       "      <th>city</th>\n",
       "      <th>city_ascii</th>\n",
       "      <th>lat</th>\n",
       "      <th>lng</th>\n",
       "      <th>country</th>\n",
       "      <th>iso2</th>\n",
       "      <th>iso3</th>\n",
       "      <th>admin_name</th>\n",
       "      <th>capital</th>\n",
       "      <th>population</th>\n",
       "      <th>id</th>\n",
       "    </tr>\n",
       "  </thead>\n",
       "  <tbody>\n",
       "    <tr>\n",
       "      <th>392</th>\n",
       "      <td>Vienna</td>\n",
       "      <td>Vienna</td>\n",
       "      <td>48.2083</td>\n",
       "      <td>16.3725</td>\n",
       "      <td>Austria</td>\n",
       "      <td>AT</td>\n",
       "      <td>AUT</td>\n",
       "      <td>Wien</td>\n",
       "      <td>primary</td>\n",
       "      <td>1911191.0</td>\n",
       "      <td>1040261752</td>\n",
       "    </tr>\n",
       "    <tr>\n",
       "      <th>2127</th>\n",
       "      <td>Graz</td>\n",
       "      <td>Graz</td>\n",
       "      <td>47.0708</td>\n",
       "      <td>15.4386</td>\n",
       "      <td>Austria</td>\n",
       "      <td>AT</td>\n",
       "      <td>AUT</td>\n",
       "      <td>Steiermark</td>\n",
       "      <td>admin</td>\n",
       "      <td>289440.0</td>\n",
       "      <td>1040184559</td>\n",
       "    </tr>\n",
       "    <tr>\n",
       "      <th>2772</th>\n",
       "      <td>Linz</td>\n",
       "      <td>Linz</td>\n",
       "      <td>48.3000</td>\n",
       "      <td>14.2833</td>\n",
       "      <td>Austria</td>\n",
       "      <td>AT</td>\n",
       "      <td>AUT</td>\n",
       "      <td>Oberösterreich</td>\n",
       "      <td>admin</td>\n",
       "      <td>204846.0</td>\n",
       "      <td>1040261171</td>\n",
       "    </tr>\n",
       "    <tr>\n",
       "      <th>3459</th>\n",
       "      <td>Salzburg</td>\n",
       "      <td>Salzburg</td>\n",
       "      <td>47.7972</td>\n",
       "      <td>13.0477</td>\n",
       "      <td>Austria</td>\n",
       "      <td>AT</td>\n",
       "      <td>AUT</td>\n",
       "      <td>Salzburg</td>\n",
       "      <td>admin</td>\n",
       "      <td>155021.0</td>\n",
       "      <td>1040312147</td>\n",
       "    </tr>\n",
       "    <tr>\n",
       "      <th>3961</th>\n",
       "      <td>Innsbruck</td>\n",
       "      <td>Innsbruck</td>\n",
       "      <td>47.2683</td>\n",
       "      <td>11.3933</td>\n",
       "      <td>Austria</td>\n",
       "      <td>AT</td>\n",
       "      <td>AUT</td>\n",
       "      <td>Tirol</td>\n",
       "      <td>admin</td>\n",
       "      <td>132493.0</td>\n",
       "      <td>1040038924</td>\n",
       "    </tr>\n",
       "    <tr>\n",
       "      <th>...</th>\n",
       "      <td>...</td>\n",
       "      <td>...</td>\n",
       "      <td>...</td>\n",
       "      <td>...</td>\n",
       "      <td>...</td>\n",
       "      <td>...</td>\n",
       "      <td>...</td>\n",
       "      <td>...</td>\n",
       "      <td>...</td>\n",
       "      <td>...</td>\n",
       "      <td>...</td>\n",
       "    </tr>\n",
       "    <tr>\n",
       "      <th>40895</th>\n",
       "      <td>Bad Hall</td>\n",
       "      <td>Bad Hall</td>\n",
       "      <td>48.0344</td>\n",
       "      <td>14.2097</td>\n",
       "      <td>Austria</td>\n",
       "      <td>AT</td>\n",
       "      <td>AUT</td>\n",
       "      <td>Oberösterreich</td>\n",
       "      <td>NaN</td>\n",
       "      <td>5043.0</td>\n",
       "      <td>1040705265</td>\n",
       "    </tr>\n",
       "    <tr>\n",
       "      <th>40318</th>\n",
       "      <td>Lenzing</td>\n",
       "      <td>Lenzing</td>\n",
       "      <td>47.9761</td>\n",
       "      <td>13.5956</td>\n",
       "      <td>Austria</td>\n",
       "      <td>AT</td>\n",
       "      <td>AUT</td>\n",
       "      <td>Oberösterreich</td>\n",
       "      <td>NaN</td>\n",
       "      <td>5043.0</td>\n",
       "      <td>1040134752</td>\n",
       "    </tr>\n",
       "    <tr>\n",
       "      <th>40620</th>\n",
       "      <td>Sollenau</td>\n",
       "      <td>Sollenau</td>\n",
       "      <td>47.9000</td>\n",
       "      <td>16.2500</td>\n",
       "      <td>Austria</td>\n",
       "      <td>AT</td>\n",
       "      <td>AUT</td>\n",
       "      <td>Niederösterreich</td>\n",
       "      <td>NaN</td>\n",
       "      <td>5038.0</td>\n",
       "      <td>1040448169</td>\n",
       "    </tr>\n",
       "    <tr>\n",
       "      <th>41974</th>\n",
       "      <td>Admont</td>\n",
       "      <td>Admont</td>\n",
       "      <td>47.5731</td>\n",
       "      <td>14.4611</td>\n",
       "      <td>Austria</td>\n",
       "      <td>AT</td>\n",
       "      <td>AUT</td>\n",
       "      <td>Steiermark</td>\n",
       "      <td>NaN</td>\n",
       "      <td>5010.0</td>\n",
       "      <td>1040036946</td>\n",
       "    </tr>\n",
       "    <tr>\n",
       "      <th>40869</th>\n",
       "      <td>Grieskirchen</td>\n",
       "      <td>Grieskirchen</td>\n",
       "      <td>48.2350</td>\n",
       "      <td>13.8319</td>\n",
       "      <td>Austria</td>\n",
       "      <td>AT</td>\n",
       "      <td>AUT</td>\n",
       "      <td>Oberösterreich</td>\n",
       "      <td>minor</td>\n",
       "      <td>5002.0</td>\n",
       "      <td>1040822650</td>\n",
       "    </tr>\n",
       "  </tbody>\n",
       "</table>\n",
       "<p>237 rows × 11 columns</p>\n",
       "</div>"
      ],
      "text/plain": [
       "               city    city_ascii      lat      lng  country iso2 iso3  \\\n",
       "392          Vienna        Vienna  48.2083  16.3725  Austria   AT  AUT   \n",
       "2127           Graz          Graz  47.0708  15.4386  Austria   AT  AUT   \n",
       "2772           Linz          Linz  48.3000  14.2833  Austria   AT  AUT   \n",
       "3459       Salzburg      Salzburg  47.7972  13.0477  Austria   AT  AUT   \n",
       "3961      Innsbruck     Innsbruck  47.2683  11.3933  Austria   AT  AUT   \n",
       "...             ...           ...      ...      ...      ...  ...  ...   \n",
       "40895      Bad Hall      Bad Hall  48.0344  14.2097  Austria   AT  AUT   \n",
       "40318       Lenzing       Lenzing  47.9761  13.5956  Austria   AT  AUT   \n",
       "40620      Sollenau      Sollenau  47.9000  16.2500  Austria   AT  AUT   \n",
       "41974        Admont        Admont  47.5731  14.4611  Austria   AT  AUT   \n",
       "40869  Grieskirchen  Grieskirchen  48.2350  13.8319  Austria   AT  AUT   \n",
       "\n",
       "             admin_name  capital  population          id  \n",
       "392                Wien  primary   1911191.0  1040261752  \n",
       "2127         Steiermark    admin    289440.0  1040184559  \n",
       "2772     Oberösterreich    admin    204846.0  1040261171  \n",
       "3459           Salzburg    admin    155021.0  1040312147  \n",
       "3961              Tirol    admin    132493.0  1040038924  \n",
       "...                 ...      ...         ...         ...  \n",
       "40895    Oberösterreich      NaN      5043.0  1040705265  \n",
       "40318    Oberösterreich      NaN      5043.0  1040134752  \n",
       "40620  Niederösterreich      NaN      5038.0  1040448169  \n",
       "41974        Steiermark      NaN      5010.0  1040036946  \n",
       "40869    Oberösterreich    minor      5002.0  1040822650  \n",
       "\n",
       "[237 rows x 11 columns]"
      ]
     },
     "execution_count": 33,
     "metadata": {},
     "output_type": "execute_result"
    }
   ],
   "source": [
    "df[df['country']=='Austria']"
   ]
  },
  {
   "cell_type": "markdown",
   "metadata": {
    "id": "AwUUcHFNPUTl"
   },
   "source": [
    "indexing a columns vs the whole table"
   ]
  },
  {
   "cell_type": "code",
   "execution_count": null,
   "metadata": {
    "id": "Pa6ibVFcPW5c"
   },
   "outputs": [],
   "source": []
  },
  {
   "cell_type": "markdown",
   "metadata": {
    "id": "kJ-Ua4ZAJcGS"
   },
   "source": [
    "## data cleaning -\n",
    "how many cities do not have a population listed   -isna()\n",
    "\n",
    "drop all cities from the dataframe without population\n",
    "\n",
    "NaN indicates missing values\n"
   ]
  },
  {
   "cell_type": "code",
   "execution_count": 34,
   "metadata": {
    "colab": {
     "base_uri": "https://localhost:8080/"
    },
    "id": "i5bvKhaiJr25",
    "outputId": "ed51cef6-0fca-42ad-d6d7-dbdc1f709af2"
   },
   "outputs": [
    {
     "data": {
      "text/plain": [
       "725"
      ]
     },
     "execution_count": 34,
     "metadata": {},
     "output_type": "execute_result"
    }
   ],
   "source": [
    "np.sum(df['population'].isna())"
   ]
  },
  {
   "cell_type": "code",
   "execution_count": 35,
   "metadata": {
    "colab": {
     "base_uri": "https://localhost:8080/"
    },
    "id": "FiEZ1n5aomjA",
    "outputId": "a7ab7a11-a219-4c03-f825-2b6dfe72ca45"
   },
   "outputs": [
    {
     "data": {
      "text/plain": [
       "725"
      ]
     },
     "execution_count": 35,
     "metadata": {},
     "output_type": "execute_result"
    }
   ],
   "source": [
    "np.sum(np.isnan(df['population']))"
   ]
  },
  {
   "cell_type": "code",
   "execution_count": 36,
   "metadata": {
    "colab": {
     "base_uri": "https://localhost:8080/",
     "height": 424
    },
    "id": "XGX2zKMWqhHw",
    "outputId": "84514c6e-107b-4655-de7e-80962331e0ca"
   },
   "outputs": [
    {
     "data": {
      "text/html": [
       "<div>\n",
       "<style scoped>\n",
       "    .dataframe tbody tr th:only-of-type {\n",
       "        vertical-align: middle;\n",
       "    }\n",
       "\n",
       "    .dataframe tbody tr th {\n",
       "        vertical-align: top;\n",
       "    }\n",
       "\n",
       "    .dataframe thead th {\n",
       "        text-align: right;\n",
       "    }\n",
       "</style>\n",
       "<table border=\"1\" class=\"dataframe\">\n",
       "  <thead>\n",
       "    <tr style=\"text-align: right;\">\n",
       "      <th></th>\n",
       "      <th>city</th>\n",
       "      <th>city_ascii</th>\n",
       "      <th>lat</th>\n",
       "      <th>lng</th>\n",
       "      <th>country</th>\n",
       "      <th>iso2</th>\n",
       "      <th>iso3</th>\n",
       "      <th>admin_name</th>\n",
       "      <th>capital</th>\n",
       "      <th>population</th>\n",
       "      <th>id</th>\n",
       "    </tr>\n",
       "  </thead>\n",
       "  <tbody>\n",
       "    <tr>\n",
       "      <th>0</th>\n",
       "      <td>Tokyo</td>\n",
       "      <td>Tokyo</td>\n",
       "      <td>35.6839</td>\n",
       "      <td>139.7744</td>\n",
       "      <td>Japan</td>\n",
       "      <td>JP</td>\n",
       "      <td>JPN</td>\n",
       "      <td>Tōkyō</td>\n",
       "      <td>primary</td>\n",
       "      <td>39105000.0</td>\n",
       "      <td>1392685764</td>\n",
       "    </tr>\n",
       "    <tr>\n",
       "      <th>1</th>\n",
       "      <td>Jakarta</td>\n",
       "      <td>Jakarta</td>\n",
       "      <td>-6.2146</td>\n",
       "      <td>106.8451</td>\n",
       "      <td>Indonesia</td>\n",
       "      <td>ID</td>\n",
       "      <td>IDN</td>\n",
       "      <td>Jakarta</td>\n",
       "      <td>primary</td>\n",
       "      <td>35362000.0</td>\n",
       "      <td>1360771077</td>\n",
       "    </tr>\n",
       "    <tr>\n",
       "      <th>2</th>\n",
       "      <td>Delhi</td>\n",
       "      <td>Delhi</td>\n",
       "      <td>28.6667</td>\n",
       "      <td>77.2167</td>\n",
       "      <td>India</td>\n",
       "      <td>IN</td>\n",
       "      <td>IND</td>\n",
       "      <td>Delhi</td>\n",
       "      <td>admin</td>\n",
       "      <td>31870000.0</td>\n",
       "      <td>1356872604</td>\n",
       "    </tr>\n",
       "    <tr>\n",
       "      <th>3</th>\n",
       "      <td>Manila</td>\n",
       "      <td>Manila</td>\n",
       "      <td>14.6000</td>\n",
       "      <td>120.9833</td>\n",
       "      <td>Philippines</td>\n",
       "      <td>PH</td>\n",
       "      <td>PHL</td>\n",
       "      <td>Manila</td>\n",
       "      <td>primary</td>\n",
       "      <td>23971000.0</td>\n",
       "      <td>1608618140</td>\n",
       "    </tr>\n",
       "    <tr>\n",
       "      <th>4</th>\n",
       "      <td>São Paulo</td>\n",
       "      <td>Sao Paulo</td>\n",
       "      <td>-23.5504</td>\n",
       "      <td>-46.6339</td>\n",
       "      <td>Brazil</td>\n",
       "      <td>BR</td>\n",
       "      <td>BRA</td>\n",
       "      <td>São Paulo</td>\n",
       "      <td>admin</td>\n",
       "      <td>22495000.0</td>\n",
       "      <td>1076532519</td>\n",
       "    </tr>\n",
       "    <tr>\n",
       "      <th>...</th>\n",
       "      <td>...</td>\n",
       "      <td>...</td>\n",
       "      <td>...</td>\n",
       "      <td>...</td>\n",
       "      <td>...</td>\n",
       "      <td>...</td>\n",
       "      <td>...</td>\n",
       "      <td>...</td>\n",
       "      <td>...</td>\n",
       "      <td>...</td>\n",
       "      <td>...</td>\n",
       "    </tr>\n",
       "    <tr>\n",
       "      <th>42854</th>\n",
       "      <td>Chuquicamata</td>\n",
       "      <td>Chuquicamata</td>\n",
       "      <td>-22.3169</td>\n",
       "      <td>-68.9301</td>\n",
       "      <td>Chile</td>\n",
       "      <td>CL</td>\n",
       "      <td>CHL</td>\n",
       "      <td>Antofagasta</td>\n",
       "      <td>NaN</td>\n",
       "      <td>0.0</td>\n",
       "      <td>1152468996</td>\n",
       "    </tr>\n",
       "    <tr>\n",
       "      <th>42283</th>\n",
       "      <td>Logashkino</td>\n",
       "      <td>Logashkino</td>\n",
       "      <td>70.8536</td>\n",
       "      <td>153.8744</td>\n",
       "      <td>Russia</td>\n",
       "      <td>RU</td>\n",
       "      <td>RUS</td>\n",
       "      <td>Sakha (Yakutiya)</td>\n",
       "      <td>NaN</td>\n",
       "      <td>0.0</td>\n",
       "      <td>1643050775</td>\n",
       "    </tr>\n",
       "    <tr>\n",
       "      <th>42904</th>\n",
       "      <td>Nordvik</td>\n",
       "      <td>Nordvik</td>\n",
       "      <td>74.0165</td>\n",
       "      <td>111.5100</td>\n",
       "      <td>Russia</td>\n",
       "      <td>RU</td>\n",
       "      <td>RUS</td>\n",
       "      <td>Krasnoyarskiy Kray</td>\n",
       "      <td>NaN</td>\n",
       "      <td>0.0</td>\n",
       "      <td>1643587468</td>\n",
       "    </tr>\n",
       "    <tr>\n",
       "      <th>42848</th>\n",
       "      <td>Ağdam</td>\n",
       "      <td>Agdam</td>\n",
       "      <td>40.9053</td>\n",
       "      <td>45.5564</td>\n",
       "      <td>Azerbaijan</td>\n",
       "      <td>AZ</td>\n",
       "      <td>AZE</td>\n",
       "      <td>Tovuz</td>\n",
       "      <td>NaN</td>\n",
       "      <td>0.0</td>\n",
       "      <td>1031834023</td>\n",
       "    </tr>\n",
       "    <tr>\n",
       "      <th>9868</th>\n",
       "      <td>Lipkovo</td>\n",
       "      <td>Lipkovo</td>\n",
       "      <td>42.1553</td>\n",
       "      <td>21.5875</td>\n",
       "      <td>Macedonia</td>\n",
       "      <td>MK</td>\n",
       "      <td>MKD</td>\n",
       "      <td>Lipkovo</td>\n",
       "      <td>admin</td>\n",
       "      <td>0.0</td>\n",
       "      <td>1807754347</td>\n",
       "    </tr>\n",
       "  </tbody>\n",
       "</table>\n",
       "<p>42180 rows × 11 columns</p>\n",
       "</div>"
      ],
      "text/plain": [
       "               city    city_ascii      lat       lng      country iso2 iso3  \\\n",
       "0             Tokyo         Tokyo  35.6839  139.7744        Japan   JP  JPN   \n",
       "1           Jakarta       Jakarta  -6.2146  106.8451    Indonesia   ID  IDN   \n",
       "2             Delhi         Delhi  28.6667   77.2167        India   IN  IND   \n",
       "3            Manila        Manila  14.6000  120.9833  Philippines   PH  PHL   \n",
       "4         São Paulo     Sao Paulo -23.5504  -46.6339       Brazil   BR  BRA   \n",
       "...             ...           ...      ...       ...          ...  ...  ...   \n",
       "42854  Chuquicamata  Chuquicamata -22.3169  -68.9301        Chile   CL  CHL   \n",
       "42283    Logashkino    Logashkino  70.8536  153.8744       Russia   RU  RUS   \n",
       "42904       Nordvik       Nordvik  74.0165  111.5100       Russia   RU  RUS   \n",
       "42848         Ağdam         Agdam  40.9053   45.5564   Azerbaijan   AZ  AZE   \n",
       "9868        Lipkovo       Lipkovo  42.1553   21.5875    Macedonia   MK  MKD   \n",
       "\n",
       "               admin_name  capital  population          id  \n",
       "0                   Tōkyō  primary  39105000.0  1392685764  \n",
       "1                 Jakarta  primary  35362000.0  1360771077  \n",
       "2                   Delhi    admin  31870000.0  1356872604  \n",
       "3                  Manila  primary  23971000.0  1608618140  \n",
       "4               São Paulo    admin  22495000.0  1076532519  \n",
       "...                   ...      ...         ...         ...  \n",
       "42854         Antofagasta      NaN         0.0  1152468996  \n",
       "42283    Sakha (Yakutiya)      NaN         0.0  1643050775  \n",
       "42904  Krasnoyarskiy Kray      NaN         0.0  1643587468  \n",
       "42848               Tovuz      NaN         0.0  1031834023  \n",
       "9868              Lipkovo    admin         0.0  1807754347  \n",
       "\n",
       "[42180 rows x 11 columns]"
      ]
     },
     "execution_count": 36,
     "metadata": {},
     "output_type": "execute_result"
    }
   ],
   "source": [
    "df[df['population'].isna()==False]"
   ]
  },
  {
   "cell_type": "code",
   "execution_count": 37,
   "metadata": {
    "colab": {
     "base_uri": "https://localhost:8080/",
     "height": 424
    },
    "id": "F2b4hZM6pqIs",
    "outputId": "2fb47e0b-c3cb-4e5e-db0b-6eda4016e4b3"
   },
   "outputs": [
    {
     "data": {
      "text/html": [
       "<div>\n",
       "<style scoped>\n",
       "    .dataframe tbody tr th:only-of-type {\n",
       "        vertical-align: middle;\n",
       "    }\n",
       "\n",
       "    .dataframe tbody tr th {\n",
       "        vertical-align: top;\n",
       "    }\n",
       "\n",
       "    .dataframe thead th {\n",
       "        text-align: right;\n",
       "    }\n",
       "</style>\n",
       "<table border=\"1\" class=\"dataframe\">\n",
       "  <thead>\n",
       "    <tr style=\"text-align: right;\">\n",
       "      <th></th>\n",
       "      <th>city</th>\n",
       "      <th>city_ascii</th>\n",
       "      <th>lat</th>\n",
       "      <th>lng</th>\n",
       "      <th>country</th>\n",
       "      <th>iso2</th>\n",
       "      <th>iso3</th>\n",
       "      <th>admin_name</th>\n",
       "      <th>capital</th>\n",
       "      <th>population</th>\n",
       "      <th>id</th>\n",
       "    </tr>\n",
       "  </thead>\n",
       "  <tbody>\n",
       "    <tr>\n",
       "      <th>852</th>\n",
       "      <td>King Edward Point</td>\n",
       "      <td>King Edward Point</td>\n",
       "      <td>-54.2833</td>\n",
       "      <td>-36.5000</td>\n",
       "      <td>South Georgia And South Sandwich Islands</td>\n",
       "      <td>GS</td>\n",
       "      <td>SGS</td>\n",
       "      <td>NaN</td>\n",
       "      <td>primary</td>\n",
       "      <td>NaN</td>\n",
       "      <td>1239048838</td>\n",
       "    </tr>\n",
       "    <tr>\n",
       "      <th>10100</th>\n",
       "      <td>Edinburgh of the Seven Seas</td>\n",
       "      <td>Edinburgh of the Seven Seas</td>\n",
       "      <td>-37.0675</td>\n",
       "      <td>-12.3105</td>\n",
       "      <td>Saint Helena, Ascension, And Tristan Da Cunha</td>\n",
       "      <td>SH</td>\n",
       "      <td>SHN</td>\n",
       "      <td>Tristan da Cunha</td>\n",
       "      <td>admin</td>\n",
       "      <td>NaN</td>\n",
       "      <td>1654661876</td>\n",
       "    </tr>\n",
       "    <tr>\n",
       "      <th>9960</th>\n",
       "      <td>Qacha’s Nek</td>\n",
       "      <td>Qacha's Nek</td>\n",
       "      <td>-30.1153</td>\n",
       "      <td>28.6894</td>\n",
       "      <td>Lesotho</td>\n",
       "      <td>LS</td>\n",
       "      <td>LSO</td>\n",
       "      <td>Qacha’s Nek</td>\n",
       "      <td>admin</td>\n",
       "      <td>NaN</td>\n",
       "      <td>1426361264</td>\n",
       "    </tr>\n",
       "    <tr>\n",
       "      <th>847</th>\n",
       "      <td>Kingston</td>\n",
       "      <td>Kingston</td>\n",
       "      <td>-29.0569</td>\n",
       "      <td>167.9617</td>\n",
       "      <td>Norfolk Island</td>\n",
       "      <td>NF</td>\n",
       "      <td>NFK</td>\n",
       "      <td>NaN</td>\n",
       "      <td>primary</td>\n",
       "      <td>NaN</td>\n",
       "      <td>1574121434</td>\n",
       "    </tr>\n",
       "    <tr>\n",
       "      <th>9925</th>\n",
       "      <td>Nhlangano</td>\n",
       "      <td>Nhlangano</td>\n",
       "      <td>-27.1167</td>\n",
       "      <td>31.2000</td>\n",
       "      <td>Swaziland</td>\n",
       "      <td>SZ</td>\n",
       "      <td>SWZ</td>\n",
       "      <td>Shiselweni</td>\n",
       "      <td>admin</td>\n",
       "      <td>NaN</td>\n",
       "      <td>1748301792</td>\n",
       "    </tr>\n",
       "    <tr>\n",
       "      <th>...</th>\n",
       "      <td>...</td>\n",
       "      <td>...</td>\n",
       "      <td>...</td>\n",
       "      <td>...</td>\n",
       "      <td>...</td>\n",
       "      <td>...</td>\n",
       "      <td>...</td>\n",
       "      <td>...</td>\n",
       "      <td>...</td>\n",
       "      <td>...</td>\n",
       "      <td>...</td>\n",
       "    </tr>\n",
       "    <tr>\n",
       "      <th>10088</th>\n",
       "      <td>Kunoy</td>\n",
       "      <td>Kunoy</td>\n",
       "      <td>62.2917</td>\n",
       "      <td>-6.6702</td>\n",
       "      <td>Faroe Islands</td>\n",
       "      <td>FO</td>\n",
       "      <td>FRO</td>\n",
       "      <td>NaN</td>\n",
       "      <td>admin</td>\n",
       "      <td>NaN</td>\n",
       "      <td>1234932703</td>\n",
       "    </tr>\n",
       "    <tr>\n",
       "      <th>10038</th>\n",
       "      <td>Eiði</td>\n",
       "      <td>Eidhi</td>\n",
       "      <td>62.2995</td>\n",
       "      <td>-7.0924</td>\n",
       "      <td>Faroe Islands</td>\n",
       "      <td>FO</td>\n",
       "      <td>FRO</td>\n",
       "      <td>NaN</td>\n",
       "      <td>admin</td>\n",
       "      <td>NaN</td>\n",
       "      <td>1234150922</td>\n",
       "    </tr>\n",
       "    <tr>\n",
       "      <th>10092</th>\n",
       "      <td>Kirkja</td>\n",
       "      <td>Kirkja</td>\n",
       "      <td>62.3263</td>\n",
       "      <td>-6.3238</td>\n",
       "      <td>Faroe Islands</td>\n",
       "      <td>FO</td>\n",
       "      <td>FRO</td>\n",
       "      <td>NaN</td>\n",
       "      <td>admin</td>\n",
       "      <td>NaN</td>\n",
       "      <td>1234508245</td>\n",
       "    </tr>\n",
       "    <tr>\n",
       "      <th>10063</th>\n",
       "      <td>Viðareiði</td>\n",
       "      <td>Vidhareidhi</td>\n",
       "      <td>62.3600</td>\n",
       "      <td>-6.5313</td>\n",
       "      <td>Faroe Islands</td>\n",
       "      <td>FO</td>\n",
       "      <td>FRO</td>\n",
       "      <td>NaN</td>\n",
       "      <td>admin</td>\n",
       "      <td>NaN</td>\n",
       "      <td>1234512915</td>\n",
       "    </tr>\n",
       "    <tr>\n",
       "      <th>848</th>\n",
       "      <td>Longyearbyen</td>\n",
       "      <td>Longyearbyen</td>\n",
       "      <td>78.2167</td>\n",
       "      <td>15.6333</td>\n",
       "      <td>Svalbard</td>\n",
       "      <td>XR</td>\n",
       "      <td>XSV</td>\n",
       "      <td>NaN</td>\n",
       "      <td>primary</td>\n",
       "      <td>NaN</td>\n",
       "      <td>1930654114</td>\n",
       "    </tr>\n",
       "  </tbody>\n",
       "</table>\n",
       "<p>725 rows × 11 columns</p>\n",
       "</div>"
      ],
      "text/plain": [
       "                              city                   city_ascii      lat  \\\n",
       "852              King Edward Point            King Edward Point -54.2833   \n",
       "10100  Edinburgh of the Seven Seas  Edinburgh of the Seven Seas -37.0675   \n",
       "9960                   Qacha’s Nek                  Qacha's Nek -30.1153   \n",
       "847                       Kingston                     Kingston -29.0569   \n",
       "9925                     Nhlangano                    Nhlangano -27.1167   \n",
       "...                            ...                          ...      ...   \n",
       "10088                        Kunoy                        Kunoy  62.2917   \n",
       "10038                         Eiði                        Eidhi  62.2995   \n",
       "10092                       Kirkja                       Kirkja  62.3263   \n",
       "10063                    Viðareiði                  Vidhareidhi  62.3600   \n",
       "848                   Longyearbyen                 Longyearbyen  78.2167   \n",
       "\n",
       "            lng                                        country iso2 iso3  \\\n",
       "852    -36.5000       South Georgia And South Sandwich Islands   GS  SGS   \n",
       "10100  -12.3105  Saint Helena, Ascension, And Tristan Da Cunha   SH  SHN   \n",
       "9960    28.6894                                        Lesotho   LS  LSO   \n",
       "847    167.9617                                 Norfolk Island   NF  NFK   \n",
       "9925    31.2000                                      Swaziland   SZ  SWZ   \n",
       "...         ...                                            ...  ...  ...   \n",
       "10088   -6.6702                                  Faroe Islands   FO  FRO   \n",
       "10038   -7.0924                                  Faroe Islands   FO  FRO   \n",
       "10092   -6.3238                                  Faroe Islands   FO  FRO   \n",
       "10063   -6.5313                                  Faroe Islands   FO  FRO   \n",
       "848     15.6333                                       Svalbard   XR  XSV   \n",
       "\n",
       "             admin_name  capital  population          id  \n",
       "852                 NaN  primary         NaN  1239048838  \n",
       "10100  Tristan da Cunha    admin         NaN  1654661876  \n",
       "9960        Qacha’s Nek    admin         NaN  1426361264  \n",
       "847                 NaN  primary         NaN  1574121434  \n",
       "9925         Shiselweni    admin         NaN  1748301792  \n",
       "...                 ...      ...         ...         ...  \n",
       "10088               NaN    admin         NaN  1234932703  \n",
       "10038               NaN    admin         NaN  1234150922  \n",
       "10092               NaN    admin         NaN  1234508245  \n",
       "10063               NaN    admin         NaN  1234512915  \n",
       "848                 NaN  primary         NaN  1930654114  \n",
       "\n",
       "[725 rows x 11 columns]"
      ]
     },
     "execution_count": 37,
     "metadata": {},
     "output_type": "execute_result"
    }
   ],
   "source": [
    "df[np.isnan(df['population'])]"
   ]
  },
  {
   "cell_type": "code",
   "execution_count": 38,
   "metadata": {
    "id": "Rc5LPM_mqTZ0"
   },
   "outputs": [],
   "source": [
    "df_cleaned=df[df['population'].isna()==False]"
   ]
  },
  {
   "cell_type": "code",
   "execution_count": 39,
   "metadata": {
    "colab": {
     "base_uri": "https://localhost:8080/"
    },
    "id": "qTMcHTUEowfd",
    "outputId": "178ffdf3-8b91-452d-ef3f-2cc8f0a6d6fd"
   },
   "outputs": [
    {
     "data": {
      "text/plain": [
       "(42180, 11)"
      ]
     },
     "execution_count": 39,
     "metadata": {},
     "output_type": "execute_result"
    }
   ],
   "source": [
    "df_cleaned.shape"
   ]
  },
  {
   "cell_type": "markdown",
   "metadata": {
    "id": "5ql4XVysKpnb"
   },
   "source": [
    "drop too small cities that have a really small population (eg <1000)\n"
   ]
  },
  {
   "cell_type": "code",
   "execution_count": 42,
   "metadata": {
    "id": "AVU-chzaLvR-"
   },
   "outputs": [],
   "source": [
    "df_cleaned=df_cleaned[df_cleaned['population']>1000]"
   ]
  },
  {
   "cell_type": "code",
   "execution_count": 41,
   "metadata": {
    "colab": {
     "base_uri": "https://localhost:8080/"
    },
    "id": "FOy3spLerEVo",
    "outputId": "0e7298c8-f2bc-4497-d131-179fdb75bf09"
   },
   "outputs": [
    {
     "data": {
      "text/plain": [
       "(42180, 11)"
      ]
     },
     "execution_count": 41,
     "metadata": {},
     "output_type": "execute_result"
    }
   ],
   "source": [
    "df_cleaned.shape"
   ]
  },
  {
   "cell_type": "code",
   "execution_count": 43,
   "metadata": {
    "id": "ICxix_yfryN-"
   },
   "outputs": [],
   "source": [
    "df_cleaned=df[df['population']>1000]   #.shape"
   ]
  },
  {
   "cell_type": "markdown",
   "metadata": {
    "id": "8F818hWzLIJQ"
   },
   "source": [
    "## visualize the primary capitals by location \n",
    "make the scatter plot markers proportional to the population\n"
   ]
  },
  {
   "cell_type": "code",
   "execution_count": 44,
   "metadata": {
    "colab": {
     "base_uri": "https://localhost:8080/",
     "height": 282
    },
    "id": "QmaK7Ha7LzG_",
    "outputId": "0beb9ca5-543d-4925-c906-13c7855bc7c7"
   },
   "outputs": [
    {
     "data": {
      "text/plain": [
       "<matplotlib.collections.PathCollection at 0x7f82b5751d00>"
      ]
     },
     "execution_count": 44,
     "metadata": {},
     "output_type": "execute_result"
    },
    {
     "data": {
      "image/png": "[encoded data removed]",
      "text/plain": [
       "<Figure size 432x288 with 1 Axes>"
      ]
     },
     "metadata": {
      "needs_background": "light"
     },
     "output_type": "display_data"
    }
   ],
   "source": [
    "plt.scatter(df['lng'][df['capital']=='primary'],df['lat'][df['capital']=='primary'])"
   ]
  },
  {
   "cell_type": "code",
   "execution_count": 46,
   "metadata": {
    "colab": {
     "base_uri": "https://localhost:8080/",
     "height": 282
    },
    "id": "oXNxAPN5sbDv",
    "outputId": "1edf5d2d-80ec-44ed-fcda-7dbc89cdd82e"
   },
   "outputs": [
    {
     "data": {
      "text/plain": [
       "<matplotlib.collections.PathCollection at 0x7f82b5743340>"
      ]
     },
     "execution_count": 46,
     "metadata": {},
     "output_type": "execute_result"
    },
    {
     "data": {
      "image/png": "[encoded data removed]",
      "text/plain": [
       "<Figure size 432x288 with 1 Axes>"
      ]
     },
     "metadata": {
      "needs_background": "light"
     },
     "output_type": "display_data"
    }
   ],
   "source": [
    "Idx=df['capital']=='primary'\n",
    "plt.scatter(df['lng'][Idx],df['lat'][Idx],s=df['population'][Idx]/100000)"
   ]
  },
  {
   "cell_type": "markdown",
   "metadata": {
    "id": "Z6wVQJyEM0Nw"
   },
   "source": [
    "## Combined data analysis with numpy\n",
    "\n",
    "1. use a for loop to access each country individually, count the number of cities and their average population,\n",
    "2. store the results  in a 2d numpy array, with a column for number of cities, add a column for average population,\n",
    "3. add a 3rd column for the median population of cities\n",
    "4. add 4th column for the total city dwelling population\n",
    "\n"
   ]
  },
  {
   "cell_type": "code",
   "execution_count": 47,
   "metadata": {
    "colab": {
     "base_uri": "https://localhost:8080/"
    },
    "id": "MuAzV5ZzNKmL",
    "outputId": "e11ea64b-b970-4b65-e660-a82f94b89dce"
   },
   "outputs": [
    {
     "name": "stdout",
     "output_type": "stream",
     "text": [
      "['Afghanistan' 'Albania' 'Algeria' 'American Samoa' 'Andorra' 'Angola'\n",
      " 'Antigua And Barbuda' 'Argentina' 'Armenia' 'Aruba' 'Australia' 'Austria'\n",
      " 'Azerbaijan' 'Bahrain' 'Bangladesh' 'Barbados' 'Belarus' 'Belgium'\n",
      " 'Belize' 'Benin' 'Bermuda' 'Bhutan' 'Bolivia' 'Bosnia And Herzegovina'\n",
      " 'Botswana' 'Brazil' 'Brunei' 'Bulgaria' 'Burkina Faso' 'Burundi'\n",
      " 'Cabo Verde' 'Cambodia' 'Cameroon' 'Canada' 'Cayman Islands'\n",
      " 'Central African Republic' 'Chad' 'Chile' 'China' 'Colombia' 'Comoros'\n",
      " 'Congo (Brazzaville)' 'Congo (Kinshasa)' 'Cook Islands' 'Costa Rica'\n",
      " 'Croatia' 'Cuba' 'Curaçao ' 'Cyprus' 'Czechia' \"Côte d'Ivoire\" 'Denmark'\n",
      " 'Djibouti' 'Dominica' 'Dominican Republic' 'Ecuador' 'Egypt'\n",
      " 'El Salvador' 'Equatorial Guinea' 'Eritrea' 'Estonia' 'Ethiopia'\n",
      " 'Falkland Islands (Islas Malvinas)' 'Faroe Islands'\n",
      " 'Federated States of Micronesia' 'Fiji' 'Finland' 'France'\n",
      " 'French Guiana' 'French Polynesia' 'Gabon' 'Georgia' 'Germany' 'Ghana'\n",
      " 'Gibraltar' 'Greece' 'Greenland' 'Grenada' 'Guadeloupe' 'Guam'\n",
      " 'Guatemala' 'Guinea' 'Guinea-Bissau' 'Guyana' 'Haiti' 'Honduras'\n",
      " 'Hong Kong' 'Hungary' 'Iceland' 'India' 'Indonesia' 'Iran' 'Iraq'\n",
      " 'Ireland' 'Isle Of Man' 'Israel' 'Italy' 'Jamaica' 'Japan' 'Jersey'\n",
      " 'Jordan' 'Kazakhstan' 'Kenya' 'Kiribati' 'Kosovo' 'Kuwait' 'Kyrgyzstan'\n",
      " 'Laos' 'Latvia' 'Lebanon' 'Lesotho' 'Liberia' 'Libya' 'Liechtenstein'\n",
      " 'Lithuania' 'Luxembourg' 'Macau' 'Macedonia' 'Madagascar' 'Malawi'\n",
      " 'Malaysia' 'Maldives' 'Mali' 'Malta' 'Marshall Islands' 'Martinique'\n",
      " 'Mauritania' 'Mauritius' 'Mayotte' 'Mexico' 'Moldova' 'Monaco' 'Mongolia'\n",
      " 'Montenegro' 'Morocco' 'Mozambique' 'Myanmar' 'Namibia' 'Nepal'\n",
      " 'Netherlands' 'New Caledonia' 'New Zealand' 'Nicaragua' 'Niger' 'Nigeria'\n",
      " 'Niue' 'North Korea' 'Northern Mariana Islands' 'Norway' 'Oman'\n",
      " 'Pakistan' 'Palau' 'Panama' 'Papua New Guinea' 'Paraguay' 'Peru'\n",
      " 'Philippines' 'Poland' 'Portugal' 'Puerto Rico' 'Qatar' 'Reunion'\n",
      " 'Romania' 'Russia' 'Rwanda' 'Saint Kitts And Nevis' 'Saint Lucia'\n",
      " 'Saint Vincent And The Grenadines' 'Samoa' 'San Marino'\n",
      " 'Sao Tome And Principe' 'Saudi Arabia' 'Senegal' 'Serbia' 'Seychelles'\n",
      " 'Sierra Leone' 'Singapore' 'Slovakia' 'Slovenia' 'Solomon Islands'\n",
      " 'Somalia' 'South Africa' 'South Korea' 'South Sudan' 'Spain' 'Sri Lanka'\n",
      " 'Sudan' 'Suriname' 'Swaziland' 'Sweden' 'Switzerland' 'Syria' 'Taiwan'\n",
      " 'Tajikistan' 'Tanzania' 'Thailand' 'The Bahamas' 'The Gambia'\n",
      " 'Timor-Leste' 'Togo' 'Tonga' 'Trinidad And Tobago' 'Tunisia' 'Turkey'\n",
      " 'Turkmenistan' 'Turks And Caicos Islands' 'Tuvalu' 'Uganda' 'Ukraine'\n",
      " 'United Arab Emirates' 'United Kingdom' 'United States' 'Uruguay'\n",
      " 'Uzbekistan' 'Vanuatu' 'Venezuela' 'Vietnam' 'Yemen' 'Zambia' 'Zimbabwe']\n"
     ]
    }
   ],
   "source": [
    "Countries=np.sort(df_cleaned['country'].unique())\n",
    "print(Countries)"
   ]
  },
  {
   "cell_type": "code",
   "execution_count": 48,
   "metadata": {
    "colab": {
     "base_uri": "https://localhost:8080/"
    },
    "id": "ja2-K7UfQHG7",
    "outputId": "ae65c206-64ef-4cf8-db56-17073f06ed1e"
   },
   "outputs": [
    {
     "name": "stdout",
     "output_type": "stream",
     "text": [
      "0 Afghanistan 45\n",
      "1 Albania 51\n",
      "2 Algeria 157\n",
      "3 American Samoa 1\n",
      "4 Andorra 7\n",
      "5 Angola 93\n",
      "6 Antigua And Barbuda 1\n",
      "7 Argentina 319\n",
      "8 Armenia 55\n",
      "9 Aruba 2\n",
      "10 Australia 359\n",
      "11 Austria 237\n",
      "12 Azerbaijan 96\n",
      "13 Bahrain 4\n",
      "14 Bangladesh 19\n",
      "15 Barbados 1\n",
      "16 Belarus 88\n",
      "17 Belgium 468\n",
      "18 Belize 9\n",
      "19 Benin 13\n",
      "20 Bermuda 1\n",
      "21 Bhutan 20\n",
      "22 Bolivia 83\n",
      "23 Bosnia And Herzegovina 33\n",
      "24 Botswana 27\n",
      "25 Brazil 3604\n",
      "26 Brunei 11\n",
      "27 Bulgaria 127\n",
      "28 Burkina Faso 40\n",
      "29 Burundi 19\n",
      "30 Cabo Verde 23\n",
      "31 Cambodia 27\n",
      "32 Cameroon 36\n",
      "33 Canada 625\n",
      "34 Cayman Islands 1\n",
      "35 Central African Republic 25\n",
      "36 Chad 30\n",
      "37 Chile 171\n",
      "38 China 1545\n",
      "39 Colombia 481\n",
      "40 Comoros 5\n",
      "41 Congo (Brazzaville) 18\n",
      "42 Congo (Kinshasa) 90\n",
      "43 Cook Islands 1\n",
      "44 Costa Rica 18\n",
      "45 Croatia 57\n",
      "46 Cuba 90\n",
      "47 Curaçao  1\n",
      "48 Cyprus 20\n",
      "49 Czechia 273\n",
      "50 Côte d'Ivoire 26\n",
      "51 Denmark 12\n",
      "52 Djibouti 6\n",
      "53 Dominica 1\n",
      "54 Dominican Republic 125\n",
      "55 Ecuador 78\n",
      "56 Egypt 112\n",
      "57 El Salvador 55\n",
      "58 Equatorial Guinea 14\n",
      "59 Eritrea 15\n",
      "60 Estonia 25\n",
      "61 Ethiopia 47\n",
      "62 Falkland Islands (Islas Malvinas) 1\n",
      "63 Faroe Islands 29\n",
      "64 Federated States of Micronesia 5\n",
      "65 Fiji 8\n",
      "66 Finland 212\n",
      "67 France 2019\n",
      "68 French Guiana 7\n",
      "69 French Polynesia 1\n",
      "70 Gabon 19\n",
      "71 Georgia 41\n",
      "72 Germany 2643\n",
      "73 Ghana 30\n",
      "74 Gibraltar 1\n",
      "75 Greece 137\n",
      "76 Greenland 22\n",
      "77 Grenada 1\n",
      "78 Guadeloupe 2\n",
      "79 Guam 2\n",
      "80 Guatemala 189\n",
      "81 Guinea 29\n",
      "82 Guinea-Bissau 11\n",
      "83 Guyana 12\n",
      "84 Haiti 15\n",
      "85 Honduras 39\n",
      "86 Hong Kong 1\n",
      "87 Hungary 266\n",
      "88 Iceland 13\n",
      "89 India 1600\n",
      "90 Indonesia 140\n",
      "91 Iran 262\n",
      "92 Iraq 44\n",
      "93 Ireland 41\n",
      "94 Isle Of Man 2\n",
      "95 Israel 77\n",
      "96 Italy 2140\n",
      "97 Jamaica 18\n",
      "98 Japan 1327\n",
      "99 Jersey 1\n",
      "100 Jordan 19\n",
      "101 Kazakhstan 129\n",
      "102 Kenya 63\n",
      "103 Kiribati 2\n",
      "104 Kosovo 47\n",
      "105 Kuwait 4\n",
      "106 Kyrgyzstan 38\n",
      "107 Laos 19\n",
      "108 Latvia 43\n",
      "109 Lebanon 12\n",
      "110 Lesotho 11\n",
      "111 Liberia 17\n",
      "112 Libya 41\n",
      "113 Liechtenstein 11\n",
      "114 Lithuania 62\n",
      "115 Luxembourg 23\n",
      "116 Macau 1\n",
      "117 Macedonia 71\n",
      "118 Madagascar 29\n",
      "119 Malawi 29\n",
      "120 Malaysia 35\n",
      "121 Maldives 21\n",
      "122 Mali 33\n",
      "123 Malta 68\n",
      "124 Marshall Islands 1\n",
      "125 Martinique 1\n",
      "126 Mauritania 22\n",
      "127 Mauritius 6\n",
      "128 Mayotte 1\n",
      "129 Mexico 984\n",
      "130 Moldova 81\n",
      "131 Monaco 1\n",
      "132 Mongolia 27\n",
      "133 Montenegro 24\n",
      "134 Morocco 701\n",
      "135 Mozambique 41\n",
      "136 Myanmar 41\n",
      "137 Namibia 32\n",
      "138 Nepal 43\n",
      "139 Netherlands 331\n",
      "140 New Caledonia 3\n",
      "141 New Zealand 72\n",
      "142 Nicaragua 52\n",
      "143 Niger 69\n",
      "144 Nigeria 77\n",
      "145 Niue 1\n",
      "146 North Korea 37\n",
      "147 Northern Mariana Islands 1\n",
      "148 Norway 161\n",
      "149 Oman 16\n",
      "150 Pakistan 112\n",
      "151 Palau 3\n",
      "152 Panama 22\n",
      "153 Papua New Guinea 28\n",
      "154 Paraguay 44\n",
      "155 Peru 105\n",
      "156 Philippines 1540\n",
      "157 Poland 291\n",
      "158 Portugal 297\n",
      "159 Puerto Rico 56\n",
      "160 Qatar 8\n",
      "161 Reunion 2\n",
      "162 Romania 367\n",
      "163 Russia 1505\n",
      "164 Rwanda 15\n",
      "165 Saint Kitts And Nevis 1\n",
      "166 Saint Lucia 2\n",
      "167 Saint Vincent And The Grenadines 1\n",
      "168 Samoa 12\n",
      "169 San Marino 9\n",
      "170 Sao Tome And Principe 7\n",
      "171 Saudi Arabia 40\n",
      "172 Senegal 22\n",
      "173 Serbia 152\n",
      "174 Seychelles 1\n",
      "175 Sierra Leone 6\n",
      "176 Singapore 1\n",
      "177 Slovakia 137\n",
      "178 Slovenia 209\n",
      "179 Solomon Islands 9\n",
      "180 Somalia 29\n",
      "181 South Africa 109\n",
      "182 South Korea 77\n",
      "183 South Sudan 17\n",
      "184 Spain 1135\n",
      "185 Sri Lanka 22\n",
      "186 Sudan 39\n",
      "187 Suriname 14\n",
      "188 Swaziland 9\n",
      "189 Sweden 52\n",
      "190 Switzerland 358\n",
      "191 Syria 112\n",
      "192 Taiwan 32\n",
      "193 Tajikistan 16\n",
      "194 Tanzania 64\n",
      "195 Thailand 410\n",
      "196 The Bahamas 3\n",
      "197 The Gambia 9\n",
      "198 Timor-Leste 13\n",
      "199 Togo 9\n",
      "200 Tonga 2\n",
      "201 Trinidad And Tobago 18\n",
      "202 Tunisia 88\n",
      "203 Turkey 351\n",
      "204 Turkmenistan 24\n",
      "205 Turks And Caicos Islands 1\n",
      "206 Tuvalu 1\n",
      "207 Uganda 131\n",
      "208 Ukraine 536\n",
      "209 United Arab Emirates 9\n",
      "210 United Kingdom 858\n",
      "211 United States 7824\n",
      "212 Uruguay 57\n",
      "213 Uzbekistan 59\n",
      "214 Vanuatu 6\n",
      "215 Venezuela 97\n",
      "216 Vietnam 80\n",
      "217 Yemen 42\n",
      "218 Zambia 35\n",
      "219 Zimbabwe 26\n"
     ]
    }
   ],
   "source": [
    "Analysis=np.zeros((len(Countries),2))\n",
    "for c,con in enumerate(Countries):\n",
    "    print(c,con,np.sum(df['country']==con))\n",
    "    Analysis[c,0]=np.sum(df['country']==con)\n",
    "  "
   ]
  },
  {
   "cell_type": "code",
   "execution_count": 49,
   "metadata": {
    "colab": {
     "base_uri": "https://localhost:8080/"
    },
    "id": "RtBwdhkFwdPA",
    "outputId": "8ab048e0-f0cc-451c-a258-2d22141d58a0"
   },
   "outputs": [
    {
     "data": {
      "text/plain": [
       "array([[4.500e+01, 0.000e+00],\n",
       "       [5.100e+01, 0.000e+00],\n",
       "       [1.570e+02, 0.000e+00],\n",
       "       [1.000e+00, 0.000e+00],\n",
       "       [7.000e+00, 0.000e+00],\n",
       "       [9.300e+01, 0.000e+00],\n",
       "       [1.000e+00, 0.000e+00],\n",
       "       [3.190e+02, 0.000e+00],\n",
       "       [5.500e+01, 0.000e+00],\n",
       "       [2.000e+00, 0.000e+00],\n",
       "       [3.590e+02, 0.000e+00],\n",
       "       [2.370e+02, 0.000e+00],\n",
       "       [9.600e+01, 0.000e+00],\n",
       "       [4.000e+00, 0.000e+00],\n",
       "       [1.900e+01, 0.000e+00],\n",
       "       [1.000e+00, 0.000e+00],\n",
       "       [8.800e+01, 0.000e+00],\n",
       "       [4.680e+02, 0.000e+00],\n",
       "       [9.000e+00, 0.000e+00],\n",
       "       [1.300e+01, 0.000e+00],\n",
       "       [1.000e+00, 0.000e+00],\n",
       "       [2.000e+01, 0.000e+00],\n",
       "       [8.300e+01, 0.000e+00],\n",
       "       [3.300e+01, 0.000e+00],\n",
       "       [2.700e+01, 0.000e+00],\n",
       "       [3.604e+03, 0.000e+00],\n",
       "       [1.100e+01, 0.000e+00],\n",
       "       [1.270e+02, 0.000e+00],\n",
       "       [4.000e+01, 0.000e+00],\n",
       "       [1.900e+01, 0.000e+00],\n",
       "       [2.300e+01, 0.000e+00],\n",
       "       [2.700e+01, 0.000e+00],\n",
       "       [3.600e+01, 0.000e+00],\n",
       "       [6.250e+02, 0.000e+00],\n",
       "       [1.000e+00, 0.000e+00],\n",
       "       [2.500e+01, 0.000e+00],\n",
       "       [3.000e+01, 0.000e+00],\n",
       "       [1.710e+02, 0.000e+00],\n",
       "       [1.545e+03, 0.000e+00],\n",
       "       [4.810e+02, 0.000e+00],\n",
       "       [5.000e+00, 0.000e+00],\n",
       "       [1.800e+01, 0.000e+00],\n",
       "       [9.000e+01, 0.000e+00],\n",
       "       [1.000e+00, 0.000e+00],\n",
       "       [1.800e+01, 0.000e+00],\n",
       "       [5.700e+01, 0.000e+00],\n",
       "       [9.000e+01, 0.000e+00],\n",
       "       [1.000e+00, 0.000e+00],\n",
       "       [2.000e+01, 0.000e+00],\n",
       "       [2.730e+02, 0.000e+00],\n",
       "       [2.600e+01, 0.000e+00],\n",
       "       [1.200e+01, 0.000e+00],\n",
       "       [6.000e+00, 0.000e+00],\n",
       "       [1.000e+00, 0.000e+00],\n",
       "       [1.250e+02, 0.000e+00],\n",
       "       [7.800e+01, 0.000e+00],\n",
       "       [1.120e+02, 0.000e+00],\n",
       "       [5.500e+01, 0.000e+00],\n",
       "       [1.400e+01, 0.000e+00],\n",
       "       [1.500e+01, 0.000e+00],\n",
       "       [2.500e+01, 0.000e+00],\n",
       "       [4.700e+01, 0.000e+00],\n",
       "       [1.000e+00, 0.000e+00],\n",
       "       [2.900e+01, 0.000e+00],\n",
       "       [5.000e+00, 0.000e+00],\n",
       "       [8.000e+00, 0.000e+00],\n",
       "       [2.120e+02, 0.000e+00],\n",
       "       [2.019e+03, 0.000e+00],\n",
       "       [7.000e+00, 0.000e+00],\n",
       "       [1.000e+00, 0.000e+00],\n",
       "       [1.900e+01, 0.000e+00],\n",
       "       [4.100e+01, 0.000e+00],\n",
       "       [2.643e+03, 0.000e+00],\n",
       "       [3.000e+01, 0.000e+00],\n",
       "       [1.000e+00, 0.000e+00],\n",
       "       [1.370e+02, 0.000e+00],\n",
       "       [2.200e+01, 0.000e+00],\n",
       "       [1.000e+00, 0.000e+00],\n",
       "       [2.000e+00, 0.000e+00],\n",
       "       [2.000e+00, 0.000e+00],\n",
       "       [1.890e+02, 0.000e+00],\n",
       "       [2.900e+01, 0.000e+00],\n",
       "       [1.100e+01, 0.000e+00],\n",
       "       [1.200e+01, 0.000e+00],\n",
       "       [1.500e+01, 0.000e+00],\n",
       "       [3.900e+01, 0.000e+00],\n",
       "       [1.000e+00, 0.000e+00],\n",
       "       [2.660e+02, 0.000e+00],\n",
       "       [1.300e+01, 0.000e+00],\n",
       "       [1.600e+03, 0.000e+00],\n",
       "       [1.400e+02, 0.000e+00],\n",
       "       [2.620e+02, 0.000e+00],\n",
       "       [4.400e+01, 0.000e+00],\n",
       "       [4.100e+01, 0.000e+00],\n",
       "       [2.000e+00, 0.000e+00],\n",
       "       [7.700e+01, 0.000e+00],\n",
       "       [2.140e+03, 0.000e+00],\n",
       "       [1.800e+01, 0.000e+00],\n",
       "       [1.327e+03, 0.000e+00],\n",
       "       [1.000e+00, 0.000e+00],\n",
       "       [1.900e+01, 0.000e+00],\n",
       "       [1.290e+02, 0.000e+00],\n",
       "       [6.300e+01, 0.000e+00],\n",
       "       [2.000e+00, 0.000e+00],\n",
       "       [4.700e+01, 0.000e+00],\n",
       "       [4.000e+00, 0.000e+00],\n",
       "       [3.800e+01, 0.000e+00],\n",
       "       [1.900e+01, 0.000e+00],\n",
       "       [4.300e+01, 0.000e+00],\n",
       "       [1.200e+01, 0.000e+00],\n",
       "       [1.100e+01, 0.000e+00],\n",
       "       [1.700e+01, 0.000e+00],\n",
       "       [4.100e+01, 0.000e+00],\n",
       "       [1.100e+01, 0.000e+00],\n",
       "       [6.200e+01, 0.000e+00],\n",
       "       [2.300e+01, 0.000e+00],\n",
       "       [1.000e+00, 0.000e+00],\n",
       "       [7.100e+01, 0.000e+00],\n",
       "       [2.900e+01, 0.000e+00],\n",
       "       [2.900e+01, 0.000e+00],\n",
       "       [3.500e+01, 0.000e+00],\n",
       "       [2.100e+01, 0.000e+00],\n",
       "       [3.300e+01, 0.000e+00],\n",
       "       [6.800e+01, 0.000e+00],\n",
       "       [1.000e+00, 0.000e+00],\n",
       "       [1.000e+00, 0.000e+00],\n",
       "       [2.200e+01, 0.000e+00],\n",
       "       [6.000e+00, 0.000e+00],\n",
       "       [1.000e+00, 0.000e+00],\n",
       "       [9.840e+02, 0.000e+00],\n",
       "       [8.100e+01, 0.000e+00],\n",
       "       [1.000e+00, 0.000e+00],\n",
       "       [2.700e+01, 0.000e+00],\n",
       "       [2.400e+01, 0.000e+00],\n",
       "       [7.010e+02, 0.000e+00],\n",
       "       [4.100e+01, 0.000e+00],\n",
       "       [4.100e+01, 0.000e+00],\n",
       "       [3.200e+01, 0.000e+00],\n",
       "       [4.300e+01, 0.000e+00],\n",
       "       [3.310e+02, 0.000e+00],\n",
       "       [3.000e+00, 0.000e+00],\n",
       "       [7.200e+01, 0.000e+00],\n",
       "       [5.200e+01, 0.000e+00],\n",
       "       [6.900e+01, 0.000e+00],\n",
       "       [7.700e+01, 0.000e+00],\n",
       "       [1.000e+00, 0.000e+00],\n",
       "       [3.700e+01, 0.000e+00],\n",
       "       [1.000e+00, 0.000e+00],\n",
       "       [1.610e+02, 0.000e+00],\n",
       "       [1.600e+01, 0.000e+00],\n",
       "       [1.120e+02, 0.000e+00],\n",
       "       [3.000e+00, 0.000e+00],\n",
       "       [2.200e+01, 0.000e+00],\n",
       "       [2.800e+01, 0.000e+00],\n",
       "       [4.400e+01, 0.000e+00],\n",
       "       [1.050e+02, 0.000e+00],\n",
       "       [1.540e+03, 0.000e+00],\n",
       "       [2.910e+02, 0.000e+00],\n",
       "       [2.970e+02, 0.000e+00],\n",
       "       [5.600e+01, 0.000e+00],\n",
       "       [8.000e+00, 0.000e+00],\n",
       "       [2.000e+00, 0.000e+00],\n",
       "       [3.670e+02, 0.000e+00],\n",
       "       [1.505e+03, 0.000e+00],\n",
       "       [1.500e+01, 0.000e+00],\n",
       "       [1.000e+00, 0.000e+00],\n",
       "       [2.000e+00, 0.000e+00],\n",
       "       [1.000e+00, 0.000e+00],\n",
       "       [1.200e+01, 0.000e+00],\n",
       "       [9.000e+00, 0.000e+00],\n",
       "       [7.000e+00, 0.000e+00],\n",
       "       [4.000e+01, 0.000e+00],\n",
       "       [2.200e+01, 0.000e+00],\n",
       "       [1.520e+02, 0.000e+00],\n",
       "       [1.000e+00, 0.000e+00],\n",
       "       [6.000e+00, 0.000e+00],\n",
       "       [1.000e+00, 0.000e+00],\n",
       "       [1.370e+02, 0.000e+00],\n",
       "       [2.090e+02, 0.000e+00],\n",
       "       [9.000e+00, 0.000e+00],\n",
       "       [2.900e+01, 0.000e+00],\n",
       "       [1.090e+02, 0.000e+00],\n",
       "       [7.700e+01, 0.000e+00],\n",
       "       [1.700e+01, 0.000e+00],\n",
       "       [1.135e+03, 0.000e+00],\n",
       "       [2.200e+01, 0.000e+00],\n",
       "       [3.900e+01, 0.000e+00],\n",
       "       [1.400e+01, 0.000e+00],\n",
       "       [9.000e+00, 0.000e+00],\n",
       "       [5.200e+01, 0.000e+00],\n",
       "       [3.580e+02, 0.000e+00],\n",
       "       [1.120e+02, 0.000e+00],\n",
       "       [3.200e+01, 0.000e+00],\n",
       "       [1.600e+01, 0.000e+00],\n",
       "       [6.400e+01, 0.000e+00],\n",
       "       [4.100e+02, 0.000e+00],\n",
       "       [3.000e+00, 0.000e+00],\n",
       "       [9.000e+00, 0.000e+00],\n",
       "       [1.300e+01, 0.000e+00],\n",
       "       [9.000e+00, 0.000e+00],\n",
       "       [2.000e+00, 0.000e+00],\n",
       "       [1.800e+01, 0.000e+00],\n",
       "       [8.800e+01, 0.000e+00],\n",
       "       [3.510e+02, 0.000e+00],\n",
       "       [2.400e+01, 0.000e+00],\n",
       "       [1.000e+00, 0.000e+00],\n",
       "       [1.000e+00, 0.000e+00],\n",
       "       [1.310e+02, 0.000e+00],\n",
       "       [5.360e+02, 0.000e+00],\n",
       "       [9.000e+00, 0.000e+00],\n",
       "       [8.580e+02, 0.000e+00],\n",
       "       [7.824e+03, 0.000e+00],\n",
       "       [5.700e+01, 0.000e+00],\n",
       "       [5.900e+01, 0.000e+00],\n",
       "       [6.000e+00, 0.000e+00],\n",
       "       [9.700e+01, 0.000e+00],\n",
       "       [8.000e+01, 0.000e+00],\n",
       "       [4.200e+01, 0.000e+00],\n",
       "       [3.500e+01, 0.000e+00],\n",
       "       [2.600e+01, 0.000e+00]])"
      ]
     },
     "execution_count": 49,
     "metadata": {},
     "output_type": "execute_result"
    }
   ],
   "source": [
    "Analysis"
   ]
  },
  {
   "cell_type": "markdown",
   "metadata": {
    "id": "1_NDS_rGQGKP"
   },
   "source": [
    "1. largest city of each latitude in bins of 10 degrees\n",
    "2. largest city of each longitude in bins of 10 degrees\n",
    "![image.png](data:image/png;base64,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)"
   ]
  },
  {
   "cell_type": "code",
   "execution_count": null,
   "metadata": {
    "id": "v9F_AJQES9yg"
   },
   "outputs": [],
   "source": []
  },
  {
   "cell_type": "markdown",
   "metadata": {
    "id": "ksR6mXxXVUtU"
   },
   "source": [
    "indexing a pandas dataframe numpy style:\n",
    "iloc"
   ]
  }
 ],
 "metadata": {
  "colab": {
   "name": "TEWA1 data analysis - pandas.ipynb",
   "provenance": []
  },
  "kernelspec": {
   "display_name": "Python 3 (ipykernel)",
   "language": "python",
   "name": "python3"
  },
  "language_info": {
   "codemirror_mode": {
    "name": "ipython",
    "version": 3
   },
   "file_extension": ".py",
   "mimetype": "text/x-python",
   "name": "python",
   "nbconvert_exporter": "python",
   "pygments_lexer": "ipython3",
   "version": "3.9.0"
  }
 },
 "nbformat": 4,
 "nbformat_minor": 4
}
