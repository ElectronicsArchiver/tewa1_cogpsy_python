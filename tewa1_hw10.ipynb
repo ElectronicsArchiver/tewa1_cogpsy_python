{
 "cells": [
  {
   "cell_type": "markdown",
   "metadata": {
    "id": "aAmuxCstDaa3"
   },
   "source": [
    "homework 10\n",
    "---\n",
    "due: June 8 2022\n",
    "\n",
    "authors: pegler, prüwasser, scheftner"
   ]
  },
  {
   "cell_type": "markdown",
   "metadata": {
    "id": "c-IgiZamWZF9"
   },
   "source": [
    "## Part 1\n",
    "Take all the necessary code from tutorial 12, re-use it in the function below:\n",
    "The function should take 4 input parameters:\n",
    "1. `mean_signal`: mean of signal distribution\n",
    "2. `sd`:  same for signal and noise\n",
    "3. `crit`: criterion (above which response is signal)\n",
    "4. `n_trials`: number of trials (half of which is signal, half noise)\n",
    "\n",
    "The function should perform the simulation as above and return the hit rate and false alarm rate"
   ]
  },
  {
   "cell_type": "code",
   "execution_count": 13,
   "metadata": {},
   "outputs": [
    {
     "data": {
      "text/plain": [
       "(0.842, 0.144)"
      ]
     },
     "execution_count": 13,
     "metadata": {},
     "output_type": "execute_result"
    }
   ],
   "source": [
    "import numpy as np\n",
    "import matplotlib.pyplot as plt\n",
    "from scipy import stats\n",
    "\n",
    "signal_mean = 4\n",
    "noise_mean = 0  \n",
    "sd = 2  \n",
    "crit = 2 \n",
    "n_trials = 1000\n",
    "x = np.linspace(-10, 15, 100)\n",
    "signal = stats.norm.pdf(x, loc = signal_mean, scale = sd)\n",
    "mean_signal = np.mean(signal)\n",
    "\n",
    "\n",
    "def sim_exp(mean_signal, sd, crit, n_trials):\n",
    "    stimuli = np.random.permutation(np.concatenate((np.ones(int(n_trials / 2)), np.zeros(int(n_trials / 2)))))\n",
    "    neural_response = np.zeros(n_trials)\n",
    "    \n",
    "    for i in range(n_trials): \n",
    "        if stimuli[i]==0:\n",
    "            neural_response[i] = np.random.normal(noise_mean, sd)\n",
    "        else:\n",
    "            neural_response[i] = np.random.normal(signal_mean, sd)\n",
    "    res = np.zeros(n_trials)\n",
    "    \n",
    "    for i in range(n_trials):\n",
    "        if neural_response[i] > crit:\n",
    "            res[i] = 1\n",
    "        else:\n",
    "            res[i] = 0\n",
    "        \n",
    "    hit = np.sum((stimuli == 1) & (res == 1))\n",
    "    miss = np.sum((stimuli == 1) & (res == 0))\n",
    "    false_alarm = np.sum((stimuli == 0) & (res == 1))\n",
    "    corr_reject = np.sum((stimuli == 0) & (res == 0))\n",
    "    hit_rate = hit / (hit + miss)\n",
    "    false_alarm_rate = false_alarm / (false_alarm + corr_reject)\n",
    "    return hit_rate, false_alarm_rate\n",
    "\n",
    "\n",
    "sim_exp(mean_signal, sd, crit, n_trials)"
   ]
  },
  {
   "cell_type": "markdown",
   "metadata": {
    "id": "ve7uu_hZWvn_"
   },
   "source": [
    " ## Part 2\n",
    "calling the function above, repeatedly, we can make an ROC curve (that shows the relationship of Hit rate and false alarm rate).\n",
    "1. keep MeanSignal fixed and change the criterion in a for loop (for the values defined below)\n",
    "2. visualize  with scatter plot: False alarm Rate on x-axis, Hit rate on y axis\n",
    "3. do not forget to make the plot nice with legends, labels, fontsize, etc\n"
   ]
  },
  {
   "cell_type": "code",
   "execution_count": null,
   "metadata": {
    "colab": {
     "base_uri": "https://localhost:8080/",
     "height": 297
    },
    "id": "iH807QCiSGbX",
    "outputId": "0cbc5e50-d5e9-46d5-97d5-d114789a061b"
   },
   "outputs": [
    {
     "data": {
      "text/plain": [
       "<matplotlib.legend.Legend at 0x7fa95cf8e780>"
      ]
     },
     "execution_count": 39,
     "metadata": {
      "tags": []
     },
     "output_type": "execute_result"
    },
    {
     "data": {
      "image/png": "[encoded data removed]",
      "text/plain": [
       "<Figure size 432x288 with 1 Axes>"
      ]
     },
     "metadata": {
      "needs_background": "light",
      "tags": []
     },
     "output_type": "display_data"
    }
   ],
   "source": [
    "criteria = np.linspace(1, 3, 8)   \n",
    "# YOUR CODE\n",
    "# YOUR CODE\n",
    "# YOUR CODE\n",
    "# YOUR CODE"
   ]
  },
  {
   "cell_type": "markdown",
   "metadata": {
    "id": "QBPa9Sv_XiGu"
   },
   "source": [
    "## Part 3\n",
    "similarly to the task above, but change both the criterion and the SignalMean (2 embedded for loops, to make multiple ROC curves), and make a scatter plot with the result!\n",
    "\n",
    "use at least 8 values for criterion and 4 values for SignalMean. \n",
    "The 4 values for Signal Mean should be above 0 and below 12.\n",
    "\n",
    "\n",
    "dots that have the same signal mean (but different Criteria),should show up in the same color.\n",
    "dots that have different signal mean, should have different colors!    (this will make the figure readable)\n",
    "\n",
    "do not forget to make the plot nice with legends, labels, fontsize, etc\n",
    "\n",
    "\n"
   ]
  },
  {
   "cell_type": "code",
   "execution_count": null,
   "metadata": {
    "colab": {
     "base_uri": "https://localhost:8080/",
     "height": 297
    },
    "id": "rcrpXN-eWGtv",
    "outputId": "b6fdbbe9-0b08-4280-dec7-979912ea700d"
   },
   "outputs": [
    {
     "data": {
      "text/plain": [
       "<matplotlib.legend.Legend at 0x7fa95d05d358>"
      ]
     },
     "execution_count": 41,
     "metadata": {
      "tags": []
     },
     "output_type": "execute_result"
    },
    {
     "data": {
      "image/png": "[encoded data removed]",
      "text/plain": [
       "<Figure size 432x288 with 1 Axes>"
      ]
     },
     "metadata": {
      "needs_background": "light",
      "tags": []
     },
     "output_type": "display_data"
    }
   ],
   "source": [
    "# YOUR CODE\n",
    "# YOUR CODE\n",
    "# YOUR CODE\n",
    "# YOUR CODE   "
   ]
  },
  {
   "cell_type": "markdown",
   "metadata": {
    "id": "aAmuxCstDaa3"
   },
   "source": [
    "homework 9\n",
    "---\n",
    "due: June 1 2022\n",
    "\n",
    "authors: pegler, prüwasser, scheftner"
   ]
  }
 ],
 "metadata": {
  "colab": {
   "name": "TEWA1_SDT_tutorial.ipynb",
   "provenance": []
  },
  "kernelspec": {
   "display_name": "Python 3 (ipykernel)",
   "language": "python",
   "name": "python3"
  },
  "language_info": {
   "codemirror_mode": {
    "name": "ipython",
    "version": 3
   },
   "file_extension": ".py",
   "mimetype": "text/x-python",
   "name": "python",
   "nbconvert_exporter": "python",
   "pygments_lexer": "ipython3",
   "version": "3.9.0"
  }
 },
 "nbformat": 4,
 "nbformat_minor": 4
}
