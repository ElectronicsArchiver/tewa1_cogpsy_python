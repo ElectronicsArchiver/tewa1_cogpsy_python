{
 "cells": [
  {
   "cell_type": "markdown",
   "metadata": {
    "id": "k6m76m7IoTFv"
   },
   "source": [
    "# This is beginner tutorial for numpy \n",
    "TEWA 1 Tutorial 3\n",
    "\n",
    "- 2d arrays\n",
    "-  random number generation \n",
    "- matplolib visualizations\n",
    "\n",
    "March/2022\n",
    "\n",
    "written by Jozsef Arato, Vienna Cognitive Science Hub, University of Vienna"
   ]
  },
  {
   "cell_type": "markdown",
   "metadata": {
    "id": "H1inHIzEQ9Cu"
   },
   "source": [
    "### import libraries"
   ]
  },
  {
   "cell_type": "code",
   "execution_count": 1,
   "metadata": {
    "id": "Qe0qiwMkQ8OT"
   },
   "outputs": [],
   "source": [
    "import numpy as np\n",
    "from matplotlib import pyplot as plt"
   ]
  },
  {
   "cell_type": "markdown",
   "metadata": {
    "id": "rudIj7h8o81m"
   },
   "source": [
    "# 2d arrays\n",
    "numpy array can be multidimensional, 2d arrays are really common, we can think of a 2d array as a table of numbers (matrix) \n",
    "\n",
    "Numpy can easily handle 3d,4d etc arrays as well.\n",
    "\n",
    "Why would someone need to use array that have more than 2 dimensions?\n"
   ]
  },
  {
   "cell_type": "markdown",
   "metadata": {
    "id": "-PpLQdG6pVq5"
   },
   "source": [
    "we can create a 2d array \"manually\""
   ]
  },
  {
   "cell_type": "code",
   "execution_count": 2,
   "metadata": {
    "colab": {
     "base_uri": "https://localhost:8080/"
    },
    "id": "31T5UpDtpWTR",
    "outputId": "70ddfdd2-ac9a-43c0-9a21-7278e8c54220"
   },
   "outputs": [
    {
     "name": "stdout",
     "output_type": "stream",
     "text": [
      "[[ 1. 20.  6.]\n",
      " [40.  5. 70.]\n",
      " [55. 23. 12.]\n",
      " [78. 11. 22.]]\n",
      "Shape:  (4, 3)\n"
     ]
    }
   ],
   "source": [
    "First2D=np.array([[1,20,6],[40,5,70],[55,23,12],[78,11,22]],dtype=float)\n",
    "#First2D=np.array([[1,20,6],[40,5,70]],dtype=int)\n",
    "\n",
    "print(First2D)\n",
    "print('Shape: ',np.shape(First2D))"
   ]
  },
  {
   "cell_type": "markdown",
   "metadata": {
    "id": "gBllIeyBpiCh"
   },
   "source": [
    " 1. print the middle element of the seconds row of this 2d array \n",
    "\n",
    "for this you will need to use 2d indexing [rowid,columnid]\n",
    "\n",
    " 2. print the last element of the first row"
   ]
  },
  {
   "cell_type": "code",
   "execution_count": 6,
   "metadata": {},
   "outputs": [
    {
     "data": {
      "text/plain": [
       "array([[ 1., 20.,  6.],\n",
       "       [40.,  5., 70.],\n",
       "       [55., 23., 12.],\n",
       "       [78., 11., 22.]])"
      ]
     },
     "execution_count": 6,
     "metadata": {},
     "output_type": "execute_result"
    }
   ],
   "source": [
    "First2D"
   ]
  },
  {
   "cell_type": "code",
   "execution_count": 7,
   "metadata": {
    "colab": {
     "base_uri": "https://localhost:8080/"
    },
    "id": "UjvxwFrjpns_",
    "outputId": "d57df2c5-1621-440c-c6ab-604eac9bbed5"
   },
   "outputs": [
    {
     "name": "stdout",
     "output_type": "stream",
     "text": [
      "mid element  5.0\n",
      "last element of first row   6.0\n"
     ]
    }
   ],
   "source": [
    "print('mid element ', First2D[1][1])\n",
    "print('last element of first row  ', First2D[0][-1])"
   ]
  },
  {
   "cell_type": "markdown",
   "metadata": {
    "id": "9ye23Bc0sRbt"
   },
   "source": [
    "similarly, we can modify elements of a 2d array\n",
    "1. change the 23 in First2D to the square root of it"
   ]
  },
  {
   "cell_type": "code",
   "execution_count": 10,
   "metadata": {},
   "outputs": [
    {
     "data": {
      "text/plain": [
       "array([[ 1., 20.,  6.],\n",
       "       [40.,  5., 70.],\n",
       "       [55., 23., 12.],\n",
       "       [78., 11., 22.]])"
      ]
     },
     "execution_count": 10,
     "metadata": {},
     "output_type": "execute_result"
    }
   ],
   "source": [
    "First2D"
   ]
  },
  {
   "cell_type": "code",
   "execution_count": 12,
   "metadata": {
    "colab": {
     "base_uri": "https://localhost:8080/"
    },
    "id": "D2UOJlhIsXO3",
    "outputId": "8c028fe0-e533-4a64-ef79-1fbcaf258ef7"
   },
   "outputs": [],
   "source": [
    "First2D[2][1] = np.sqrt(First2D[2][1]) "
   ]
  },
  {
   "cell_type": "code",
   "execution_count": 13,
   "metadata": {},
   "outputs": [
    {
     "data": {
      "text/plain": [
       "array([[ 1.        , 20.        ,  6.        ],\n",
       "       [40.        ,  5.        , 70.        ],\n",
       "       [55.        ,  4.79583152, 12.        ],\n",
       "       [78.        , 11.        , 22.        ]])"
      ]
     },
     "execution_count": 13,
     "metadata": {},
     "output_type": "execute_result"
    }
   ],
   "source": [
    "First2D"
   ]
  },
  {
   "cell_type": "markdown",
   "metadata": {
    "id": "CpRDRtFjsxrJ"
   },
   "source": [
    "we can use two embedded for loops to 'iterate through' the elements of the matrix one-by-one, as below"
   ]
  },
  {
   "cell_type": "code",
   "execution_count": 14,
   "metadata": {
    "colab": {
     "base_uri": "https://localhost:8080/"
    },
    "id": "lcCc9e0ssekm",
    "outputId": "9629a4d2-a37d-446c-a56c-3813f8e4098c"
   },
   "outputs": [
    {
     "name": "stdout",
     "output_type": "stream",
     "text": [
      "i=  0 j= 0  value= 1.0\n",
      "i=  0 j= 1  value= 20.0\n",
      "i=  0 j= 2  value= 6.0\n",
      "i=  1 j= 0  value= 40.0\n",
      "i=  1 j= 1  value= 5.0\n",
      "i=  1 j= 2  value= 70.0\n",
      "i=  2 j= 0  value= 55.0\n",
      "i=  2 j= 1  value= 4.795831523312719\n",
      "i=  2 j= 2  value= 12.0\n",
      "i=  3 j= 0  value= 78.0\n",
      "i=  3 j= 1  value= 11.0\n",
      "i=  3 j= 2  value= 22.0\n"
     ]
    }
   ],
   "source": [
    "for i in np.arange(4): # index for rows\n",
    "  for j in np.arange(3): # index for columns\n",
    "    print('i= ',i,'j=',j,' value=',First2D[i,j])"
   ]
  },
  {
   "cell_type": "markdown",
   "metadata": {
    "id": "PAyMAMQLqMe7"
   },
   "source": [
    "whole rows and columns can be printed easily , with the use of the index and the \":\" sign\n",
    "\n",
    "1. print the last row\n",
    "2. print the first column"
   ]
  },
  {
   "cell_type": "code",
   "execution_count": 16,
   "metadata": {},
   "outputs": [
    {
     "data": {
      "text/plain": [
       "array([[ 1.        , 20.        ,  6.        ],\n",
       "       [40.        ,  5.        , 70.        ],\n",
       "       [55.        ,  4.79583152, 12.        ],\n",
       "       [78.        , 11.        , 22.        ]])"
      ]
     },
     "execution_count": 16,
     "metadata": {},
     "output_type": "execute_result"
    }
   ],
   "source": [
    "First2D"
   ]
  },
  {
   "cell_type": "code",
   "execution_count": 23,
   "metadata": {
    "colab": {
     "base_uri": "https://localhost:8080/"
    },
    "id": "XvCmnFlGqWrK",
    "outputId": "27b2a2a2-61f5-44d4-db94-18901a875ea2"
   },
   "outputs": [
    {
     "name": "stdout",
     "output_type": "stream",
     "text": [
      "first row [ 1. 20.  6.]\n",
      "last row [78. 11. 22.]\n",
      "first column [ 1. 40. 55. 78.]\n"
     ]
    }
   ],
   "source": [
    "print('first row',First2D[0])\n",
    "print('last row',First2D[-1])\n",
    "print('first column',First2D[:,0])"
   ]
  },
  {
   "cell_type": "markdown",
   "metadata": {
    "id": "4fdEBlGfoq5Y"
   },
   "source": [
    "create a 2d array of ones:  10 row and 8 columns\n",
    "\n",
    "to make a 2d array of ones/zeros, you need a doulble parenthesis"
   ]
  },
  {
   "cell_type": "code",
   "execution_count": 29,
   "metadata": {
    "id": "APqic8OXnBfZ"
   },
   "outputs": [
    {
     "name": "stdout",
     "output_type": "stream",
     "text": [
      "[[1. 1. 1. 1. 1. 1. 1. 1.]\n",
      " [1. 1. 1. 1. 1. 1. 1. 1.]\n",
      " [1. 1. 1. 1. 1. 1. 1. 1.]\n",
      " [1. 1. 1. 1. 1. 1. 1. 1.]\n",
      " [1. 1. 1. 1. 1. 1. 1. 1.]\n",
      " [1. 1. 1. 1. 1. 1. 1. 1.]\n",
      " [1. 1. 1. 1. 1. 1. 1. 1.]\n",
      " [1. 1. 1. 1. 1. 1. 1. 1.]\n",
      " [1. 1. 1. 1. 1. 1. 1. 1.]\n",
      " [1. 1. 1. 1. 1. 1. 1. 1.]]\n",
      "(10, 8)\n"
     ]
    }
   ],
   "source": [
    "XX= np.ones([10,8])\n",
    "print(XX)\n",
    "print(XX.shape)"
   ]
  },
  {
   "cell_type": "code",
   "execution_count": 30,
   "metadata": {
    "id": "APqic8OXnBfZ"
   },
   "outputs": [
    {
     "name": "stdout",
     "output_type": "stream",
     "text": [
      "[[1. 1. 1. 1. 1. 1. 1. 1.]\n",
      " [1. 1. 1. 1. 1. 1. 1. 1.]\n",
      " [1. 1. 1. 1. 1. 1. 1. 1.]\n",
      " [1. 1. 1. 1. 1. 1. 1. 1.]\n",
      " [1. 1. 1. 1. 1. 1. 1. 1.]\n",
      " [1. 1. 1. 1. 1. 1. 1. 1.]\n",
      " [1. 1. 1. 1. 1. 1. 1. 1.]\n",
      " [1. 1. 1. 1. 1. 1. 1. 1.]\n",
      " [1. 1. 1. 1. 1. 1. 1. 1.]\n",
      " [1. 1. 1. 1. 1. 1. 1. 1.]]\n",
      "(10, 8)\n"
     ]
    }
   ],
   "source": [
    "XX= np.ones(([10,8]))\n",
    "print(XX)\n",
    "print(XX.shape)"
   ]
  },
  {
   "cell_type": "markdown",
   "metadata": {
    "id": "gdh1x5I5o4Ta"
   },
   "source": [
    "use np.shape to check the dimensions of what we have created"
   ]
  },
  {
   "cell_type": "code",
   "execution_count": 31,
   "metadata": {
    "colab": {
     "base_uri": "https://localhost:8080/"
    },
    "id": "ROslX-OKo3u_",
    "outputId": "ca432a6d-485d-4bf4-9d04-dec34553cbaa"
   },
   "outputs": [
    {
     "name": "stdout",
     "output_type": "stream",
     "text": [
      "(10, 8)\n"
     ]
    }
   ],
   "source": [
    "Dims=np.shape(XX)\n",
    "print(Dims)"
   ]
  },
  {
   "cell_type": "markdown",
   "metadata": {
    "id": "h1y17S5uusTQ"
   },
   "source": [
    "checking the shape of an array is very useful, to see that what is happening is  what was intended"
   ]
  },
  {
   "cell_type": "markdown",
   "metadata": {
    "id": "QACerFrXxBY8"
   },
   "source": [
    "# Generating arrays of random numbers\n",
    "\n",
    "this is going to be a very important tool in this course, as it data simulation is a very useful in modern data analysis\n",
    "\n",
    "data simulations, based on generated random data are often the best way to justify a data analysis process "
   ]
  },
  {
   "cell_type": "markdown",
   "metadata": {
    "id": "Jr80dQGUxW48"
   },
   "source": [
    "run the cell below should generate a single random number between 0-1\n"
   ]
  },
  {
   "cell_type": "code",
   "execution_count": 32,
   "metadata": {
    "colab": {
     "base_uri": "https://localhost:8080/"
    },
    "id": "XyNvRQjnuT5T",
    "outputId": "d02eb2f4-d6a7-4ea4-9d28-d801994dd2b4"
   },
   "outputs": [
    {
     "data": {
      "text/plain": [
       "0.7783937309277839"
      ]
     },
     "execution_count": 32,
     "metadata": {},
     "output_type": "execute_result"
    }
   ],
   "source": [
    "np.random.rand()"
   ]
  },
  {
   "cell_type": "markdown",
   "metadata": {
    "id": "Xfr20nx2zFHo"
   },
   "source": [
    "by adding an argument we can create a 1d array of 100 random numbers"
   ]
  },
  {
   "cell_type": "code",
   "execution_count": 33,
   "metadata": {
    "colab": {
     "base_uri": "https://localhost:8080/"
    },
    "id": "DHaVrXcRoqLY",
    "outputId": "df8526eb-c936-41ce-816b-55bd3e9879e0"
   },
   "outputs": [
    {
     "name": "stdout",
     "output_type": "stream",
     "text": [
      "[0.94938825 0.76984253 0.33240242 0.25055381 0.52694468 0.7608795\n",
      " 0.94315485 0.31328581 0.02416233 0.45361623 0.27085895 0.27297347\n",
      " 0.03220557 0.69702843 0.9276207  0.25037092 0.12543627 0.03801171\n",
      " 0.57930394 0.2149615  0.64047405 0.77869452 0.51973275 0.78317693\n",
      " 0.72541933 0.36754469 0.75412487 0.04429873 0.37829173 0.10059906\n",
      " 0.68037528 0.80910082 0.52820582 0.23358056 0.90681082 0.33279295\n",
      " 0.71355231 0.43308605 0.42479106 0.07642739 0.02888497 0.20084882\n",
      " 0.2044159  0.38734458 0.12424308 0.25834161 0.40370256 0.14773695\n",
      " 0.17873875 0.07502276 0.31245177 0.67674713 0.97702292 0.03543207\n",
      " 0.52138023 0.6607065  0.90758976 0.02801362 0.99838823 0.98090762\n",
      " 0.65331515 0.54380579 0.77871142 0.82526993 0.23479976 0.67800205\n",
      " 0.98467663 0.62885253 0.26759958 0.05642338 0.1504511  0.52009331\n",
      " 0.03877657 0.20529486 0.86175967 0.3445007  0.36892863 0.40276837\n",
      " 0.14706642 0.5415252  0.64836179 0.58764853 0.86936917 0.03921938\n",
      " 0.27286335 0.1006824  0.79677401 0.63513093 0.74801724 0.55171421\n",
      " 0.25597417 0.05900958 0.04194031 0.99030607 0.83333868 0.77176642\n",
      " 0.73604475 0.04270509 0.81149991 0.93935027]\n"
     ]
    }
   ],
   "source": [
    "MyRandom=np.random.rand(100)\n",
    "print(MyRandom)"
   ]
  },
  {
   "cell_type": "markdown",
   "metadata": {
    "id": "4__4_jZxHxgv"
   },
   "source": [
    "use plt.hist, to see what we have created\n",
    "\n",
    "what does this tell us about np.random.rand?"
   ]
  },
  {
   "cell_type": "code",
   "execution_count": 35,
   "metadata": {
    "id": "tldKbv1uHwo3"
   },
   "outputs": [
    {
     "data": {
      "text/plain": [
       "(array([17., 10., 12.,  9.,  3., 10., 10., 12.,  6., 11.]),\n",
       " array([0.02416233, 0.12158492, 0.21900751, 0.3164301 , 0.41385269,\n",
       "        0.51127528, 0.60869787, 0.70612046, 0.80354305, 0.90096564,\n",
       "        0.99838823]),\n",
       " <BarContainer object of 10 artists>)"
      ]
     },
     "execution_count": 35,
     "metadata": {},
     "output_type": "execute_result"
    },
    {
     "data": {
      "image/png": "[encoded data removed]",
      "text/plain": [
       "<Figure size 432x288 with 1 Axes>"
      ]
     },
     "metadata": {
      "needs_background": "light"
     },
     "output_type": "display_data"
    }
   ],
   "source": [
    "plt.hist(MyRandom)"
   ]
  },
  {
   "cell_type": "markdown",
   "metadata": {
    "id": "riT_UX5rzM49"
   },
   "source": [
    "or by adding 2 arguments, we get a 2d array of random values"
   ]
  },
  {
   "cell_type": "code",
   "execution_count": 36,
   "metadata": {
    "colab": {
     "base_uri": "https://localhost:8080/"
    },
    "id": "YBiNppK_zRWw",
    "outputId": "8b74eeff-2f1a-4bbb-daef-8898b1262c91"
   },
   "outputs": [
    {
     "data": {
      "text/plain": [
       "array([[0.92129994, 0.65875028, 0.61660706, 0.14898736],\n",
       "       [0.89085847, 0.23275533, 0.16934564, 0.29728297],\n",
       "       [0.15630825, 0.32682687, 0.9310393 , 0.83580468],\n",
       "       [0.03819013, 0.62683541, 0.62141853, 0.02445501]])"
      ]
     },
     "execution_count": 36,
     "metadata": {},
     "output_type": "execute_result"
    }
   ],
   "source": [
    "np.random.rand(4,4)"
   ]
  },
  {
   "cell_type": "markdown",
   "metadata": {
    "id": "R-jQS_r0zjyy"
   },
   "source": [
    "if we want random integer numbers we can use the randint function.\n",
    "randint takes 3 arguments\n",
    "that define the minimum, the maximum value, and the number of elements to return\n",
    "1. fill the function to make 100 random integers between 0 and 9"
   ]
  },
  {
   "cell_type": "code",
   "execution_count": 41,
   "metadata": {
    "colab": {
     "base_uri": "https://localhost:8080/"
    },
    "id": "deQvCQsGzgAo",
    "outputId": "26c55e15-6100-4de0-f0bf-aaecee7fa5df"
   },
   "outputs": [
    {
     "data": {
      "text/plain": [
       "array([4, 5, 7, 6, 8, 6, 5, 0, 0, 4, 6, 1, 5, 5, 0, 5, 1, 3, 1, 3, 4, 8,\n",
       "       7, 1, 2, 5, 7, 5, 4, 6, 8, 0, 1, 3, 2, 2, 6, 8, 3, 2, 7, 2, 5, 0,\n",
       "       5, 6, 8, 6, 3, 6, 4, 6, 7, 1, 7, 8, 4, 0, 3, 8, 5, 4, 6, 1, 0, 8,\n",
       "       8, 3, 4, 3, 6, 2, 1, 4, 8, 3, 3, 1, 5, 2, 7, 4, 1, 4, 6, 4, 7, 2,\n",
       "       8, 0, 0, 1, 8, 5, 8, 7, 7, 0, 4, 4])"
      ]
     },
     "execution_count": 41,
     "metadata": {},
     "output_type": "execute_result"
    }
   ],
   "source": [
    "np.random.randint(0,9,100)"
   ]
  },
  {
   "cell_type": "markdown",
   "metadata": {
    "id": "H95b-xGu0Tb3"
   },
   "source": [
    "we need a small trick, to a make a 2d array of random integers\n",
    "\n",
    "1. fill the function to make a 5*5 array of integers between -3 and 3"
   ]
  },
  {
   "cell_type": "code",
   "execution_count": 42,
   "metadata": {
    "colab": {
     "base_uri": "https://localhost:8080/"
    },
    "id": "4JCWCHD50EOf",
    "outputId": "6953e470-0fab-4309-cd03-ac7298631fb9"
   },
   "outputs": [
    {
     "data": {
      "text/plain": [
       "array([[ 1,  0,  2, -1,  2],\n",
       "       [-1, -3,  0, -1,  1],\n",
       "       [ 2,  1, -3,  0, -2],\n",
       "       [-3, -1,  2,  0,  2],\n",
       "       [-2,  1,  2,  1, -1]])"
      ]
     },
     "execution_count": 42,
     "metadata": {},
     "output_type": "execute_result"
    }
   ],
   "source": [
    "np.random.randint(-3,3,[5,5])"
   ]
  },
  {
   "cell_type": "markdown",
   "metadata": {
    "id": "qp3Nc1s_0qJd"
   },
   "source": [
    "another important function is to make *normally distributed* random numbers\n",
    "\n",
    "random.normal has 3 arguments, that define the mean, the standard deviation and the shape of the array to return\n",
    "\n",
    "the standard normal distribution has mean=0 and SD=1, \n",
    "\n",
    "1. make and array of 100 standard normal distributed random numbers"
   ]
  },
  {
   "cell_type": "code",
   "execution_count": 45,
   "metadata": {
    "id": "F4MDfzFb16-K"
   },
   "outputs": [
    {
     "data": {
      "text/plain": [
       "array([-0.9718229 , -0.55277758, -0.36909717, -1.14046827,  0.32601753,\n",
       "       -0.59006244,  0.47833814,  0.52912272, -2.04844415, -1.68724422,\n",
       "        0.32670195, -1.0678114 , -0.13124111,  0.34518991,  0.6958634 ,\n",
       "        0.0788147 , -0.1112282 ,  1.09778242,  0.82530937, -0.58483138,\n",
       "       -2.19526622, -0.48956906,  1.30011201,  0.04689365,  1.11182194,\n",
       "        1.13443005, -0.96739334, -0.1638437 , -0.43160802, -0.28134347,\n",
       "        0.62778238,  1.27510127, -1.13775142,  0.03186797, -0.24259063,\n",
       "       -0.45551504,  1.48713481,  0.71481272, -0.68576332,  0.36215458,\n",
       "       -0.29049539,  0.85402849, -1.60783708, -1.1010696 ,  1.66822863,\n",
       "       -0.61707889, -1.53651951, -0.65327038,  0.42629699, -0.43633529,\n",
       "        0.41229768, -0.49836276, -0.07881658, -0.10995197,  1.93271051,\n",
       "       -0.6134007 ,  2.0121708 ,  0.92030542, -0.39731561, -0.65671865,\n",
       "        0.12665465,  1.62577165,  1.27535457, -0.15871682,  0.12764539,\n",
       "       -0.94289964, -1.23169931,  0.38892845, -1.75558874,  0.02424332,\n",
       "        2.20404153,  1.69132596,  0.20601148, -0.38879453, -0.96051179,\n",
       "       -0.73491423, -0.40821106, -0.46952218,  1.74289972, -1.57519035,\n",
       "        0.82893959,  0.16173958, -2.59351789,  1.47235368, -3.23094667,\n",
       "        1.62002434,  0.48776899, -0.62390626, -0.52367753, -0.18940577,\n",
       "        1.79814375, -0.09734017, -1.37450973,  0.1297987 , -0.46069328,\n",
       "        1.31474851,  1.06719346, -1.35347058, -0.89346723, -2.28601497])"
      ]
     },
     "execution_count": 45,
     "metadata": {},
     "output_type": "execute_result"
    }
   ],
   "source": [
    "MyNormal=np.random.normal(size=100)\n",
    "MyNormal"
   ]
  },
  {
   "cell_type": "markdown",
   "metadata": {
    "id": "fmcEZcon2f3_"
   },
   "source": [
    "now lets visualize what we have created using matplotlib"
   ]
  },
  {
   "cell_type": "code",
   "execution_count": 46,
   "metadata": {
    "colab": {
     "base_uri": "https://localhost:8080/",
     "height": 282
    },
    "id": "G9VQsmVA2sCF",
    "outputId": "ca2677af-2392-4825-c727-4e85e8217b24"
   },
   "outputs": [
    {
     "data": {
      "text/plain": [
       "[<matplotlib.lines.Line2D at 0x7fe7b1a077f0>]"
      ]
     },
     "execution_count": 46,
     "metadata": {},
     "output_type": "execute_result"
    },
    {
     "data": {
      "image/png": "[encoded data removed]",
      "text/plain": [
       "<Figure size 432x288 with 1 Axes>"
      ]
     },
     "metadata": {
      "needs_background": "light"
     },
     "output_type": "display_data"
    }
   ],
   "source": [
    "plt.plot(MyNormal)"
   ]
  },
  {
   "cell_type": "markdown",
   "metadata": {
    "id": "a9WZ8iM521_R"
   },
   "source": [
    "a simple line plot in this case is not very meaningful,\n",
    " 1.  make a histogram instead, with plt.hist"
   ]
  },
  {
   "cell_type": "code",
   "execution_count": 47,
   "metadata": {
    "colab": {
     "base_uri": "https://localhost:8080/",
     "height": 368
    },
    "id": "rrWk1DQ62-nz",
    "outputId": "784bef3e-f783-48f3-c4af-1c4ce3f467c2"
   },
   "outputs": [
    {
     "data": {
      "text/plain": [
       "(array([ 1.,  1.,  3.,  5.,  9., 14., 22., 14., 10.,  8.,  9.,  4.]),\n",
       " array([-3.23094667, -2.77803098, -2.3251153 , -1.87219962, -1.41928394,\n",
       "        -0.96636825, -0.51345257, -0.06053689,  0.3923788 ,  0.84529448,\n",
       "         1.29821016,  1.75112585,  2.20404153]),\n",
       " <BarContainer object of 12 artists>)"
      ]
     },
     "execution_count": 47,
     "metadata": {},
     "output_type": "execute_result"
    },
    {
     "data": {
      "image/png": "[encoded data removed]",
      "text/plain": [
       "<Figure size 432x288 with 1 Axes>"
      ]
     },
     "metadata": {
      "needs_background": "light"
     },
     "output_type": "display_data"
    }
   ],
   "source": [
    "plt.hist(MyNormal,bins=12)"
   ]
  },
  {
   "cell_type": "markdown",
   "metadata": {
    "id": "IoXocZOk3FKY"
   },
   "source": [
    "hopefully you can see that it is approximately normally distributed\n",
    "\n",
    "now make a histogram for the MyRandom, that we created above "
   ]
  },
  {
   "cell_type": "markdown",
   "metadata": {
    "id": "7REkjntnoGGY"
   },
   "source": [
    "As we saw, we can use np.random.rand, to make a 2d array of random numbers\n",
    "1. make 7 row by 3 column array of random numbers -MyRand2d\n"
   ]
  },
  {
   "cell_type": "code",
   "execution_count": 51,
   "metadata": {
    "colab": {
     "base_uri": "https://localhost:8080/"
    },
    "id": "4WQqK6WqoA8A",
    "outputId": "332f67e2-471d-4c02-9ea6-1989c4463448"
   },
   "outputs": [
    {
     "name": "stdout",
     "output_type": "stream",
     "text": [
      "[[0.31505177 0.10584522 0.54034315]\n",
      " [0.20798177 0.84658122 0.57854345]\n",
      " [0.96250914 0.87759819 0.22779782]\n",
      " [0.70881404 0.37809413 0.31778284]\n",
      " [0.54622529 0.88993872 0.95942344]\n",
      " [0.32373515 0.22324636 0.16184627]\n",
      " [0.90265574 0.46971191 0.80244058]]\n"
     ]
    }
   ],
   "source": [
    "MyRand2d=np.random.rand(7,3)\n",
    "print(MyRand2d)"
   ]
  },
  {
   "cell_type": "markdown",
   "metadata": {
    "id": "truDcj25pGhd"
   },
   "source": [
    " use a *for* cycle, to calculate the mean and standard deviation of each row, and print the result (also print the row number)"
   ]
  },
  {
   "cell_type": "code",
   "execution_count": 56,
   "metadata": {
    "colab": {
     "base_uri": "https://localhost:8080/"
    },
    "id": "Slh-WqqppGy_",
    "outputId": "acb0da3e-a966-4cb4-9db8-f7486421a4ef"
   },
   "outputs": [
    {
     "name": "stdout",
     "output_type": "stream",
     "text": [
      "(7, 3)\n",
      "0 0.3204133818769999\n",
      "1 0.544368813065749\n",
      "2 0.6893017144436563\n",
      "3 0.4682303353854915\n",
      "4 0.7985291494850545\n",
      "5 0.2362759260260774\n",
      "6 0.7249360785812025\n"
     ]
    }
   ],
   "source": [
    "Dims=np.shape(MyRand2d)\n",
    "print(Dims)\n",
    "for i in range(0,len(MyRand2d)):\n",
    "    print(i,np.mean(MyRand2d[i]))"
   ]
  },
  {
   "cell_type": "markdown",
   "metadata": {
    "id": "LTZuYZS4pLA2"
   },
   "source": [
    "instead of using a for cycle, in fact we can use np.mean, and np.std to calculate the mean and standard deciation for each row directl, using an optional argument in np.mean/np.\n",
    "\n",
    "1. calculate the mean and SD for each row and each column without a for cycle"
   ]
  },
  {
   "cell_type": "code",
   "execution_count": 58,
   "metadata": {
    "colab": {
     "base_uri": "https://localhost:8080/"
    },
    "id": "N3p53Rw8poM8",
    "outputId": "a506f730-d22d-4a3b-f808-d2f148b0a583"
   },
   "outputs": [
    {
     "data": {
      "text/plain": [
       "array([0.56671041, 0.54157368, 0.51259679])"
      ]
     },
     "execution_count": 58,
     "metadata": {},
     "output_type": "execute_result"
    }
   ],
   "source": [
    "np.mean(MyRand2d,axis=0)"
   ]
  },
  {
   "cell_type": "code",
   "execution_count": 59,
   "metadata": {
    "colab": {
     "base_uri": "https://localhost:8080/"
    },
    "id": "N3p53Rw8poM8",
    "outputId": "a506f730-d22d-4a3b-f808-d2f148b0a583"
   },
   "outputs": [
    {
     "data": {
      "text/plain": [
       "array([0.32041338, 0.54436881, 0.68930171, 0.46823034, 0.79852915,\n",
       "       0.23627593, 0.72493608])"
      ]
     },
     "execution_count": 59,
     "metadata": {},
     "output_type": "execute_result"
    }
   ],
   "source": [
    "np.mean(MyRand2d,axis=1)"
   ]
  },
  {
   "cell_type": "markdown",
   "metadata": {
    "id": "kT6xNfAevTRO"
   },
   "source": [
    "1. make a random 1d-array of 40 normally distributed numbers\n",
    "2. make a 2nd 1d-array of 40 random integers that are 0 or 1\n",
    "3. join these two array into a 1d array of length 80\n",
    "4. join these array into a 2d array of 40 rows and 2 columns\n"
   ]
  },
  {
   "cell_type": "code",
   "execution_count": 63,
   "metadata": {
    "colab": {
     "base_uri": "https://localhost:8080/"
    },
    "id": "ilVM2-PMqCEr",
    "outputId": "50182e27-0c0e-4aa2-bf4c-c4f1b619dc4a"
   },
   "outputs": [
    {
     "data": {
      "text/plain": [
       "array([-0.36407929, -0.61132271, -0.34744664,  0.07709075, -0.76952121,\n",
       "        0.43116144, -1.6764533 , -1.0279657 ,  0.63929453, -0.88625141,\n",
       "        0.90767093,  1.03288829, -0.51024941,  0.8733308 , -0.06873967,\n",
       "       -0.83507699,  0.57067088, -0.6318095 , -0.87284406,  0.21142786,\n",
       "       -0.77398307, -1.98136996, -0.38626489,  0.0838028 ,  0.81932406,\n",
       "       -0.88338258, -0.52636917, -0.33449692, -0.92989092, -1.19657754,\n",
       "        1.31201567, -0.92073827, -1.90966979,  0.52804951,  0.01466981,\n",
       "       -1.84859491, -0.04907264, -0.36188417, -0.48498893, -0.41765515])"
      ]
     },
     "execution_count": 63,
     "metadata": {},
     "output_type": "execute_result"
    }
   ],
   "source": [
    "N=40\n",
    "Arr1=np.random.normal(size=N)\n",
    "Arr1"
   ]
  },
  {
   "cell_type": "code",
   "execution_count": 83,
   "metadata": {
    "colab": {
     "base_uri": "https://localhost:8080/"
    },
    "id": "ilVM2-PMqCEr",
    "outputId": "50182e27-0c0e-4aa2-bf4c-c4f1b619dc4a"
   },
   "outputs": [
    {
     "name": "stdout",
     "output_type": "stream",
     "text": [
      "[1 1 1 0 0 0 1 1 1 1 0 1 0 1 1 1 0 0 1 0 1 1 1 1 1 0 1 0 1 0 0 1 0 0 1 1 0\n",
      " 0 0 1]\n",
      "\n"
     ]
    }
   ],
   "source": [
    "Arr2=np.random.randint(0,2,size=N)\n",
    "print(Arr2)\n",
    "print(\"\")                      "
   ]
  },
  {
   "cell_type": "code",
   "execution_count": 86,
   "metadata": {},
   "outputs": [
    {
     "data": {
      "text/plain": [
       "array([-0.36407929, -0.61132271, -0.34744664,  0.07709075, -0.76952121,\n",
       "        0.43116144, -1.6764533 , -1.0279657 ,  0.63929453, -0.88625141,\n",
       "        0.90767093,  1.03288829, -0.51024941,  0.8733308 , -0.06873967,\n",
       "       -0.83507699,  0.57067088, -0.6318095 , -0.87284406,  0.21142786,\n",
       "       -0.77398307, -1.98136996, -0.38626489,  0.0838028 ,  0.81932406,\n",
       "       -0.88338258, -0.52636917, -0.33449692, -0.92989092, -1.19657754,\n",
       "        1.31201567, -0.92073827, -1.90966979,  0.52804951,  0.01466981,\n",
       "       -1.84859491, -0.04907264, -0.36188417, -0.48498893, -0.41765515,\n",
       "        1.        ,  1.        ,  1.        ,  0.        ,  0.        ,\n",
       "        0.        ,  1.        ,  1.        ,  1.        ,  1.        ,\n",
       "        0.        ,  1.        ,  0.        ,  1.        ,  1.        ,\n",
       "        1.        ,  0.        ,  0.        ,  1.        ,  0.        ,\n",
       "        1.        ,  1.        ,  1.        ,  1.        ,  1.        ,\n",
       "        0.        ,  1.        ,  0.        ,  1.        ,  0.        ,\n",
       "        0.        ,  1.        ,  0.        ,  0.        ,  1.        ,\n",
       "        1.        ,  0.        ,  0.        ,  0.        ,  1.        ])"
      ]
     },
     "execution_count": 86,
     "metadata": {},
     "output_type": "execute_result"
    }
   ],
   "source": [
    "np.concatenate((Arr1,Arr2))"
   ]
  },
  {
   "cell_type": "markdown",
   "metadata": {
    "id": "hU-Qch3HwskU"
   },
   "source": [
    "Below we define a relatively long array "
   ]
  },
  {
   "cell_type": "code",
   "execution_count": 87,
   "metadata": {
    "id": "DUfJTXbpxDxy"
   },
   "outputs": [],
   "source": [
    "MyRandL=np.array([892, 209, 233, 736, 652, 899, 735, 754, 821,  37, 885, 881, 219,\n",
    "         3, 113, 731, 699, 390,  17, 720, 164,  61,  95, 473, 467, 285,\n",
    "       669, 364, 623, 552, 116, 404, 270, 415, 919, 160, 206, 544, 122,\n",
    "       291, 811, 674, 441,  74, 898, 520, 358, 238, 219, 152, 974, 578,\n",
    "       360, 479, 135, 950,  37,  26, 449,  51,  60, 425, 941,  83, 999,\n",
    "       619, 150, 223, 614, 918, 164, 222, 788, 429, 223, 922, 936, 815,\n",
    "       876, 180, 539, 338, 104, 725, 946, 294, 116, 930, 555,  46, 951,\n",
    "       803,  50, 181, 120,  39, 593, 119, 691, 473, 637, 956, 247, 955,\n",
    "       229, 400, 120, 201, 116, 392, 716, 174, 949, 654, 359, 884, 536,\n",
    "       790,  69, 460, 938, 999, 494, 199, 186, 899, 431, 210, 205, 853,\n",
    "        96, 222, 659, 648, 616, 852, 717, 520, 783, 435, 586,  75, 217,\n",
    "       261, 852, 493, 747, 468, 505,  68, 798, 585, 652, 888, 681, 859,\n",
    "       307, 947,  63,  31, 195, 152, 330, 159, 735, 453, 515, 813, 721,\n",
    "       511, 933, 236, 889, 432, 493, 913, 905, 183, 740,  37, 881, 887,\n",
    "       519, 315, 318,  70, 114, 682, 107, 708, 209, 887,  24, 320, 451,\n",
    "       800, 525, 432,  87, 115, 129, 395, 509, 453, 641, 429, 186, 437,\n",
    "       511, 234, 909, 146, 533, 210, 946, 182, 652, 611, 427, 379, 310,\n",
    "       880,  48, 793, 834, 631, 589, 366, 685, 814, 512, 578, 111, 930,\n",
    "       967, 150,  25, 812, 149, 871, 688, 950, 642, 512, 773, 475, 890,\n",
    "       318, 335, 459, 345, 332, 246, 498,  51, 698, 799, 745, 875, 286,\n",
    "       834,  27, 882, 339, 918, 419, 716, 110, 296, 596, 462, 638, 709,\n",
    "       861,  55, 122, 302, 553, 466,  26, 956, 388, 481, 941, 931, 915,\n",
    "       705, 340, 552, 150, 152, 934, 722, 351, 893, 203, 224, 494,  28,\n",
    "       630])"
   ]
  },
  {
   "cell_type": "markdown",
   "metadata": {
    "id": "1v3ustt5xaV8"
   },
   "source": [
    "Calculate:\n",
    "1. L=length of MyRandL\n",
    "2. proportion of values below 100\n",
    "3. make a histogram MyRandL\n",
    "4. what is the maximum value and where is the maximum value of MyRandL ? find the index of the maximum!\n",
    "\n"
   ]
  },
  {
   "cell_type": "code",
   "execution_count": 94,
   "metadata": {},
   "outputs": [
    {
     "data": {
      "text/plain": [
       "(array([ 64, 121]),)"
      ]
     },
     "execution_count": 94,
     "metadata": {},
     "output_type": "execute_result"
    }
   ],
   "source": []
  },
  {
   "cell_type": "code",
   "execution_count": 100,
   "metadata": {
    "colab": {
     "base_uri": "https://localhost:8080/"
    },
    "id": "7nkPCMX7x3Wp",
    "outputId": "af4dcc73-c457-4d2a-c4da-2604cd2cd932"
   },
   "outputs": [
    {
     "name": "stdout",
     "output_type": "stream",
     "text": [
      "Prop <100 is --> 0.0033333333333333335\n",
      "999 at (array([ 64, 121]),)\n"
     ]
    },
    {
     "data": {
      "image/png": "[encoded data removed]",
      "text/plain": [
       "<Figure size 432x288 with 1 Axes>"
      ]
     },
     "metadata": {
      "needs_background": "light"
     },
     "output_type": "display_data"
    }
   ],
   "source": [
    "L=len(MyRandL)\n",
    "Prop=len(np.where(MyRandL<100))/len(MyRandL)\n",
    "print(\"Prop <100 is -->\",Prop)\n",
    "print(np.max(MyRandL),\"at\",np.where(MyRandL==np.max(MyRandL)))\n",
    "plt.hist(MyRandL);"
   ]
  },
  {
   "cell_type": "markdown",
   "metadata": {
    "id": "NrkdB1DyFfdb"
   },
   "source": [
    "make a copy of MyRand2d, using numpy copy\n",
    "\n",
    "modifiy some values in MyRand2d"
   ]
  },
  {
   "cell_type": "code",
   "execution_count": 103,
   "metadata": {
    "colab": {
     "base_uri": "https://localhost:8080/"
    },
    "id": "_EUFLuT7TYGL",
    "outputId": "1947e56f-2678-4cfb-a4c2-c7150276d528"
   },
   "outputs": [
    {
     "data": {
      "text/plain": [
       "array([[1.        , 0.10584522, 0.54034315],\n",
       "       [0.20798177, 0.84658122, 0.57854345],\n",
       "       [0.96250914, 0.87759819, 0.22779782],\n",
       "       [0.70881404, 0.37809413, 0.31778284],\n",
       "       [0.54622529, 0.88993872, 0.95942344],\n",
       "       [0.32373515, 0.22324636, 0.16184627],\n",
       "       [0.90265574, 0.46971191, 0.80244058]])"
      ]
     },
     "execution_count": 103,
     "metadata": {},
     "output_type": "execute_result"
    }
   ],
   "source": [
    "#print(MyRand2d)\n",
    "\n",
    "MyRand2d_mod=np.copy(MyRand2d) #[:]\n",
    "MyRand2d_mod[0,0] = 1\n",
    "MyRand2d_mod\n"
   ]
  },
  {
   "cell_type": "markdown",
   "metadata": {
    "id": "3ywy1ZfOzFzB"
   },
   "source": [
    "1. Make an 2d array of 5 row*10 column of zeros called XX1\n",
    "2. use a for cycle to change the values of each row, to the values 0:9 using np.arange\n",
    "3. use plt.pcolor to visualize what we have created\n",
    "\n",
    "\n"
   ]
  },
  {
   "cell_type": "code",
   "execution_count": 121,
   "metadata": {
    "id": "_h45RuqAzW3f"
   },
   "outputs": [
    {
     "data": {
      "text/plain": [
       "<matplotlib.collections.PolyCollection at 0x7fe7af7e67c0>"
      ]
     },
     "execution_count": 121,
     "metadata": {},
     "output_type": "execute_result"
    },
    {
     "data": {
      "image/png": "[encoded data removed]",
      "text/plain": [
       "<Figure size 432x288 with 1 Axes>"
      ]
     },
     "metadata": {
      "needs_background": "light"
     },
     "output_type": "display_data"
    }
   ],
   "source": [
    "XX1=np.zeros((5,10))\n",
    "\n",
    "for i in range(len(XX1)):\n",
    "    XX1[i,] = np.arange(0,10)\n",
    "\n",
    "plt.pcolor(XX1)"
   ]
  },
  {
   "cell_type": "markdown",
   "metadata": {
    "id": "EENy-YpQs1G2"
   },
   "source": [
    "HOMEWORK 1.\n",
    "\n",
    "write a function that takes as input a 1d numpy array, and calculates the number of elements that are bigger than 0 but smaller than 10."
   ]
  },
  {
   "cell_type": "code",
   "execution_count": null,
   "metadata": {
    "id": "i67McD5kvK41"
   },
   "outputs": [],
   "source": [
    "\n"
   ]
  },
  {
   "cell_type": "markdown",
   "metadata": {
    "id": "eLMr4UMEqE3z"
   },
   "source": [
    "HOMEWORK 2.\n",
    "1. make a 1d array of 50 normally distributed random values, with mean=10 and SD=4\n",
    "2. make a figures with two subplots, on subplot 1 should be a histogram of the result on subplot 2 should be a scatter plot containing the values in order on the X axis, and the actual values on the Y  (plt.subplot)\n",
    "\n",
    "3. calculate the proporiton of these numbers that are smaller than 7\n",
    "\n",
    "4. calculate the proportion of that is smaller 5 or bigger than 14\n",
    "\n",
    "5. make a new scatter plot that has different color for these extreme values (red), that you found in 4. (you can use a for cycle to make a scatter for each dot individually)\n"
   ]
  },
  {
   "cell_type": "code",
   "execution_count": null,
   "metadata": {
    "colab": {
     "base_uri": "https://localhost:8080/",
     "height": 265
    },
    "id": "w5-BSIqMvLle",
    "outputId": "30cf9245-c76e-4f73-c9f5-190f7bd015ca"
   },
   "outputs": [
    {
     "data": {
      "image/png": "[encoded data removed]",
      "text/plain": [
       "<Figure size 432x288 with 2 Axes>"
      ]
     },
     "metadata": {
      "needs_background": "light"
     },
     "output_type": "display_data"
    }
   ],
   "source": [
    "\n",
    "\n"
   ]
  },
  {
   "cell_type": "code",
   "execution_count": null,
   "metadata": {
    "colab": {
     "base_uri": "https://localhost:8080/"
    },
    "id": "QZMKhR43uIZb",
    "outputId": "5d87de10-373d-4d30-f572-f9a8dcde20c8"
   },
   "outputs": [
    {
     "data": {
      "text/plain": [
       "array([2, 1, 0, 3, 4])"
      ]
     },
     "execution_count": 13,
     "metadata": {},
     "output_type": "execute_result"
    }
   ],
   "source": []
  },
  {
   "cell_type": "markdown",
   "metadata": {
    "id": "n3Y6OUzjuxcC"
   },
   "source": [
    " HOMEWORK 3:\n",
    " \n",
    "write a function (My10Up) that takes as an input 2d numpy array (matrix) of numbers, calculates the number of elements that are bigger than 10 for each row.\n",
    "this function should return an array (Num10Up) that is the length of the number of rows in the input. \n",
    "first write a solution with a for cycle, where you initialize Num10Up with an array of zeros (equaling the number of rows).\n",
    "in fact the task can be solved without for cycle with a single line of code, try to find this solution as well."
   ]
  },
  {
   "cell_type": "code",
   "execution_count": null,
   "metadata": {
    "id": "07-l4onkvL_V"
   },
   "outputs": [],
   "source": []
  },
  {
   "cell_type": "code",
   "execution_count": null,
   "metadata": {
    "colab": {
     "base_uri": "https://localhost:8080/"
    },
    "id": "5rEeb61afm1u",
    "outputId": "8e278c6d-456f-4c36-c8bc-20b724da7b0c"
   },
   "outputs": [
    {
     "name": "stdout",
     "output_type": "stream",
     "text": [
      "[[ 1 11 21]\n",
      " [20 40 60]]\n",
      "[2. 3.]\n",
      "[2 3]\n"
     ]
    }
   ],
   "source": []
  }
 ],
 "metadata": {
  "colab": {
   "name": "Tewa1-Tutorial3-numpy2.ipynb",
   "provenance": []
  },
  "kernelspec": {
   "display_name": "Python 3 (ipykernel)",
   "language": "python",
   "name": "python3"
  },
  "language_info": {
   "codemirror_mode": {
    "name": "ipython",
    "version": 3
   },
   "file_extension": ".py",
   "mimetype": "text/x-python",
   "name": "python",
   "nbconvert_exporter": "python",
   "pygments_lexer": "ipython3",
   "version": "3.9.7"
  }
 },
 "nbformat": 4,
 "nbformat_minor": 4
}
