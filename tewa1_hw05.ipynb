{
 "cells": [
  {
   "cell_type": "markdown",
   "metadata": {
    "id": "RFrqPx1R41dl",
    "tags": []
   },
   "source": [
    "homework 5\n",
    "---\n",
    "\n",
    "\n",
    "# Part 1: car price simulation  "
   ]
  },
  {
   "cell_type": "markdown",
   "metadata": {
    "id": "RGeCcZ-t2msu",
    "tags": []
   },
   "source": [
    "\n",
    "a new car costs 30 000 euros on average\n",
    "\n",
    "\n",
    "simulate 200 car prices from the last 70 years, with the assumption that while as cars get older it is cheaper, however very old cars , have a vintage value, that is eventually if the are old enough they could worth more than a new car.\n",
    "\n",
    "\n",
    "use a standard devation of 10 000 euros\n",
    "\n",
    "\n",
    "\n",
    "hint: use a linear model for the simualtion with a two predictors, and linear and a quadratic term   \n",
    "\n",
    "\n",
    "\n",
    "test different values for the two slopes, simulate data, until you manage to simulate realistic car prices, that satisfy the above criteria..\n",
    "\n",
    "\n",
    "\n",
    "\n"
   ]
  },
  {
   "cell_type": "code",
   "execution_count": null,
   "metadata": {
    "id": "loLoZiIa3u2u"
   },
   "outputs": [],
   "source": []
  },
  {
   "cell_type": "markdown",
   "metadata": {
    "id": "IC3qE7_p4SWT"
   },
   "source": [
    "once you found good values for this simulation, make a nice visualization of the simulated data"
   ]
  },
  {
   "cell_type": "code",
   "execution_count": null,
   "metadata": {
    "id": "6LhsSPlH4YUH"
   },
   "outputs": [],
   "source": []
  },
  {
   "cell_type": "markdown",
   "metadata": {
    "id": "KaXB-COv9aI4"
   },
   "source": [
    "# Part 2: reliability of regression analysis\n",
    "since we created the data, we can see how close are the true values to the 'generative' model\n",
    "next task is to systematically investigate this relationship\n",
    "you will have to manipualte the number of datapoints, and the error in the model, and analyze the difference between the data generating and the fitted regression parameters\n",
    "\n",
    "\n",
    "this task is somewhat analogous to the t-test tutorial\n"
   ]
  },
  {
   "cell_type": "code",
   "execution_count": null,
   "metadata": {
    "id": "jKIlo7RYAAMY"
   },
   "outputs": [],
   "source": []
  }
 ],
 "metadata": {
  "colab": {
   "name": "Tutorial4-dataSimulation.ipynb",
   "provenance": []
  },
  "kernelspec": {
   "display_name": "Python 3 (ipykernel)",
   "language": "python",
   "name": "python3"
  },
  "language_info": {
   "codemirror_mode": {
    "name": "ipython",
    "version": 3
   },
   "file_extension": ".py",
   "mimetype": "text/x-python",
   "name": "python",
   "nbconvert_exporter": "python",
   "pygments_lexer": "ipython3",
   "version": "3.9.0"
  }
 },
 "nbformat": 4,
 "nbformat_minor": 4
}
