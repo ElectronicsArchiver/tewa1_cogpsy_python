{
 "cells": [
  {
   "cell_type": "markdown",
   "metadata": {
    "id": "RFrqPx1R41dl",
    "tags": []
   },
   "source": [
    "homework 5\n",
    "---\n",
    "\n",
    "\n",
    "# Part 3: car price simulation  "
   ]
  },
  {
   "cell_type": "markdown",
   "metadata": {
    "id": "RGeCcZ-t2msu",
    "tags": []
   },
   "source": [
    "\n",
    "a new car costs 30 000 euros on average\n",
    "\n",
    "\n",
    "simulate 200 car prices from the last 70 years, with the assumption that while as cars get older it is cheaper, however very old cars , have a vintage value, that is eventually if the are old enough they could worth more than a new car.\n",
    "\n",
    "\n",
    "use a standard devation of 10 000 euros\n",
    "\n",
    "\n",
    "\n",
    "hint: use a linear model for the simualtion with a two predictors, and linear and a quadratic term   \n",
    "\n",
    "\n",
    "\n",
    "test different values for the two slopes, simulate data, until you manage to simulate realistic car prices, that satisfy the above criteria..\n",
    "\n",
    "\n",
    "\n",
    "\n"
   ]
  },
  {
   "cell_type": "code",
   "execution_count": 159,
   "metadata": {},
   "outputs": [],
   "source": [
    "mean_value_new = 30_000\n",
    "sd_new = 10_000\n",
    "n = 200"
   ]
  },
  {
   "cell_type": "markdown",
   "metadata": {},
   "source": [
    "## Finding a function and coefficients for a realistic curve"
   ]
  },
  {
   "cell_type": "code",
   "execution_count": 160,
   "metadata": {},
   "outputs": [
    {
     "data": {
      "image/png": "[encoded data removed]",
      "text/plain": [
       "<Figure size 432x288 with 1 Axes>"
      ]
     },
     "metadata": {
      "needs_background": "light"
     },
     "output_type": "display_data"
    }
   ],
   "source": [
    "import sympy as spy\n",
    "\n",
    "age, value_func = spy.symbols(\"age value\")\n",
    "\n",
    "b_0 = mean_value_new # avg value at age = 0\n",
    "b_1 = 1500 # value loss per year\n",
    "b_2 = 22 # value gain per year*year\n",
    "\n",
    "value_func = b_0 - b_1 * age + b_2 * age**2\n",
    "\n",
    "spy.plot(value_func,(age, 0, 70),xlim=(0,70),ylim=(0,40_000),axis_center=(0,0));"
   ]
  },
  {
   "cell_type": "markdown",
   "metadata": {},
   "source": [
    "### Minimum is where derivative is 0"
   ]
  },
  {
   "cell_type": "markdown",
   "metadata": {},
   "source": [
    "Derivative of value for age"
   ]
  },
  {
   "cell_type": "code",
   "execution_count": 161,
   "metadata": {},
   "outputs": [
    {
     "data": {
      "text/latex": [
       "$\\displaystyle 44 age - 1500$"
      ],
      "text/plain": [
       "44*age - 1500"
      ]
     },
     "execution_count": 161,
     "metadata": {},
     "output_type": "execute_result"
    }
   ],
   "source": [
    "d_age = spy.diff(value_func,age)\n",
    "d_age"
   ]
  },
  {
   "cell_type": "markdown",
   "metadata": {},
   "source": [
    "Age at minimum value"
   ]
  },
  {
   "cell_type": "code",
   "execution_count": 162,
   "metadata": {},
   "outputs": [
    {
     "data": {
      "text/plain": [
       "34.09090909090909"
      ]
     },
     "execution_count": 162,
     "metadata": {},
     "output_type": "execute_result"
    }
   ],
   "source": [
    "age_min = float(spy.solve(d_age)[0])\n",
    "age_min"
   ]
  },
  {
   "cell_type": "markdown",
   "metadata": {},
   "source": [
    "Minimum value"
   ]
  },
  {
   "cell_type": "code",
   "execution_count": 163,
   "metadata": {},
   "outputs": [
    {
     "data": {
      "text/plain": [
       "4431.818181818182"
      ]
     },
     "execution_count": 163,
     "metadata": {},
     "output_type": "execute_result"
    }
   ],
   "source": [
    "price_min = float(value_func.evalf(subs={age:age_min}))\n",
    "price_min"
   ]
  },
  {
   "cell_type": "markdown",
   "metadata": {},
   "source": [
    "## Create simulated data from function"
   ]
  },
  {
   "cell_type": "code",
   "execution_count": 156,
   "metadata": {},
   "outputs": [],
   "source": [
    "import numpy as np\n",
    "import matplotlib.pyplot as plt"
   ]
  },
  {
   "cell_type": "code",
   "execution_count": 194,
   "metadata": {},
   "outputs": [
    {
     "data": {
      "image/png": "[encoded data removed]",
      "text/plain": [
       "<Figure size 432x288 with 1 Axes>"
      ]
     },
     "metadata": {
      "needs_background": "light"
     },
     "output_type": "display_data"
    }
   ],
   "source": [
    "# creating sample of car ages (uniformly distributed)\n",
    "\n",
    "sample_ages = np.random.randint(0,71,200)\n",
    "plt.hist(sample_ages);"
   ]
  },
  {
   "cell_type": "code",
   "execution_count": 191,
   "metadata": {},
   "outputs": [
    {
     "data": {
      "text/latex": [
       "$\\displaystyle 22 age^{2} - 1500 age + 30000$"
      ],
      "text/plain": [
       "22*age**2 - 1500*age + 30000"
      ]
     },
     "execution_count": 191,
     "metadata": {},
     "output_type": "execute_result"
    }
   ],
   "source": [
    "value_func"
   ]
  },
  {
   "cell_type": "markdown",
   "metadata": {},
   "source": [
    "Value = Value_mean - 1500 * Age + 22 * Age² + Error "
   ]
  },
  {
   "cell_type": "code",
   "execution_count": 245,
   "metadata": {},
   "outputs": [
    {
     "data": {
      "text/plain": [
       "34617.598578372694"
      ]
     },
     "execution_count": 245,
     "metadata": {},
     "output_type": "execute_result"
    }
   ],
   "source": [
    "age = 5\n",
    "\n",
    "mean_value_new - b_1 * age + b_2 * age**2 + np.random.normal(0,sd_new)"
   ]
  },
  {
   "cell_type": "code",
   "execution_count": null,
   "metadata": {
    "id": "6LhsSPlH4YUH"
   },
   "outputs": [],
   "source": [
    "# creating sample of aged values (assumed to be normally distributed given that its originating from a uniform and a normal sample)\n",
    "\n",
    "# each value in sample_new_values will be \"aged\" via value function and its counterpart age in sample_ages\n",
    "\n",
    "sample_aged_values = \n",
    "sample_aged_values\n",
    "#plt.hist(sample_aged_values);"
   ]
  },
  {
   "cell_type": "code",
   "execution_count": null,
   "metadata": {},
   "outputs": [],
   "source": []
  },
  {
   "cell_type": "markdown",
   "metadata": {
    "id": "KaXB-COv9aI4"
   },
   "source": [
    "# Part 2: reliability of regression analysis\n",
    "since we created the data, we can see how close are the true values to the 'generative' model\n",
    "next task is to systematically investigate this relationship\n",
    "you will have to manipualte the number of datapoints, and the error in the model, and analyze the difference between the data generating and the fitted regression parameters\n",
    "\n",
    "\n",
    "this task is somewhat analogous to the t-test tutorial\n"
   ]
  },
  {
   "cell_type": "code",
   "execution_count": null,
   "metadata": {
    "id": "jKIlo7RYAAMY"
   },
   "outputs": [],
   "source": []
  }
 ],
 "metadata": {
  "colab": {
   "name": "Tutorial4-dataSimulation.ipynb",
   "provenance": []
  },
  "kernelspec": {
   "display_name": "Python 3 (ipykernel)",
   "language": "python",
   "name": "python3"
  },
  "language_info": {
   "codemirror_mode": {
    "name": "ipython",
    "version": 3
   },
   "file_extension": ".py",
   "mimetype": "text/x-python",
   "name": "python",
   "nbconvert_exporter": "python",
   "pygments_lexer": "ipython3",
   "version": "3.9.7"
  }
 },
 "nbformat": 4,
 "nbformat_minor": 4
}
