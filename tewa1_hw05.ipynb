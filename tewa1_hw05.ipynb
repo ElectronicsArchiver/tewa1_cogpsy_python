{
 "cells": [
  {
   "cell_type": "markdown",
   "metadata": {
    "id": "RFrqPx1R41dl",
    "tags": []
   },
   "source": [
    "homework 5\n",
    "---\n",
    "due: April 24 2022\n",
    "\n",
    "authors: pegler, prüwasser, scheftner"
   ]
  },
  {
   "cell_type": "markdown",
   "metadata": {},
   "source": [
    "# Part 1: function to perform calculation\n",
    "\n",
    "this function should take 3 inputs in the following order 1. predictor1 (age), 2. predictor (size), 3. outcome variable (price)\n",
    "\n",
    "your function has to\n",
    "\n",
    "1. create a predictor matrix (as above), starting with a column of ones, and the two predictors. (3 columns in total)\n",
    "2. use lstsq () to fit the regression model, as above\n",
    "3. the function should return 2 outputs, the 1st one is an array containing the 3 fitted regression parameters (1st output argument of lstsq()) , 2nd output should be the residual error (2nd output argument of lstsq()),\n",
    "\n",
    "!! make sure that your function works for inputs of any size (this is important when you add the column of ones), (but you can assume that all of the 3 input vectors have the same length (otherwise the analysis does not make sense) "
   ]
  },
  {
   "cell_type": "code",
   "execution_count": 1,
   "metadata": {},
   "outputs": [],
   "source": [
    "def my_mult_regr():\n",
    "    ..."
   ]
  },
  {
   "cell_type": "markdown",
   "metadata": {},
   "source": [
    "# Part 2: standardized predictors\n",
    "\n",
    "standardize (z-score) your predictors by subtracting the mean and dividing by the standard deviaton.\n",
    "\n",
    "fit a regression with both the single predictor and the two predictor models and compare error and beta weigths for fitting the model to standardized and non-standardized data-sets\n",
    "\n",
    "use the MyMultRegr() function in this solution"
   ]
  },
  {
   "cell_type": "code",
   "execution_count": null,
   "metadata": {},
   "outputs": [],
   "source": []
  },
  {
   "cell_type": "markdown",
   "metadata": {
    "id": "RFrqPx1R41dl",
    "tags": []
   },
   "source": [
    "# Part 3: car price simulation  \n",
    "\n",
    "price as a function of age"
   ]
  },
  {
   "cell_type": "code",
   "execution_count": 18,
   "metadata": {},
   "outputs": [],
   "source": [
    "# given values\n",
    "mean_price_new = 30_000\n",
    "sd_price = 10_000\n",
    "n = 200\n",
    "age_lower = 0\n",
    "age_upper = 70"
   ]
  },
  {
   "cell_type": "markdown",
   "metadata": {},
   "source": [
    "## Finding a function and coefficients for a realistic curve\n",
    "\n",
    "To fiddle with the values of the function, we could create numpy arrays and plot them, but we choose the sympy package as it's perfect for this kind of task.\n",
    "\n",
    "https://www.sympy.org"
   ]
  },
  {
   "cell_type": "code",
   "execution_count": 19,
   "metadata": {},
   "outputs": [
    {
     "data": {
      "image/png": "[encoded data removed]",
      "text/plain": [
       "<Figure size 432x288 with 1 Axes>"
      ]
     },
     "metadata": {
      "needs_background": "light"
     },
     "output_type": "display_data"
    }
   ],
   "source": [
    "import sympy as spy\n",
    "\n",
    "age, price_func = spy.symbols(\"age value\")\n",
    "\n",
    "b_0 = mean_price_new # avg value at age = 0\n",
    "b_1 = -1500 # value loss per year\n",
    "b_2 = 22 # value gain per year*year\n",
    "\n",
    "price_func = b_0 + b_1 * age + b_2 * age**2\n",
    "\n",
    "spy.plot(price_func,(age, 0, 70),xlim=(0,70),ylim=(0,40_000),axis_center=(0,0));"
   ]
  },
  {
   "cell_type": "markdown",
   "metadata": {},
   "source": [
    "### Minimum is where derivative is 0"
   ]
  },
  {
   "cell_type": "markdown",
   "metadata": {},
   "source": [
    "Derivative of price for age"
   ]
  },
  {
   "cell_type": "code",
   "execution_count": 20,
   "metadata": {},
   "outputs": [
    {
     "data": {
      "text/latex": [
       "$\\displaystyle 44 age - 1500$"
      ],
      "text/plain": [
       "44*age - 1500"
      ]
     },
     "execution_count": 20,
     "metadata": {},
     "output_type": "execute_result"
    }
   ],
   "source": [
    "d_age = spy.diff(price_func,age)\n",
    "d_age"
   ]
  },
  {
   "cell_type": "markdown",
   "metadata": {},
   "source": [
    "Age at minimum value"
   ]
  },
  {
   "cell_type": "code",
   "execution_count": 21,
   "metadata": {},
   "outputs": [
    {
     "data": {
      "text/plain": [
       "34.09090909090909"
      ]
     },
     "execution_count": 21,
     "metadata": {},
     "output_type": "execute_result"
    }
   ],
   "source": [
    "age_min = float(spy.solve(d_age)[0])\n",
    "age_min"
   ]
  },
  {
   "cell_type": "markdown",
   "metadata": {},
   "source": [
    "Minimum value"
   ]
  },
  {
   "cell_type": "code",
   "execution_count": 22,
   "metadata": {},
   "outputs": [
    {
     "data": {
      "text/plain": [
       "4431.818181818182"
      ]
     },
     "execution_count": 22,
     "metadata": {},
     "output_type": "execute_result"
    }
   ],
   "source": [
    "price_min = float(price_func.evalf(subs={age:age_min}))\n",
    "price_min"
   ]
  },
  {
   "cell_type": "markdown",
   "metadata": {},
   "source": [
    "## Create simulated data from function"
   ]
  },
  {
   "cell_type": "markdown",
   "metadata": {},
   "source": [
    "Let's remember the price function from before"
   ]
  },
  {
   "cell_type": "code",
   "execution_count": 23,
   "metadata": {},
   "outputs": [
    {
     "data": {
      "text/latex": [
       "$\\displaystyle 22 age^{2} - 1500 age + 30000$"
      ],
      "text/plain": [
       "22*age**2 - 1500*age + 30000"
      ]
     },
     "execution_count": 23,
     "metadata": {},
     "output_type": "execute_result"
    }
   ],
   "source": [
    "price_func"
   ]
  },
  {
   "cell_type": "markdown",
   "metadata": {},
   "source": [
    "That means function for one datapoint is:\n",
    "\n",
    "$price = price_{mean} - 1500age + 22age² + error$"
   ]
  },
  {
   "cell_type": "code",
   "execution_count": 44,
   "metadata": {},
   "outputs": [
    {
     "data": {
      "image/png": "[encoded data removed]",
      "text/plain": [
       "<Figure size 432x288 with 1 Axes>"
      ]
     },
     "metadata": {
      "needs_background": "light"
     },
     "output_type": "display_data"
    }
   ],
   "source": [
    "import numpy as np\n",
    "import matplotlib.pyplot as plt\n",
    "\n",
    "# creating ages array (uniformly distributed)\n",
    "ages = np.random.randint(age_lower,age_upper+1,n)\n",
    "\n",
    "# error array\n",
    "err = np.random.normal(0, scale = sd_price, size=n)\n",
    "\n",
    "# prices array\n",
    "prices = np.array([b_0 + b_1 * ages[i] + b_2 * ages[i]**2 + err[i] for i in range(n)])\n",
    "\n",
    "# limit lowest price to 0\n",
    "prices = np.where(prices<0, 0, prices)\n",
    "\n",
    "plt.scatter(ages,prices, alpha=0.4)\n",
    "plt.ylabel(\"price\")\n",
    "plt.xlabel(\"age (yrs)\")\n",
    "plt.title(\"car price simulation\");"
   ]
  },
  {
   "cell_type": "markdown",
   "metadata": {},
   "source": [
    "## Fit 3 regression models to the simulated data\n",
    "\n",
    "   1. intercept + linear predictor age\n",
    "   2. intercept + linear predictor + quadratic predictor x2\n",
    "   3. intercept + linear predictor + quadratic predictor x2 + cubic predicor x3\n",
    "\n",
    "print the obtained residual error for the three models and visualize the model predictions\n"
   ]
  },
  {
   "cell_type": "code",
   "execution_count": 83,
   "metadata": {},
   "outputs": [],
   "source": [
    "# in preparation"
   ]
  },
  {
   "cell_type": "markdown",
   "metadata": {
    "id": "KaXB-COv9aI4"
   },
   "source": [
    "# Bonus: reliability of regression analysis\n",
    "\n",
    "since we created the data, we can see how close are the true values to the 'generative' model next task is to systematically investigate this relationship you will have to manipualte the number of datapoints, and the error in the model, and analyze the difference between the data generating and the fitted regression parameters\n",
    "\n",
    "this task is somewhat analogous to the t-test simulation task \n"
   ]
  },
  {
   "cell_type": "code",
   "execution_count": null,
   "metadata": {
    "id": "jKIlo7RYAAMY"
   },
   "outputs": [],
   "source": []
  }
 ],
 "metadata": {
  "colab": {
   "name": "Tutorial4-dataSimulation.ipynb",
   "provenance": []
  },
  "kernelspec": {
   "display_name": "Python 3 (ipykernel)",
   "language": "python",
   "name": "python3"
  },
  "language_info": {
   "codemirror_mode": {
    "name": "ipython",
    "version": 3
   },
   "file_extension": ".py",
   "mimetype": "text/x-python",
   "name": "python",
   "nbconvert_exporter": "python",
   "pygments_lexer": "ipython3",
   "version": "3.9.0"
  }
 },
 "nbformat": 4,
 "nbformat_minor": 4
}
