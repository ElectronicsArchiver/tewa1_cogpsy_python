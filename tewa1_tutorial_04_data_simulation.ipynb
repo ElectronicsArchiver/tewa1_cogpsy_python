{
 "cells": [
  {
   "cell_type": "markdown",
   "metadata": {
    "id": "Y_Pt0oq_rBcL"
   },
   "source": [
    "## This is a tutorial for data simulation for t-test power analysis and regression intro\n",
    "\n",
    "TEWA 1 Tutorial 5\n",
    "30th March, 2022\n",
    "\n",
    "written by Jozsef Arato, Vienna Cognitive Science Hub, University of Vienna"
   ]
  },
  {
   "cell_type": "markdown",
   "metadata": {
    "id": "oh19atU-ravk"
   },
   "source": [
    "import libraries"
   ]
  },
  {
   "cell_type": "code",
   "execution_count": 2,
   "metadata": {
    "id": "aJQyfMtXq1_u"
   },
   "outputs": [],
   "source": [
    "import numpy as np\n",
    "from matplotlib import pyplot as plt\n",
    "from scipy import stats, linalg"
   ]
  },
  {
   "cell_type": "markdown",
   "metadata": {
    "id": "hxeQBbrUrnod"
   },
   "source": [
    "## Data simulation for a t-test\n",
    "\n",
    "in the first task, we simulate a scenario when comparing the effect of new drug on reaction time performance to a placebo.\n",
    "We will also assume that the drug is  better than the placebo, so reaction time will be sampled from the population mean of 500 ms, and SD of 100 for the target group, and 520 for the control group"
   ]
  },
  {
   "cell_type": "markdown",
   "metadata": {
    "id": "UpO4XAlmsWD8"
   },
   "source": [
    "first task is to simulate 2 groups of 20 participants, based on the above information (we are assuming normal distribution here) \n",
    "\n",
    "---\n",
    "\n"
   ]
  },
  {
   "cell_type": "code",
   "execution_count": 18,
   "metadata": {
    "colab": {
     "base_uri": "https://localhost:8080/"
    },
    "id": "5q1n9SR7slJ6",
    "outputId": "54aaf135-348a-4421-893c-6aaadff26422"
   },
   "outputs": [
    {
     "data": {
      "text/plain": [
       "0.8242535905180708"
      ]
     },
     "execution_count": 18,
     "metadata": {},
     "output_type": "execute_result"
    }
   ],
   "source": [
    "sample_1 = {\"mean\":500,\"sd\":100,\"n\":20}\n",
    "sample_2 = {\"mean\":520,\"sd\":100,\"n\":20}\n",
    "data_1 = np.random.normal(sample_1[\"mean\"],sample_1[\"sd\"],sample_1[\"n\"])\n",
    "data_2 = np.random.normal(sample_2[\"mean\"],sample_2[\"sd\"],sample_2[\"n\"])\n",
    "t_stat,p_val = stats.ttest_ind(data_1, data_2)\n",
    "p_val"
   ]
  },
  {
   "cell_type": "markdown",
   "metadata": {
    "id": "sJCflthxrsBV"
   },
   "source": [
    "once this is done, we can compare the two groups with the independent samples t-test"
   ]
  },
  {
   "cell_type": "markdown",
   "metadata": {
    "id": "tLAx7BQ8s8md"
   },
   "source": [
    "based on the above, repeat the process 1000 times,\n",
    "and store the p-value of each iteration in a numpy array\n"
   ]
  },
  {
   "cell_type": "code",
   "execution_count": 23,
   "metadata": {
    "colab": {
     "base_uri": "https://localhost:8080/"
    },
    "id": "XZuRipbntfCl",
    "outputId": "145bfe55-5a84-4401-9f96-03a680fabbe5"
   },
   "outputs": [],
   "source": [
    "n_sim = 1000\n",
    "p_values = np.array([stats.ttest_ind(np.random.normal(sample_1[\"mean\"],sample_1[\"sd\"],sample_1[\"n\"]),np.random.normal(sample_2[\"mean\"],sample_2[\"sd\"],sample_2[\"n\"]))[1] for i in range(n_sim)])"
   ]
  },
  {
   "cell_type": "markdown",
   "metadata": {
    "id": "RKIBGzqxtnZq"
   },
   "source": [
    "1. visualize the obtained p values with a histrogam \n",
    "2. calcualte how many times you obtained significant difference (p value below 0.05)\n",
    "3. add vertical line, for the significance threshold on the histrogram"
   ]
  },
  {
   "cell_type": "code",
   "execution_count": 26,
   "metadata": {
    "colab": {
     "base_uri": "https://localhost:8080/",
     "height": 352
    },
    "id": "oWBcxXDltjUq",
    "outputId": "45bd5834-2122-4fa0-db29-f034c0fc5f30"
   },
   "outputs": [
    {
     "data": {
      "image/png": "[encoded data removed]",
      "text/plain": [
       "<Figure size 432x288 with 1 Axes>"
      ]
     },
     "metadata": {
      "needs_background": "light"
     },
     "output_type": "display_data"
    }
   ],
   "source": [
    "np.sum(p_values<.05)\n",
    "plt.hist(p_values);"
   ]
  },
  {
   "cell_type": "markdown",
   "metadata": {
    "id": "R4MH6bTmttyB"
   },
   "source": [
    "write a function SimulateT, using the code above, that takes 4 input variables:\n",
    "1. mean of group 1,\n",
    "2. mean of group 2 \n",
    "3. the SD for both groups\n",
    "4. and the number of particpants, (equal for both groups)\n",
    "\n",
    "the function should simulate data 1000 times, performs the above analysis and returns only the proportion of significant tests\n"
   ]
  },
  {
   "cell_type": "code",
   "execution_count": 103,
   "metadata": {
    "id": "30fQ3MaPuJR8"
   },
   "outputs": [],
   "source": [
    "def simulate_t(mean_1, mean_2, sd, size, n_iter=1000, alpha=0.05):\n",
    "    p_values = np.array([stats.ttest_ind(np.random.normal(mean_1,sd,size),np.random.normal(mean_2,sd,size))[1] for i in range(n_iter)])\n",
    "    return np.sum(p_values<alpha) / n_iter"
   ]
  },
  {
   "cell_type": "code",
   "execution_count": 107,
   "metadata": {},
   "outputs": [
    {
     "data": {
      "text/plain": [
       "0.091"
      ]
     },
     "execution_count": 107,
     "metadata": {},
     "output_type": "execute_result"
    }
   ],
   "source": [
    "simulate_t(500,520,100,20)"
   ]
  },
  {
   "cell_type": "markdown",
   "metadata": {
    "id": "7e8caO7iugQ7"
   },
   "source": [
    "### systematic simulation\n",
    "once this is done, we will keep the mean fixed at 500, but systematically change the SD \n",
    "SD in 10 steps: from 20 to 200 ms\n",
    "\n",
    "1. using your function above, calculate the proportion of significant tests for all of these combinations. \n",
    "2.  store the results it in a  numpy array\n",
    "3. visualize the result with  plt.plot\n",
    "4. make the figure nice (ticks, labels, fontsize)"
   ]
  },
  {
   "cell_type": "code",
   "execution_count": 114,
   "metadata": {
    "id": "pJBTxPiDcx4W"
   },
   "outputs": [
    {
     "data": {
      "image/png": "[encoded data removed]",
      "text/plain": [
       "<Figure size 432x288 with 1 Axes>"
      ]
     },
     "metadata": {
      "needs_background": "light"
     },
     "output_type": "display_data"
    }
   ],
   "source": [
    "props = list()\n",
    "\n",
    "np.random.seed(0)\n",
    "\n",
    "for sd in np.linspace(20,200,10):\n",
    "    prop = simulate_t(500,520,sd,20)\n",
    "    props.append(prop)\n",
    "    \n",
    "plt.plot(props)\n",
    "plt.xlabel('Standard deviation (ms)')\n",
    "plt.ylabel('Power');"
   ]
  },
  {
   "cell_type": "markdown",
   "metadata": {
    "id": "xBp3JFuuc1Ur"
   },
   "source": [
    "\n",
    "using the same function, change systematically the  number of participants in 8 steps: from 8 to 64 participants\n",
    "store the results in a numpy array\n",
    "\n",
    "\n",
    "\n"
   ]
  },
  {
   "cell_type": "code",
   "execution_count": 117,
   "metadata": {
    "id": "pJBTxPiDcx4W"
   },
   "outputs": [
    {
     "data": {
      "image/png": "[encoded data removed]",
      "text/plain": [
       "<Figure size 432x288 with 1 Axes>"
      ]
     },
     "metadata": {
      "needs_background": "light"
     },
     "output_type": "display_data"
    }
   ],
   "source": [
    "props = list()\n",
    "\n",
    "np.random.seed(0)\n",
    "\n",
    "for size in np.linspace(8,64,8,dtype=int):\n",
    "    prop = simulate_t(500,520,100,size)\n",
    "    props.append(prop)\n",
    "    \n",
    "plt.plot(props)\n",
    "plt.xlabel('n participants')\n",
    "plt.ylabel('Power');"
   ]
  },
  {
   "cell_type": "markdown",
   "metadata": {},
   "source": [
    "**Message here --> POWER is the proportion of simulations with significant (*p* < .05) results**"
   ]
  },
  {
   "cell_type": "markdown",
   "metadata": {
    "id": "wT-Qc4VdCgKJ"
   },
   "source": [
    "## demo of 3 options for counting and accesssing elements of list/array with  embedded for cycles\n",
    "and using 2d numpy array to store calculation results with indexing\n",
    "\n"
   ]
  },
  {
   "cell_type": "code",
   "execution_count": 84,
   "metadata": {
    "id": "FXHr1dGpDwGk"
   },
   "outputs": [],
   "source": [
    "List1=['dog','cat','mouse']\n",
    "List2=['vienna','graz']"
   ]
  },
  {
   "cell_type": "markdown",
   "metadata": {
    "id": "f2KtLuY5EB47"
   },
   "source": [
    "### option 1 -  iterate list + counters"
   ]
  },
  {
   "cell_type": "code",
   "execution_count": 83,
   "metadata": {
    "colab": {
     "base_uri": "https://localhost:8080/"
    },
    "id": "ggf__Q10Duj0",
    "outputId": "9f519525-b510-46c3-ac7e-d32a5daaca7a"
   },
   "outputs": [
    {
     "name": "stdout",
     "output_type": "stream",
     "text": [
      "0 0 dog vienna\n",
      "0 1 dog graz\n",
      "1 0 cat vienna\n",
      "1 1 cat graz\n",
      "2 0 mouse vienna\n",
      "2 1 mouse graz\n",
      "[[ 9.  7.]\n",
      " [ 9.  7.]\n",
      " [11.  9.]]\n"
     ]
    }
   ],
   "source": [
    "NumCombinedChar=np.zeros((len(List1),len(List2)))\n",
    "c1=0\n",
    "for l1 in List1:\n",
    "    c2=0\n",
    "    for l2 in List2:\n",
    "        print(c1,c2,l1,l2)\n",
    "        NumCombinedChar[c1,c2]=len(l1)+len(l2)   # calcualte and store combined word length\n",
    "        c2+=1\n",
    "    c1+=1\n",
    "print(NumCombinedChar)"
   ]
  },
  {
   "cell_type": "markdown",
   "metadata": {
    "id": "VPrNCZaGDyOy"
   },
   "source": [
    "### option 2 -  range  + indexing\n",
    "\n"
   ]
  },
  {
   "cell_type": "code",
   "execution_count": 85,
   "metadata": {
    "colab": {
     "base_uri": "https://localhost:8080/"
    },
    "id": "xdOm9mnZDiSr",
    "outputId": "04ab41be-b371-404b-8b9f-5d820aa2ab05"
   },
   "outputs": [
    {
     "name": "stdout",
     "output_type": "stream",
     "text": [
      "0 0 dog dog\n",
      "0 1 dog cat\n",
      "1 0 cat dog\n",
      "1 1 cat cat\n",
      "2 0 mouse dog\n",
      "2 1 mouse cat\n",
      "[[ 9.  7.]\n",
      " [ 9.  7.]\n",
      " [11.  9.]]\n"
     ]
    }
   ],
   "source": [
    "NumCombinedChar=np.zeros((len(List1),len(List2)))\n",
    "for c1 in range(len(List1)):\n",
    "    for c2 in range(len(List2)):\n",
    "        print(c1,c2,List1[c1],List1[c2])\n",
    "        NumCombinedChar[c1,c2]=len(List1[c1])+len(List2[c2])  # calcualte and store combined word length\n",
    "print(NumCombinedChar)"
   ]
  },
  {
   "cell_type": "markdown",
   "metadata": {
    "id": "A4CFWeaYD6LX"
   },
   "source": [
    "### option 3 -  enumerate\n"
   ]
  },
  {
   "cell_type": "code",
   "execution_count": 86,
   "metadata": {
    "colab": {
     "base_uri": "https://localhost:8080/"
    },
    "id": "vC7ok165QRci",
    "outputId": "31a68e9f-44df-4b8d-d942-a3cb2075668f"
   },
   "outputs": [
    {
     "name": "stdout",
     "output_type": "stream",
     "text": [
      "0 0 dog vienna\n",
      "0 1 dog graz\n",
      "1 0 cat vienna\n",
      "1 1 cat graz\n",
      "2 0 mouse vienna\n",
      "2 1 mouse graz\n",
      "[[ 9.  7.]\n",
      " [ 9.  7.]\n",
      " [11.  9.]]\n"
     ]
    }
   ],
   "source": [
    "NumCombinedChar=np.zeros((len(List1),len(List2)))\n",
    "\n",
    "for c1,l1 in enumerate(List1):\n",
    "    for c2,l2 in enumerate(List2):\n",
    "        print(c1,c2,l1,l2)\n",
    "        NumCombinedChar[c1,c2]=len(l1)+len(l2) # calcualte and store combined word length\n",
    "print(NumCombinedChar)\n",
    "\n",
    "\n",
    "\n",
    " "
   ]
  },
  {
   "cell_type": "markdown",
   "metadata": {
    "id": "80ycIgsBH5PH"
   },
   "source": [
    "### simulating data with a linear regression model"
   ]
  },
  {
   "cell_type": "markdown",
   "metadata": {
    "id": "iMh3fxPaH-77"
   },
   "source": [
    "growth of infant .5 cm/month  (B1)\n",
    "\n",
    "starting heigth 50 cm  (B0)\n",
    "\n",
    "error 8 cm  \n",
    "\n",
    "n=40\n",
    "\n",
    "simulate for ages 0 to 36 months \n",
    "\n",
    "write the linear equation with normal error, to simualte data for your first simulation with a regression model for Y"
   ]
  },
  {
   "cell_type": "code",
   "execution_count": 93,
   "metadata": {},
   "outputs": [],
   "source": [
    "N=40\n",
    "B0=50\n",
    "B1=.5\n",
    "X=np.linspace(0,30,N)\n",
    "\n",
    "Y = [50 + x*B1 for x in X]"
   ]
  },
  {
   "cell_type": "code",
   "execution_count": 94,
   "metadata": {
    "colab": {
     "base_uri": "https://localhost:8080/",
     "height": 300
    },
    "id": "iPuqawxHIxgv",
    "outputId": "eca43167-c35e-4745-8fac-2ca72633484d"
   },
   "outputs": [
    {
     "data": {
      "text/plain": [
       "Text(0, 0.5, 'Heigth (cm)')"
      ]
     },
     "execution_count": 94,
     "metadata": {},
     "output_type": "execute_result"
    },
    {
     "data": {
      "image/png": "[encoded data removed]",
      "text/plain": [
       "<Figure size 432x288 with 1 Axes>"
      ]
     },
     "metadata": {
      "needs_background": "light"
     },
     "output_type": "display_data"
    }
   ],
   "source": [
    "plt.scatter(X,Y)\n",
    "plt.xlabel('Age (months')\n",
    "plt.ylabel('Heigth (cm)')"
   ]
  },
  {
   "cell_type": "code",
   "execution_count": 95,
   "metadata": {
    "id": "JTSBGBvVJIqI"
   },
   "outputs": [],
   "source": [
    "from scipy import linalg"
   ]
  },
  {
   "cell_type": "code",
   "execution_count": 97,
   "metadata": {
    "id": "tbVgnus7KjkT"
   },
   "outputs": [],
   "source": [
    "XX=np.column_stack((X))"
   ]
  },
  {
   "cell_type": "code",
   "execution_count": 101,
   "metadata": {
    "colab": {
     "base_uri": "https://localhost:8080/"
    },
    "id": "0GGLbaQfJRrp",
    "outputId": "1d1def84-a078-4125-e4ad-55c99060eb7d"
   },
   "outputs": [
    {
     "ename": "TypeError",
     "evalue": "lstsq() missing 1 required positional argument: 'b'",
     "output_type": "error",
     "traceback": [
      "\u001b[0;31m---------------------------------------------------------------------------\u001b[0m",
      "\u001b[0;31mTypeError\u001b[0m                                 Traceback (most recent call last)",
      "\u001b[0;32m/tmp/ipykernel_5171/2005994746.py\u001b[0m in \u001b[0;36m<module>\u001b[0;34m\u001b[0m\n\u001b[0;32m----> 1\u001b[0;31m \u001b[0mlinalg\u001b[0m\u001b[0;34m.\u001b[0m\u001b[0mlstsq\u001b[0m\u001b[0;34m(\u001b[0m\u001b[0mXX\u001b[0m\u001b[0;34m)\u001b[0m\u001b[0;34m\u001b[0m\u001b[0;34m\u001b[0m\u001b[0m\n\u001b[0m",
      "\u001b[0;31mTypeError\u001b[0m: lstsq() missing 1 required positional argument: 'b'"
     ]
    }
   ],
   "source": [
    "linalg.lstsq()"
   ]
  },
  {
   "cell_type": "markdown",
   "metadata": {
    "id": "6Hs4OmMU8-w6"
   },
   "source": [
    "plot the obtained regression line, together with the data"
   ]
  },
  {
   "cell_type": "code",
   "execution_count": null,
   "metadata": {
    "id": "pqWxp7weMOu2"
   },
   "outputs": [],
   "source": []
  },
  {
   "cell_type": "markdown",
   "metadata": {
    "id": "RFrqPx1R41dl"
   },
   "source": [
    "\n",
    "## homework 1\n",
    "\n",
    "simulating t-test for combinations of group size and standard deviation\n",
    "use all combinations of SD-s and groups sizes above, to simulate 80 scenerios, and store the significant t-test in a 2d numpy array\n",
    "\n",
    "use the pcolor function of pyplot, to visualize the result\n",
    "try  adding x and y labels\n",
    "\n",
    "\n",
    "what do you observe and why? Write a few sentences"
   ]
  },
  {
   "cell_type": "code",
   "execution_count": null,
   "metadata": {
    "id": "orwbHmJk5JFP"
   },
   "outputs": [],
   "source": []
  },
  {
   "cell_type": "markdown",
   "metadata": {
    "id": "WiXHb-Sr47K8"
   },
   "source": [
    "## homework 2\n",
    "simulation with no mean difference, make a similar systematic simulation,\n",
    "but with no mean difference (eg: ineffective drug) and calculate the propotion of significant test as you maniupate the SD and the sample size.\n",
    "what do you observe and why could that be the case?\n"
   ]
  },
  {
   "cell_type": "code",
   "execution_count": null,
   "metadata": {
    "id": "7mCa1umx8Nn8"
   },
   "outputs": [],
   "source": []
  },
  {
   "cell_type": "markdown",
   "metadata": {
    "id": "y0CJYyC58_Xm"
   },
   "source": [
    "\n",
    "once you are ready with the figure, compare it to the previous figure, from the the true difference simulation..\n",
    "\n",
    "what do you observe? Why? \n",
    "\n",
    "write a short answer (max 5 sentences), and submit to the \"texteingabe\" in moodle\n",
    "\n",
    "now you do not need to submit the code, only the figure you have created!\n",
    "so save the figure and upload it to the moodle homework submission form \n",
    "\n",
    "\n"
   ]
  }
 ],
 "metadata": {
  "colab": {
   "name": "Tutorial4-dataSimulation.ipynb",
   "provenance": []
  },
  "kernelspec": {
   "display_name": "Python 3 (ipykernel)",
   "language": "python",
   "name": "python3"
  },
  "language_info": {
   "codemirror_mode": {
    "name": "ipython",
    "version": 3
   },
   "file_extension": ".py",
   "mimetype": "text/x-python",
   "name": "python",
   "nbconvert_exporter": "python",
   "pygments_lexer": "ipython3",
   "version": "3.9.0"
  }
 },
 "nbformat": 4,
 "nbformat_minor": 4
}
