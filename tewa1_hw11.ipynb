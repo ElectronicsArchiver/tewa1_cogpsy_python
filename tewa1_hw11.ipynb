{
 "cells": [
  {
   "cell_type": "markdown",
   "id": "7836b7e4-afb3-4af3-9c89-a09b94862926",
   "metadata": {
    "id": "aAmuxCstDaa3"
   },
   "source": [
    "homework 11\n",
    "---\n",
    "due: June 15 2022\n",
    "\n",
    "authors: pegler, prüwasser, scheftner\n",
    "\n",
    "---\n",
    "Read chapter 1-2 of Bayesian models of perception and action.\n",
    "\n",
    "https://www.cns.nyu.edu/malab/static/files/Bayesian_models_of_perception_and_action_v3.pdf\n",
    "\n",
    "Choose 6 problems from the end of the chapter, for both chapters, and submit the solution as text here.\n",
    "\n",
    "No need to write long explanations, try to be brief!"
   ]
  },
  {
   "cell_type": "markdown",
   "id": "ef562f40-8684-43f5-963b-cffc40e56d4e",
   "metadata": {},
   "source": [
    "## Chapter 1\n",
    "\n",
    "### Summary\n",
    "In this chapter, we have introduced the concept that perception is inherently probabilistic, and as\n",
    "such optimally characterized as a process of Bayesian inference. Regarding Bayesian inference, we\n",
    "have learned the following:\n",
    "\n",
    "* Conditional probabilities such as p(A | B) represents the probability of A given B. In Bayesian\n",
    "perceptual inference, A and B typically represent a world state and an observation.\n",
    "* The likelihood function, p(observation | world state), captures the information content of the\n",
    "sensory observation, relevant to distinguishing one world state from another.\n",
    "* The flatter the likelihood function, the less we learn from our senses. If the likelihood\n",
    "function is perfectly flat, then the observer has learned nothing from the observation.\n",
    "* In some cases, such as the “Is that my friend?” example, the likelihood changes over time.\n",
    "* The prior distribution over world states, p(world state), summarizes the information content\n",
    "of our past observations, the background knowledge we have about the world. Perception\n",
    "is not based entirely on sensory observation, but also on expectation grounded in previous\n",
    "experience.\n",
    "* Flatter prior distributions mean we know less about the potential states of the world.\n",
    "* Bayes’ rule calculates the posterior probability of each hypothesized world state, p(world state | observation),\n",
    "from the likelihoods and prior probabilities of the world states.\n",
    "* The procedures of Bayesian inference apply equally to situations in which the hypothesized\n",
    "world states are discrete or in which they are continuous.\n",
    "* Perceptual situations, whether in vision, audition, or other senses, are subject to various\n",
    "levels of uncertainty.\n",
    "* Speech perception is fraught with phonetic and syntactic ambiguity, frequently giving rise to\n",
    "flat likelihood functions. The combination of priors and likelihoods can cause misinterpreta-\n",
    "tions such as mondegreens"
   ]
  },
  {
   "cell_type": "markdown",
   "id": "a1b6f6c0-434d-44a0-8226-c0a585036f17",
   "metadata": {},
   "source": [
    "### Problem 1\n",
    "\n",
    "..."
   ]
  },
  {
   "cell_type": "markdown",
   "id": "96270dab-60b5-4197-8157-529ef633feb7",
   "metadata": {},
   "source": [
    "### Problem 2\n",
    "\n",
    "..."
   ]
  },
  {
   "cell_type": "markdown",
   "id": "0260fcab-75f4-40af-967c-7057ba8d5f4b",
   "metadata": {},
   "source": [
    "### Problem 3\n",
    "\n",
    "..."
   ]
  },
  {
   "cell_type": "markdown",
   "id": "9fdd2bc9-90b0-4303-b512-36940d2e6f68",
   "metadata": {},
   "source": [
    "### Problem 4\n",
    "\n",
    "..."
   ]
  },
  {
   "cell_type": "markdown",
   "id": "aa01bab2-8f28-4119-9984-92addbc0e7b7",
   "metadata": {},
   "source": [
    "### Problem 5\n",
    "\n",
    "..."
   ]
  },
  {
   "cell_type": "markdown",
   "id": "1a2b9774-2d8e-4b42-8630-0f52f3054650",
   "metadata": {},
   "source": [
    "### Problem 6\n",
    "\n",
    "..."
   ]
  },
  {
   "cell_type": "markdown",
   "id": "ded4a7ad-a7eb-4ed4-a933-643853ebb52f",
   "metadata": {},
   "source": [
    "## Chapter 2\n",
    "\n",
    "### Summary\n",
    "In this chapter, we have introduced the precise formulation of Bayes’ rule and applied it to a\n",
    "range of discrete estimation problems. We have seen how Bayes’ rule makes concrete, meaningful\n",
    "statements about probabilities possible. Regarding the use of Bayes’ rule, we have learned the\n",
    "following:\n",
    "* Bayesian modeling starts with a model of the statistical structure of the world and the\n",
    "observations: the generative model.\n",
    "* Conditional probabilities are not symmetrical. In general, p(A|B) ̸ = p(B|A).\n",
    "* Bayes’ rule calculates the probabilities of hypotheses conditioned on the observation – the\n",
    "posterior probabilities, p(H|obs) – from the probabilities of the observation conditioned on\n",
    "the hypotheses – the likelihoods, p(obs|H) – and the prior probabilities, p(H).\n",
    "* p(obs) in Bayes’ rule normalizes the probability and can be rewritten as p(obs) = ∑H p(obs|H)p(H).\n",
    "* Priors do not always play the main role in Bayesian models. In some problems, such as the\n",
    "Gestalt example, the prior is relatively unimportant and the likelihood dominates.\n",
    "* In some scenarios, priors and/or likelihoods may change over time.\n",
    "* Bayesian inference is a component of deriving the optimal strategy in any inference task.\n",
    "However, not all Bayesian inference is optimal.\n",
    "* Finding evidence for (near-)optimal behavior does not necessarily mean that the components\n",
    "of the Bayesian model are internally represented in the brain."
   ]
  },
  {
   "cell_type": "markdown",
   "id": "2780dd2a-912d-4d21-bbea-eedf86b435dd",
   "metadata": {},
   "source": [
    "### Problem 1\n",
    "\n",
    "..."
   ]
  },
  {
   "cell_type": "markdown",
   "id": "6cce957e-616c-4506-a3f6-5bf290400b03",
   "metadata": {},
   "source": [
    "### Problem 2\n",
    "\n",
    "..."
   ]
  },
  {
   "cell_type": "markdown",
   "id": "df17ad7d-0dfa-4463-8fdf-c32f773ddee6",
   "metadata": {},
   "source": [
    "### Problem 3\n",
    "\n",
    "..."
   ]
  },
  {
   "cell_type": "markdown",
   "id": "a5f6f7ac-9661-45ec-9259-56dc75a6574b",
   "metadata": {},
   "source": [
    "### Problem 4\n",
    "\n",
    "..."
   ]
  },
  {
   "cell_type": "markdown",
   "id": "89ab4196-3946-47c2-8e0f-322a2c900155",
   "metadata": {},
   "source": [
    "### Problem 5\n",
    "\n",
    "..."
   ]
  },
  {
   "cell_type": "markdown",
   "id": "a62a2ff7-57ad-48c8-ba10-fa2b2dad119f",
   "metadata": {},
   "source": [
    "### Problem 6\n",
    "\n",
    "..."
   ]
  },
  {
   "cell_type": "code",
   "execution_count": null,
   "id": "2e1b462f-d9d5-4335-b7d7-3f7593d63f0f",
   "metadata": {},
   "outputs": [],
   "source": []
  }
 ],
 "metadata": {
  "kernelspec": {
   "display_name": "Python 3 (ipykernel)",
   "language": "python",
   "name": "python3"
  },
  "language_info": {
   "codemirror_mode": {
    "name": "ipython",
    "version": 3
   },
   "file_extension": ".py",
   "mimetype": "text/x-python",
   "name": "python",
   "nbconvert_exporter": "python",
   "pygments_lexer": "ipython3",
   "version": "3.9.0"
  }
 },
 "nbformat": 4,
 "nbformat_minor": 5
}
