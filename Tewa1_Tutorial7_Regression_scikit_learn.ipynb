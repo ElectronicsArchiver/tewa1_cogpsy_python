{
 "cells": [
  {
   "cell_type": "markdown",
   "metadata": {
    "id": "GrqWZLOLKYD3"
   },
   "source": [
    "## Tewa 1 Tutorial, \n",
    "Linear Regression using scikit-learn (sklearn), data in Pandas DataFrame\n",
    "\n",
    "- fitting linear regression models \n",
    "\n",
    "- checking coefficients of fitted models\n",
    "\n",
    "- checking quality of model fit  \n",
    "\n",
    "### 27 April 2022-- Jozsef Arato\n"
   ]
  },
  {
   "cell_type": "markdown",
   "metadata": {
    "id": "orxKXnQAKV27"
   },
   "source": [
    "### load libraries"
   ]
  },
  {
   "cell_type": "code",
   "execution_count": 1,
   "metadata": {
    "id": "7RCNIZnvLStX"
   },
   "outputs": [],
   "source": [
    "import pandas as pd\n",
    "import numpy as np\n",
    "from matplotlib import pyplot as plt\n",
    "from scipy import linalg,stats"
   ]
  },
  {
   "cell_type": "markdown",
   "metadata": {
    "id": "nuOmPYdBYz86"
   },
   "source": [
    "### load data"
   ]
  },
  {
   "cell_type": "code",
   "execution_count": 2,
   "metadata": {
    "id": "2M6ep27rLk-z"
   },
   "outputs": [],
   "source": [
    "df=pd.read_csv('data/Real estate.csv')"
   ]
  },
  {
   "cell_type": "markdown",
   "metadata": {
    "id": "yduEsLFnTcP8"
   },
   "source": [
    "Data Set Information:\n",
    "\n",
    "The market historical data set of real estate valuation are collected from Sindian Dist., New Taipei City, Taiwan. \n",
    "\n",
    "Attribute Information:\n",
    "\n",
    "The inputs are as follows\n",
    "\n",
    "X1=the transaction date (for example, 2013.250=2013 March, 2013.500=2013 June, etc.)\n",
    "\n",
    "X2=the house age (unit: year)\n",
    "\n",
    "X3=the distance to the nearest MRT station (unit: meter)\n",
    "\n",
    "X4=the number of convenience stores in the living circle on foot (integer)\n",
    "\n",
    "X5=the geographic coordinate, latitude. (unit: degree)\n",
    "\n",
    "X6=the geographic coordinate, longitude. (unit: degree)\n",
    "\n",
    "The output is as follow\n",
    "\n",
    "Y= house price of unit area (10000 New Taiwan Dollar/Ping, where Ping is a local unit, 1 Ping = 3.3 meter squared)\n",
    "\n"
   ]
  },
  {
   "cell_type": "code",
   "execution_count": 3,
   "metadata": {
    "colab": {
     "base_uri": "https://localhost:8080/",
     "height": 424
    },
    "id": "i1yfiukgKhjY",
    "outputId": "72697cd1-a28e-44eb-d4b5-203949ab7552"
   },
   "outputs": [
    {
     "data": {
      "text/html": [
       "<div>\n",
       "<style scoped>\n",
       "    .dataframe tbody tr th:only-of-type {\n",
       "        vertical-align: middle;\n",
       "    }\n",
       "\n",
       "    .dataframe tbody tr th {\n",
       "        vertical-align: top;\n",
       "    }\n",
       "\n",
       "    .dataframe thead th {\n",
       "        text-align: right;\n",
       "    }\n",
       "</style>\n",
       "<table border=\"1\" class=\"dataframe\">\n",
       "  <thead>\n",
       "    <tr style=\"text-align: right;\">\n",
       "      <th></th>\n",
       "      <th>No</th>\n",
       "      <th>X1 transaction date</th>\n",
       "      <th>X2 house age</th>\n",
       "      <th>X3 distance to the nearest MRT station</th>\n",
       "      <th>X4 number of convenience stores</th>\n",
       "      <th>X5 latitude</th>\n",
       "      <th>X6 longitude</th>\n",
       "      <th>Y house price of unit area</th>\n",
       "    </tr>\n",
       "  </thead>\n",
       "  <tbody>\n",
       "    <tr>\n",
       "      <th>0</th>\n",
       "      <td>1</td>\n",
       "      <td>2012.917</td>\n",
       "      <td>32.0</td>\n",
       "      <td>84.87882</td>\n",
       "      <td>10</td>\n",
       "      <td>24.98298</td>\n",
       "      <td>121.54024</td>\n",
       "      <td>37.9</td>\n",
       "    </tr>\n",
       "    <tr>\n",
       "      <th>1</th>\n",
       "      <td>2</td>\n",
       "      <td>2012.917</td>\n",
       "      <td>19.5</td>\n",
       "      <td>306.59470</td>\n",
       "      <td>9</td>\n",
       "      <td>24.98034</td>\n",
       "      <td>121.53951</td>\n",
       "      <td>42.2</td>\n",
       "    </tr>\n",
       "    <tr>\n",
       "      <th>2</th>\n",
       "      <td>3</td>\n",
       "      <td>2013.583</td>\n",
       "      <td>13.3</td>\n",
       "      <td>561.98450</td>\n",
       "      <td>5</td>\n",
       "      <td>24.98746</td>\n",
       "      <td>121.54391</td>\n",
       "      <td>47.3</td>\n",
       "    </tr>\n",
       "    <tr>\n",
       "      <th>3</th>\n",
       "      <td>4</td>\n",
       "      <td>2013.500</td>\n",
       "      <td>13.3</td>\n",
       "      <td>561.98450</td>\n",
       "      <td>5</td>\n",
       "      <td>24.98746</td>\n",
       "      <td>121.54391</td>\n",
       "      <td>54.8</td>\n",
       "    </tr>\n",
       "    <tr>\n",
       "      <th>4</th>\n",
       "      <td>5</td>\n",
       "      <td>2012.833</td>\n",
       "      <td>5.0</td>\n",
       "      <td>390.56840</td>\n",
       "      <td>5</td>\n",
       "      <td>24.97937</td>\n",
       "      <td>121.54245</td>\n",
       "      <td>43.1</td>\n",
       "    </tr>\n",
       "    <tr>\n",
       "      <th>...</th>\n",
       "      <td>...</td>\n",
       "      <td>...</td>\n",
       "      <td>...</td>\n",
       "      <td>...</td>\n",
       "      <td>...</td>\n",
       "      <td>...</td>\n",
       "      <td>...</td>\n",
       "      <td>...</td>\n",
       "    </tr>\n",
       "    <tr>\n",
       "      <th>409</th>\n",
       "      <td>410</td>\n",
       "      <td>2013.000</td>\n",
       "      <td>13.7</td>\n",
       "      <td>4082.01500</td>\n",
       "      <td>0</td>\n",
       "      <td>24.94155</td>\n",
       "      <td>121.50381</td>\n",
       "      <td>15.4</td>\n",
       "    </tr>\n",
       "    <tr>\n",
       "      <th>410</th>\n",
       "      <td>411</td>\n",
       "      <td>2012.667</td>\n",
       "      <td>5.6</td>\n",
       "      <td>90.45606</td>\n",
       "      <td>9</td>\n",
       "      <td>24.97433</td>\n",
       "      <td>121.54310</td>\n",
       "      <td>50.0</td>\n",
       "    </tr>\n",
       "    <tr>\n",
       "      <th>411</th>\n",
       "      <td>412</td>\n",
       "      <td>2013.250</td>\n",
       "      <td>18.8</td>\n",
       "      <td>390.96960</td>\n",
       "      <td>7</td>\n",
       "      <td>24.97923</td>\n",
       "      <td>121.53986</td>\n",
       "      <td>40.6</td>\n",
       "    </tr>\n",
       "    <tr>\n",
       "      <th>412</th>\n",
       "      <td>413</td>\n",
       "      <td>2013.000</td>\n",
       "      <td>8.1</td>\n",
       "      <td>104.81010</td>\n",
       "      <td>5</td>\n",
       "      <td>24.96674</td>\n",
       "      <td>121.54067</td>\n",
       "      <td>52.5</td>\n",
       "    </tr>\n",
       "    <tr>\n",
       "      <th>413</th>\n",
       "      <td>414</td>\n",
       "      <td>2013.500</td>\n",
       "      <td>6.5</td>\n",
       "      <td>90.45606</td>\n",
       "      <td>9</td>\n",
       "      <td>24.97433</td>\n",
       "      <td>121.54310</td>\n",
       "      <td>63.9</td>\n",
       "    </tr>\n",
       "  </tbody>\n",
       "</table>\n",
       "<p>414 rows × 8 columns</p>\n",
       "</div>"
      ],
      "text/plain": [
       "      No  X1 transaction date  X2 house age  \\\n",
       "0      1             2012.917          32.0   \n",
       "1      2             2012.917          19.5   \n",
       "2      3             2013.583          13.3   \n",
       "3      4             2013.500          13.3   \n",
       "4      5             2012.833           5.0   \n",
       "..   ...                  ...           ...   \n",
       "409  410             2013.000          13.7   \n",
       "410  411             2012.667           5.6   \n",
       "411  412             2013.250          18.8   \n",
       "412  413             2013.000           8.1   \n",
       "413  414             2013.500           6.5   \n",
       "\n",
       "     X3 distance to the nearest MRT station  X4 number of convenience stores  \\\n",
       "0                                  84.87882                               10   \n",
       "1                                 306.59470                                9   \n",
       "2                                 561.98450                                5   \n",
       "3                                 561.98450                                5   \n",
       "4                                 390.56840                                5   \n",
       "..                                      ...                              ...   \n",
       "409                              4082.01500                                0   \n",
       "410                                90.45606                                9   \n",
       "411                               390.96960                                7   \n",
       "412                               104.81010                                5   \n",
       "413                                90.45606                                9   \n",
       "\n",
       "     X5 latitude  X6 longitude  Y house price of unit area  \n",
       "0       24.98298     121.54024                        37.9  \n",
       "1       24.98034     121.53951                        42.2  \n",
       "2       24.98746     121.54391                        47.3  \n",
       "3       24.98746     121.54391                        54.8  \n",
       "4       24.97937     121.54245                        43.1  \n",
       "..           ...           ...                         ...  \n",
       "409     24.94155     121.50381                        15.4  \n",
       "410     24.97433     121.54310                        50.0  \n",
       "411     24.97923     121.53986                        40.6  \n",
       "412     24.96674     121.54067                        52.5  \n",
       "413     24.97433     121.54310                        63.9  \n",
       "\n",
       "[414 rows x 8 columns]"
      ]
     },
     "execution_count": 3,
     "metadata": {},
     "output_type": "execute_result"
    }
   ],
   "source": [
    "df"
   ]
  },
  {
   "cell_type": "markdown",
   "metadata": {
    "id": "uj8QJ96FKdnN"
   },
   "source": [
    "data-set size"
   ]
  },
  {
   "cell_type": "code",
   "execution_count": 4,
   "metadata": {
    "colab": {
     "base_uri": "https://localhost:8080/"
    },
    "id": "kB8gD1tlLqzh",
    "outputId": "34205357-9a61-410e-f122-ee7ecdeef98b"
   },
   "outputs": [
    {
     "data": {
      "text/plain": [
       "(414, 8)"
      ]
     },
     "execution_count": 4,
     "metadata": {},
     "output_type": "execute_result"
    }
   ],
   "source": [
    "np.shape(df)"
   ]
  },
  {
   "cell_type": "code",
   "execution_count": 5,
   "metadata": {
    "colab": {
     "base_uri": "https://localhost:8080/"
    },
    "id": "j7rx5JmWNCh9",
    "outputId": "01fb8409-07a4-4895-b3fb-4612a678a1c1"
   },
   "outputs": [
    {
     "data": {
      "text/plain": [
       "['No',\n",
       " 'X1 transaction date',\n",
       " 'X2 house age',\n",
       " 'X3 distance to the nearest MRT station',\n",
       " 'X4 number of convenience stores',\n",
       " 'X5 latitude',\n",
       " 'X6 longitude',\n",
       " 'Y house price of unit area']"
      ]
     },
     "execution_count": 5,
     "metadata": {},
     "output_type": "execute_result"
    }
   ],
   "source": [
    "list(df)"
   ]
  },
  {
   "cell_type": "code",
   "execution_count": 6,
   "metadata": {
    "colab": {
     "base_uri": "https://localhost:8080/"
    },
    "id": "uyZ6Jv09NYo-",
    "outputId": "2dab856d-dc0d-403b-be82-9b372e064d7a"
   },
   "outputs": [
    {
     "name": "stdout",
     "output_type": "stream",
     "text": [
      "['No', 'X1 transaction date', 'X2 house age', 'X3 distance to the nearest MRT station', 'X4 number of convenience stores', 'X5 latitude', 'X6 longitude', 'Y house price of unit area']\n"
     ]
    }
   ],
   "source": [
    "vars=list(df)\n",
    "print(vars)"
   ]
  },
  {
   "cell_type": "markdown",
   "metadata": {
    "id": "cV8tCrMMox_3"
   },
   "source": [
    "different ways of accessing a column from a dataframe"
   ]
  },
  {
   "cell_type": "code",
   "execution_count": 7,
   "metadata": {
    "colab": {
     "base_uri": "https://localhost:8080/"
    },
    "id": "ei5QSh46SLWv",
    "outputId": "b33da7bc-485f-46a0-e97f-ae5d061132c5"
   },
   "outputs": [
    {
     "data": {
      "text/plain": [
       "0      37.9\n",
       "1      42.2\n",
       "2      47.3\n",
       "3      54.8\n",
       "4      43.1\n",
       "       ... \n",
       "409    15.4\n",
       "410    50.0\n",
       "411    40.6\n",
       "412    52.5\n",
       "413    63.9\n",
       "Name: Y house price of unit area, Length: 414, dtype: float64"
      ]
     },
     "execution_count": 7,
     "metadata": {},
     "output_type": "execute_result"
    }
   ],
   "source": [
    "df.iloc[:,7]\n",
    "df[vars[7]]\n",
    "df['Y house price of unit area']"
   ]
  },
  {
   "cell_type": "markdown",
   "metadata": {
    "id": "h1XjInu5KzUh"
   },
   "source": [
    "## Explorative data visualization\n",
    "visualize the data with scatter plots (for the 4 X1-X6 predictors separately)"
   ]
  },
  {
   "cell_type": "code",
   "execution_count": 95,
   "metadata": {},
   "outputs": [
    {
     "data": {
      "text/html": [
       "<div>\n",
       "<style scoped>\n",
       "    .dataframe tbody tr th:only-of-type {\n",
       "        vertical-align: middle;\n",
       "    }\n",
       "\n",
       "    .dataframe tbody tr th {\n",
       "        vertical-align: top;\n",
       "    }\n",
       "\n",
       "    .dataframe thead th {\n",
       "        text-align: right;\n",
       "    }\n",
       "</style>\n",
       "<table border=\"1\" class=\"dataframe\">\n",
       "  <thead>\n",
       "    <tr style=\"text-align: right;\">\n",
       "      <th></th>\n",
       "      <th>Y house price of unit area</th>\n",
       "    </tr>\n",
       "  </thead>\n",
       "  <tbody>\n",
       "    <tr>\n",
       "      <th>X3 distance to the nearest MRT station</th>\n",
       "      <td>-0.673613</td>\n",
       "    </tr>\n",
       "    <tr>\n",
       "      <th>X2 house age</th>\n",
       "      <td>-0.210567</td>\n",
       "    </tr>\n",
       "    <tr>\n",
       "      <th>X1 transaction date</th>\n",
       "      <td>0.087491</td>\n",
       "    </tr>\n",
       "    <tr>\n",
       "      <th>X6 longitude</th>\n",
       "      <td>0.523287</td>\n",
       "    </tr>\n",
       "    <tr>\n",
       "      <th>X5 latitude</th>\n",
       "      <td>0.546307</td>\n",
       "    </tr>\n",
       "    <tr>\n",
       "      <th>X4 number of convenience stores</th>\n",
       "      <td>0.571005</td>\n",
       "    </tr>\n",
       "  </tbody>\n",
       "</table>\n",
       "</div>"
      ],
      "text/plain": [
       "                                        Y house price of unit area\n",
       "X3 distance to the nearest MRT station                   -0.673613\n",
       "X2 house age                                             -0.210567\n",
       "X1 transaction date                                       0.087491\n",
       "X6 longitude                                              0.523287\n",
       "X5 latitude                                               0.546307\n",
       "X4 number of convenience stores                           0.571005"
      ]
     },
     "execution_count": 95,
     "metadata": {},
     "output_type": "execute_result"
    }
   ],
   "source": [
    "y_name = \"Y house price of unit area\"\n",
    "x_names = list(df.drop([\"No\",y_name], axis = 1))\n",
    "\n",
    "df.drop(\"No\", axis = 1).corr()[[y_name]].sort_values(y_name).drop(y_name,axis = 0)"
   ]
  },
  {
   "cell_type": "code",
   "execution_count": 98,
   "metadata": {},
   "outputs": [
    {
     "data": {
      "image/png": "[encoded data removed]",
      "text/plain": [
       "<Figure size 864x864 with 6 Axes>"
      ]
     },
     "metadata": {
      "needs_background": "light"
     },
     "output_type": "display_data"
    }
   ],
   "source": [
    "plt.subplots(3, 2, figsize = (12, 12), sharey = True)\n",
    "plt.suptitle(y_name)\n",
    "\n",
    "for i, x_name in enumerate(x_names):\n",
    "    plt.subplot(3, 2, i + 1)\n",
    "    plt.scatter(x = df[x_name], y = df[y_name])\n",
    "    plt.xlabel(x_name)"
   ]
  },
  {
   "cell_type": "markdown",
   "metadata": {
    "id": "S0nDPDZDpQeS"
   },
   "source": [
    "## Correlation between predictors"
   ]
  },
  {
   "cell_type": "code",
   "execution_count": 99,
   "metadata": {
    "id": "iRFEY8I0pThq"
   },
   "outputs": [
    {
     "data": {
      "text/html": [
       "<div>\n",
       "<style scoped>\n",
       "    .dataframe tbody tr th:only-of-type {\n",
       "        vertical-align: middle;\n",
       "    }\n",
       "\n",
       "    .dataframe tbody tr th {\n",
       "        vertical-align: top;\n",
       "    }\n",
       "\n",
       "    .dataframe thead th {\n",
       "        text-align: right;\n",
       "    }\n",
       "</style>\n",
       "<table border=\"1\" class=\"dataframe\">\n",
       "  <thead>\n",
       "    <tr style=\"text-align: right;\">\n",
       "      <th></th>\n",
       "      <th>X1 transaction date</th>\n",
       "      <th>X2 house age</th>\n",
       "      <th>X3 distance to the nearest MRT station</th>\n",
       "      <th>X4 number of convenience stores</th>\n",
       "      <th>X5 latitude</th>\n",
       "      <th>X6 longitude</th>\n",
       "    </tr>\n",
       "  </thead>\n",
       "  <tbody>\n",
       "    <tr>\n",
       "      <th>X1 transaction date</th>\n",
       "      <td>1.00</td>\n",
       "      <td>0.02</td>\n",
       "      <td>0.06</td>\n",
       "      <td>0.01</td>\n",
       "      <td>0.04</td>\n",
       "      <td>-0.04</td>\n",
       "    </tr>\n",
       "    <tr>\n",
       "      <th>X2 house age</th>\n",
       "      <td>0.02</td>\n",
       "      <td>1.00</td>\n",
       "      <td>0.03</td>\n",
       "      <td>0.05</td>\n",
       "      <td>0.05</td>\n",
       "      <td>-0.05</td>\n",
       "    </tr>\n",
       "    <tr>\n",
       "      <th>X3 distance to the nearest MRT station</th>\n",
       "      <td>0.06</td>\n",
       "      <td>0.03</td>\n",
       "      <td>1.00</td>\n",
       "      <td>-0.60</td>\n",
       "      <td>-0.59</td>\n",
       "      <td>-0.81</td>\n",
       "    </tr>\n",
       "    <tr>\n",
       "      <th>X4 number of convenience stores</th>\n",
       "      <td>0.01</td>\n",
       "      <td>0.05</td>\n",
       "      <td>-0.60</td>\n",
       "      <td>1.00</td>\n",
       "      <td>0.44</td>\n",
       "      <td>0.45</td>\n",
       "    </tr>\n",
       "    <tr>\n",
       "      <th>X5 latitude</th>\n",
       "      <td>0.04</td>\n",
       "      <td>0.05</td>\n",
       "      <td>-0.59</td>\n",
       "      <td>0.44</td>\n",
       "      <td>1.00</td>\n",
       "      <td>0.41</td>\n",
       "    </tr>\n",
       "    <tr>\n",
       "      <th>X6 longitude</th>\n",
       "      <td>-0.04</td>\n",
       "      <td>-0.05</td>\n",
       "      <td>-0.81</td>\n",
       "      <td>0.45</td>\n",
       "      <td>0.41</td>\n",
       "      <td>1.00</td>\n",
       "    </tr>\n",
       "  </tbody>\n",
       "</table>\n",
       "</div>"
      ],
      "text/plain": [
       "                                        X1 transaction date  X2 house age  \\\n",
       "X1 transaction date                                    1.00          0.02   \n",
       "X2 house age                                           0.02          1.00   \n",
       "X3 distance to the nearest MRT station                 0.06          0.03   \n",
       "X4 number of convenience stores                        0.01          0.05   \n",
       "X5 latitude                                            0.04          0.05   \n",
       "X6 longitude                                          -0.04         -0.05   \n",
       "\n",
       "                                        X3 distance to the nearest MRT station  \\\n",
       "X1 transaction date                                                       0.06   \n",
       "X2 house age                                                              0.03   \n",
       "X3 distance to the nearest MRT station                                    1.00   \n",
       "X4 number of convenience stores                                          -0.60   \n",
       "X5 latitude                                                              -0.59   \n",
       "X6 longitude                                                             -0.81   \n",
       "\n",
       "                                        X4 number of convenience stores  \\\n",
       "X1 transaction date                                                0.01   \n",
       "X2 house age                                                       0.05   \n",
       "X3 distance to the nearest MRT station                            -0.60   \n",
       "X4 number of convenience stores                                    1.00   \n",
       "X5 latitude                                                        0.44   \n",
       "X6 longitude                                                       0.45   \n",
       "\n",
       "                                        X5 latitude  X6 longitude  \n",
       "X1 transaction date                            0.04         -0.04  \n",
       "X2 house age                                   0.05         -0.05  \n",
       "X3 distance to the nearest MRT station        -0.59         -0.81  \n",
       "X4 number of convenience stores                0.44          0.45  \n",
       "X5 latitude                                    1.00          0.41  \n",
       "X6 longitude                                   0.41          1.00  "
      ]
     },
     "execution_count": 99,
     "metadata": {},
     "output_type": "execute_result"
    }
   ],
   "source": [
    "df[x_names].corr().round(2)"
   ]
  },
  {
   "cell_type": "code",
   "execution_count": 89,
   "metadata": {},
   "outputs": [
    {
     "data": {
      "text/plain": [
       "<AxesSubplot:>"
      ]
     },
     "execution_count": 89,
     "metadata": {},
     "output_type": "execute_result"
    },
    {
     "data": {
      "image/png": "[encoded data removed]",
      "text/plain": [
       "<Figure size 432x432 with 2 Axes>"
      ]
     },
     "metadata": {
      "needs_background": "light"
     },
     "output_type": "display_data"
    }
   ],
   "source": [
    "import seaborn as sns\n",
    "\n",
    "plt.figure(figsize = (6, 6))\n",
    "sns.heatmap(df[x_names].corr(), square = True)"
   ]
  },
  {
   "cell_type": "markdown",
   "metadata": {
    "id": "KuK97ytCp_cG"
   },
   "source": [
    "## Linear regression with a single predictor\n",
    "using the sklearn library\n",
    "\n",
    "now we use only one predictor, that is house age, to predict aparment price\n"
   ]
  },
  {
   "cell_type": "markdown",
   "metadata": {
    "id": "GxsIZSinqK-j"
   },
   "source": [
    "sklearn uses an \"object oriented\" programming style\n",
    "\n",
    "that is a slightly different syntax form numpy,matplotlib\n",
    "\n",
    "(but somewhat similar to pandas, a pandas dataframe is an object)"
   ]
  },
  {
   "cell_type": "markdown",
   "metadata": {
    "id": "tMnfA_5bq4xs"
   },
   "source": [
    "fitting the regression model"
   ]
  },
  {
   "cell_type": "markdown",
   "metadata": {
    "id": "TlMFt_w4q7Dv"
   },
   "source": [
    "check fitted parameters intercept and coefs"
   ]
  },
  {
   "cell_type": "code",
   "execution_count": 115,
   "metadata": {
    "id": "TCqv6RRGqGAq"
   },
   "outputs": [
    {
     "name": "stdout",
     "output_type": "stream",
     "text": [
      "intercept = 42.4346970462629 \n",
      "slope = -0.25148841908534547\n"
     ]
    }
   ],
   "source": [
    "from sklearn.linear_model import LinearRegression\n",
    "\n",
    "x_name = \"X2 house age\"\n",
    "\n",
    "reg_lin = LinearRegression()  # we create a linear regression object\n",
    "reg_lin.fit(df[[x_name]], df[y_name])\n",
    "\n",
    "print(\"intercept =\",reg_lin.intercept_,\"\\nslope =\", reg_lin.coef_[0])"
   ]
  },
  {
   "cell_type": "markdown",
   "metadata": {
    "id": "HoYJeBe9rKjC"
   },
   "source": [
    "score-- coefficient of determination\n"
   ]
  },
  {
   "cell_type": "code",
   "execution_count": 147,
   "metadata": {
    "id": "RQUnPWyyrOtG"
   },
   "outputs": [
    {
     "data": {
      "text/plain": [
       "0.04433848097791171"
      ]
     },
     "execution_count": 147,
     "metadata": {},
     "output_type": "execute_result"
    }
   ],
   "source": [
    "# R²\n",
    "R2_reg_lin = reg_lin.score(df[[x_name]], df[y_name])\n",
    "R2_reg_lin"
   ]
  },
  {
   "cell_type": "markdown",
   "metadata": {
    "id": "eEoPYCTOsWJN"
   },
   "source": [
    "prediction of the regression model"
   ]
  },
  {
   "cell_type": "code",
   "execution_count": 117,
   "metadata": {
    "id": "8qWE0Rr_sYXE"
   },
   "outputs": [],
   "source": [
    "y_pred = reg_lin.predict(df[[x_name]])"
   ]
  },
  {
   "cell_type": "markdown",
   "metadata": {
    "id": "xFT9eswOrwLU"
   },
   "source": [
    "visualize prediction using matplotlib"
   ]
  },
  {
   "cell_type": "code",
   "execution_count": 140,
   "metadata": {
    "id": "1oZPxAGXr1n4"
   },
   "outputs": [
    {
     "data": {
      "image/png": "[encoded data removed]",
      "text/plain": [
       "<Figure size 432x288 with 1 Axes>"
      ]
     },
     "metadata": {
      "needs_background": "light"
     },
     "output_type": "display_data"
    }
   ],
   "source": [
    "plt.plot(df[[x_name]], y_pred, c = \"red\", label = \"regression line\")\n",
    "plt.scatter(df[x_name], df[y_name], alpha = 0.4, label = \"real observations\")\n",
    "plt.ylabel(y_name)\n",
    "plt.xlabel(x_name)\n",
    "plt.title(\"Model: \" + str(reg_lin)[:-2])\n",
    "plt.legend();"
   ]
  },
  {
   "cell_type": "markdown",
   "metadata": {
    "id": "V6SXo619Nn-N"
   },
   "source": [
    "## Multiple linear regression\n",
    "\n",
    "now let's use the 4 four measurements X1-X4 in a combined model\n",
    "\n",
    "for this we make a comnined predictor matrix from our original dataframe, containig only the predictors we want to use:\n",
    "\n",
    "fit multiple linear regression"
   ]
  },
  {
   "cell_type": "code",
   "execution_count": 145,
   "metadata": {
    "id": "jQ_av7DzT_xp"
   },
   "outputs": [
    {
     "name": "stdout",
     "output_type": "stream",
     "text": [
      "intercept = -11588.74780012621 \n",
      "coeffs = [ 5.77804282e+00 -2.54477973e-01 -5.51299698e-03  1.25786410e+00]\n"
     ]
    }
   ],
   "source": [
    "reg_mlin = LinearRegression()  # we create a linear regression object\n",
    "reg_mlin.fit(df[x_names[:-2]], df[y_name])\n",
    "\n",
    "print(\"intercept =\",reg_mlin.intercept_,\"\\ncoeffs =\", reg_mlin.coef_)"
   ]
  },
  {
   "cell_type": "markdown",
   "metadata": {
    "id": "zrqtLgDM8-6I"
   },
   "source": [
    "observe fitted parameters and goodness of fir\n",
    "\n",
    "compare to invidual model above"
   ]
  },
  {
   "cell_type": "code",
   "execution_count": 148,
   "metadata": {
    "id": "QBU6wPID9CPs"
   },
   "outputs": [
    {
     "data": {
      "text/plain": [
       "0.555297320736279"
      ]
     },
     "execution_count": 148,
     "metadata": {},
     "output_type": "execute_result"
    }
   ],
   "source": [
    "# R²\n",
    "R2_reg_mlin = reg_mlin.score(df[x_names[:-2]], df[y_name])\n",
    "R2_reg_mlin"
   ]
  },
  {
   "cell_type": "code",
   "execution_count": 149,
   "metadata": {
    "id": "wTj0bTfi9UJ3"
   },
   "outputs": [
    {
     "data": {
      "text/plain": [
       "0.5109588397583673"
      ]
     },
     "execution_count": 149,
     "metadata": {},
     "output_type": "execute_result"
    }
   ],
   "source": [
    "# delta R¹\n",
    "R2_reg_mlin - R2_reg_lin"
   ]
  },
  {
   "cell_type": "markdown",
   "metadata": {},
   "source": [
    "The 4 predictor model explains more variance than the previous model with a sole predictore \"House age\""
   ]
  },
  {
   "cell_type": "markdown",
   "metadata": {
    "id": "V4ioj8gpq9sL"
   },
   "source": [
    "# comparison to scipy.linalg.lstsq\n",
    "\n",
    "fit intercept parameter vs column of ones in design matrix"
   ]
  },
  {
   "cell_type": "markdown",
   "metadata": {
    "id": "wPR3uTbHSRh0"
   },
   "source": [
    "and use lstsq to fit a regression model"
   ]
  },
  {
   "cell_type": "code",
   "execution_count": null,
   "metadata": {
    "colab": {
     "base_uri": "https://localhost:8080/"
    },
    "id": "nZxjD0qnTCHW",
    "outputId": "cd836770-4df6-4fce-9dd3-954465959850"
   },
   "outputs": [
    {
     "name": "stdout",
     "output_type": "stream",
     "text": [
      "[-1.1588748e+04  5.7780000e+00 -2.5400000e-01 -6.0000000e-03\n",
      "  1.2580000e+00]\n"
     ]
    }
   ],
   "source": []
  },
  {
   "cell_type": "code",
   "execution_count": null,
   "metadata": {
    "id": "i4q6zMwqaF0E"
   },
   "outputs": [],
   "source": []
  },
  {
   "cell_type": "markdown",
   "metadata": {
    "id": "tAiw-W0i-SQj"
   },
   "source": [
    "##  feature selection\n",
    " 1. add predictors (features) one by one, use X1 only first, and add all predictors sequentially until X6, and plot the obtained score for each model (as a function of the number of predictors)\n",
    " 2. add predictors in a random order one-by-one, and plot the obtained score for each model\n",
    " 3. add predictors in the order of the absolute pearson correlation with the outcome variable Y (starting with the largest), and plot the obtained score"
   ]
  },
  {
   "cell_type": "code",
   "execution_count": null,
   "metadata": {
    "id": "OVSGSP51-fuV"
   },
   "outputs": [],
   "source": []
  },
  {
   "cell_type": "markdown",
   "metadata": {
    "id": "rFTFbyrPYrD5"
   },
   "source": [
    "## training and test set\n",
    "split that the X and Y data into 80% training and 20% test sets\n"
   ]
  },
  {
   "cell_type": "code",
   "execution_count": null,
   "metadata": {
    "id": "jgq8yoCbY7h2"
   },
   "outputs": [],
   "source": []
  },
  {
   "cell_type": "markdown",
   "metadata": {},
   "source": [
    "# test"
   ]
  },
  {
   "cell_type": "code",
   "execution_count": 6,
   "metadata": {},
   "outputs": [
    {
     "data": {
      "text/plain": [
       "array([[3, 2, 3],\n",
       "       [5, 6, 7]])"
      ]
     },
     "execution_count": 6,
     "metadata": {},
     "output_type": "execute_result"
    }
   ],
   "source": [
    "import numpy as np\n",
    "\n",
    "b = np.array([[3,2,3],[5,6,7]])\n",
    "b"
   ]
  },
  {
   "cell_type": "code",
   "execution_count": 13,
   "metadata": {},
   "outputs": [
    {
     "data": {
      "text/plain": [
       "array([6, 3, 2])"
      ]
     },
     "execution_count": 13,
     "metadata": {},
     "output_type": "execute_result"
    }
   ],
   "source": [
    "b[[1,0,0],[1,0,1]]"
   ]
  }
 ],
 "metadata": {
  "colab": {
   "name": "TewaTutorial-Regression-scikit learn.ipynb",
   "provenance": []
  },
  "kernelspec": {
   "display_name": "Python 3 (ipykernel)",
   "language": "python",
   "name": "python3"
  },
  "language_info": {
   "codemirror_mode": {
    "name": "ipython",
    "version": 3
   },
   "file_extension": ".py",
   "mimetype": "text/x-python",
   "name": "python",
   "nbconvert_exporter": "python",
   "pygments_lexer": "ipython3",
   "version": "3.9.0"
  }
 },
 "nbformat": 4,
 "nbformat_minor": 4
}
